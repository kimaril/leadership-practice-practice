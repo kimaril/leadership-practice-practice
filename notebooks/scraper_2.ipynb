{
 "cells": [
  {
   "cell_type": "code",
   "execution_count": 1,
   "metadata": {},
   "outputs": [],
   "source": "%load_ext autoreload\n%autoreload 2"
  },
  {
   "cell_type": "code",
   "execution_count": 2,
   "metadata": {
    "ExecuteTime": {
     "end_time": "2020-03-20T10:36:59.890636Z",
     "start_time": "2020-03-20T10:36:59.822329Z"
    },
    "colab": {},
    "colab_type": "code",
    "id": "k3ZINe3G6kMJ",
    "pycharm": {
     "is_executing": false
    }
   },
   "outputs": [],
   "source": "import sys\nimport json\nimport pandas as pd\nimport os\nimport time\nfrom tqdm.notebook import tqdm"
  },
  {
   "cell_type": "code",
   "execution_count": 3,
   "metadata": {},
   "outputs": [],
   "source": "src = os.path.abspath('../src')\nif src not in sys.path:\n    sys.path.append(src)\n\nfrom spider import scrap"
  },
  {
   "cell_type": "markdown",
   "metadata": {
    "colab_type": "text",
    "id": "90YKGNx96kMh"
   },
   "source": "\n# VK-APP execute stored procedure\n\n`execute.getInfo` code:\n\n```\n\nvar user = API.users.get({\"user_ids\": [Args.user], \"fields\": [\"photo_id\", \"sex\", \"has_photo\", \"photo_50\", \"photo_200_orig\", \"domain\", \"status\", \"last_seen\", \"followers_count\", \"common_count\", \"relation\", \"verified\", \"personal\", \"interests\", \"can_be_invited_group\"]});\n\nvar friends = API.firends.get({\"user_id\": Args.user, \"count\": 1000});\n\nvar followers = API.users.getFollowers({\"user_id\": Args.user, \"count\": 1000});\n\nvar groups = API.groups.get({\"user_id\": Args.user, \"extended\": 1});\n\nvar wall = API.wall.get({\"owner_id\": Args.user, \"count\": 100, \"extended\": 1});\n  \nreturn [user, friends, followers, groups, wall];```"
  },
  {
   "cell_type": "markdown",
   "metadata": {},
   "source": "%% 7356989\n%% +79023633381\n%% #Nineteen67tah"
  },
  {
   "cell_type": "code",
   "execution_count": null,
   "metadata": {
    "scrolled": true
   },
   "outputs": [
    {
     "name": "stdout",
     "output_type": "stream",
     "text": "Name of directory to save to (default 'leadership-practice-practice/data/'): vk_12_05_01\nVK Standalone App ID: 7356989\nPhone or email: +79023633381\nPassword: #Nineteen67tah\n"
    },
    {
     "name": "stderr",
     "output_type": "stream",
     "text": "  0%|          | 34/19253 [00:11<1:10:49,  4.52it/s]"
    },
    {
     "name": "stdout",
     "output_type": "stream",
     "text": "Sleep\n"
    },
    {
     "name": "stderr",
     "output_type": "stream",
     "text": "  0%|          | 63/19253 [00:23<1:27:04,  3.67it/s]"
    },
    {
     "name": "stdout",
     "output_type": "stream",
     "text": "Sleep\n"
    },
    {
     "name": "stderr",
     "output_type": "stream",
     "text": "  0%|          | 87/19253 [00:32<2:02:15,  2.61it/s]"
    },
    {
     "name": "stdout",
     "output_type": "stream",
     "text": "Sleep\n"
    },
    {
     "name": "stderr",
     "output_type": "stream",
     "text": "  1%|          | 107/19253 [00:41<55:32,  5.75it/s]  "
    },
    {
     "name": "stdout",
     "output_type": "stream",
     "text": "Sleep\nSleep\n"
    },
    {
     "name": "stderr",
     "output_type": "stream",
     "text": "  1%|          | 117/19253 [00:46<1:47:11,  2.98it/s]"
    },
    {
     "name": "stdout",
     "output_type": "stream",
     "text": "Sleep\n"
    },
    {
     "name": "stderr",
     "output_type": "stream",
     "text": "  1%|          | 140/19253 [00:55<1:53:10,  2.81it/s]"
    },
    {
     "name": "stdout",
     "output_type": "stream",
     "text": "Sleep\n"
    },
    {
     "name": "stderr",
     "output_type": "stream",
     "text": "  1%|          | 160/19253 [01:04<1:28:26,  3.60it/s]"
    },
    {
     "name": "stdout",
     "output_type": "stream",
     "text": "Sleep\n"
    },
    {
     "name": "stderr",
     "output_type": "stream",
     "text": "  1%|          | 169/19253 [01:07<1:07:29,  4.71it/s]"
    },
    {
     "name": "stdout",
     "output_type": "stream",
     "text": "Sleep\n"
    },
    {
     "name": "stderr",
     "output_type": "stream",
     "text": "  1%|          | 197/19253 [01:19<2:01:45,  2.61it/s]"
    },
    {
     "name": "stdout",
     "output_type": "stream",
     "text": "Sleep\n"
    },
    {
     "name": "stderr",
     "output_type": "stream",
     "text": "  1%|          | 200/19253 [01:22<3:29:15,  1.52it/s]"
    }
   ],
   "source": "scrap()"
  },
  {
   "cell_type": "code",
   "execution_count": null,
   "metadata": {},
   "outputs": [],
   "source": ""
  }
 ],
 "metadata": {
  "colab": {
   "name": "vk_api_scrap.ipynb",
   "provenance": []
  },
  "hide_input": false,
  "kernelspec": {
   "display_name": "auto-ru",
   "language": "python",
   "name": "auto-ru"
  },
  "language_info": {
   "codemirror_mode": {
    "name": "ipython",
    "version": 3
   },
   "file_extension": ".py",
   "mimetype": "text/x-python",
   "name": "python",
   "nbconvert_exporter": "python",
   "pygments_lexer": "ipython3",
   "version": "3.6.9"
  },
  "latex_envs": {
   "LaTeX_envs_menu_present": true,
   "autoclose": false,
   "autocomplete": true,
   "bibliofile": "biblio.bib",
   "cite_by": "apalike",
   "current_citInitial": 1,
   "eqLabelWithNumbers": true,
   "eqNumInitial": 1,
   "hotkeys": {
    "equation": "Ctrl-E",
    "itemize": "Ctrl-I"
   },
   "labels_anchors": false,
   "latex_user_defs": false,
   "report_style_numbering": false,
   "user_envs_cfg": false
  },
  "pycharm": {
   "stem_cell": {
    "cell_type": "raw",
    "metadata": {
     "collapsed": false
    },
    "source": []
   }
  },
  "toc": {
   "base_numbering": 1,
   "nav_menu": {},
   "number_sections": true,
   "sideBar": true,
   "skip_h1_title": false,
   "title_cell": "Table of Contents",
   "title_sidebar": "Contents",
   "toc_cell": false,
   "toc_position": {},
   "toc_section_display": true,
   "toc_window_display": false
  },
  "widgets": {
   "application/vnd.jupyter.widget-state+json": {
    "state": {},
    "version_major": 2,
    "version_minor": 0
   }
  }
 },
 "nbformat": 4,
 "nbformat_minor": 1
}
