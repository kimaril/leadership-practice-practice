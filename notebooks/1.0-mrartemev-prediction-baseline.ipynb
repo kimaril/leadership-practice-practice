{
 "cells": [
  {
   "cell_type": "code",
   "execution_count": 1,
   "metadata": {},
   "outputs": [
    {
     "name": "stderr",
     "output_type": "stream",
     "text": [
      "/home/kim/leadership-practice-practice/lib/python3.7/site-packages/pandas/compat/__init__.py:85: UserWarning: Could not import the lzma module. Your installed Python is incomplete. Attempting to use lzma compression will result in a RuntimeError.\n",
      "  warnings.warn(msg)\n",
      "/home/kim/leadership-practice-practice/lib/python3.7/site-packages/pandas/compat/__init__.py:85: UserWarning: Could not import the lzma module. Your installed Python is incomplete. Attempting to use lzma compression will result in a RuntimeError.\n",
      "  warnings.warn(msg)\n"
     ]
    }
   ],
   "source": [
    "import pandas as pd\n",
    "import numpy as np\n",
    "import matplotlib.pyplot as plt\n",
    "%matplotlib inline"
   ]
  },
  {
   "cell_type": "code",
   "execution_count": 7,
   "metadata": {},
   "outputs": [],
   "source": [
    "posts = pd.read_csv('../data/raw_data/posts.csv')\n",
    "users = pd.read_csv('../data/raw_data/users.csv')"
   ]
  },
  {
   "cell_type": "code",
   "execution_count": 8,
   "metadata": {
    "scrolled": true
   },
   "outputs": [
    {
     "data": {
      "text/html": [
       "<div>\n",
       "<style scoped>\n",
       "    .dataframe tbody tr th:only-of-type {\n",
       "        vertical-align: middle;\n",
       "    }\n",
       "\n",
       "    .dataframe tbody tr th {\n",
       "        vertical-align: top;\n",
       "    }\n",
       "\n",
       "    .dataframe thead th {\n",
       "        text-align: right;\n",
       "    }\n",
       "</style>\n",
       "<table border=\"1\" class=\"dataframe\">\n",
       "  <thead>\n",
       "    <tr style=\"text-align: right;\">\n",
       "      <th></th>\n",
       "      <th>uid</th>\n",
       "      <th>first_name</th>\n",
       "      <th>last_name</th>\n",
       "      <th>sex</th>\n",
       "      <th>is_leader</th>\n",
       "    </tr>\n",
       "  </thead>\n",
       "  <tbody>\n",
       "    <tr>\n",
       "      <th>7642</th>\n",
       "      <td>1770555</td>\n",
       "      <td>Мария                                         ...</td>\n",
       "      <td>Рожниковская</td>\n",
       "      <td>1</td>\n",
       "      <td>0</td>\n",
       "    </tr>\n",
       "    <tr>\n",
       "      <th>24839</th>\n",
       "      <td>255200769</td>\n",
       "      <td>Дмитрий                                       ...</td>\n",
       "      <td>Рекрут</td>\n",
       "      <td>2</td>\n",
       "      <td>0</td>\n",
       "    </tr>\n",
       "    <tr>\n",
       "      <th>13828</th>\n",
       "      <td>4527423</td>\n",
       "      <td>Алина                                         ...</td>\n",
       "      <td>Басова</td>\n",
       "      <td>1</td>\n",
       "      <td>0</td>\n",
       "    </tr>\n",
       "    <tr>\n",
       "      <th>33272</th>\n",
       "      <td>3709472</td>\n",
       "      <td>Данил                                         ...</td>\n",
       "      <td>Асфандияров</td>\n",
       "      <td>2</td>\n",
       "      <td>0</td>\n",
       "    </tr>\n",
       "    <tr>\n",
       "      <th>15046</th>\n",
       "      <td>1885594</td>\n",
       "      <td>Полина                                        ...</td>\n",
       "      <td>Петрова</td>\n",
       "      <td>1</td>\n",
       "      <td>0</td>\n",
       "    </tr>\n",
       "  </tbody>\n",
       "</table>\n",
       "</div>"
      ],
      "text/plain": [
       "             uid                                         first_name  \\\n",
       "7642     1770555  Мария                                         ...   \n",
       "24839  255200769  Дмитрий                                       ...   \n",
       "13828    4527423  Алина                                         ...   \n",
       "33272    3709472  Данил                                         ...   \n",
       "15046    1885594  Полина                                        ...   \n",
       "\n",
       "          last_name  sex  is_leader  \n",
       "7642   Рожниковская    1          0  \n",
       "24839        Рекрут    2          0  \n",
       "13828        Басова    1          0  \n",
       "33272   Асфандияров    2          0  \n",
       "15046       Петрова    1          0  "
      ]
     },
     "execution_count": 8,
     "metadata": {},
     "output_type": "execute_result"
    }
   ],
   "source": [
    "users.sample(5)"
   ]
  },
  {
   "cell_type": "code",
   "execution_count": 9,
   "metadata": {},
   "outputs": [
    {
     "data": {
      "text/html": [
       "<div>\n",
       "<style scoped>\n",
       "    .dataframe tbody tr th:only-of-type {\n",
       "        vertical-align: middle;\n",
       "    }\n",
       "\n",
       "    .dataframe tbody tr th {\n",
       "        vertical-align: top;\n",
       "    }\n",
       "\n",
       "    .dataframe thead th {\n",
       "        text-align: right;\n",
       "    }\n",
       "</style>\n",
       "<table border=\"1\" class=\"dataframe\">\n",
       "  <thead>\n",
       "    <tr style=\"text-align: right;\">\n",
       "      <th></th>\n",
       "      <th>from_id</th>\n",
       "      <th>owner_id</th>\n",
       "      <th>text</th>\n",
       "      <th>comments</th>\n",
       "      <th>likes</th>\n",
       "      <th>reposts</th>\n",
       "    </tr>\n",
       "  </thead>\n",
       "  <tbody>\n",
       "    <tr>\n",
       "      <th>3266546</th>\n",
       "      <td>68310465</td>\n",
       "      <td>68310465</td>\n",
       "      <td>Скоро новый год, ёлка,запах мандаринов и подар...</td>\n",
       "      <td>0</td>\n",
       "      <td>14</td>\n",
       "      <td>0</td>\n",
       "    </tr>\n",
       "    <tr>\n",
       "      <th>561369</th>\n",
       "      <td>83895043</td>\n",
       "      <td>83895043</td>\n",
       "      <td>😘😘😘😘    М   О   С   К   О   В   С   К   И   Й ...</td>\n",
       "      <td>0</td>\n",
       "      <td>6</td>\n",
       "      <td>0</td>\n",
       "    </tr>\n",
       "    <tr>\n",
       "      <th>1875428</th>\n",
       "      <td>233195399</td>\n",
       "      <td>233195399</td>\n",
       "      <td>Кикимора повержена! Отметь мой успех и получи ...</td>\n",
       "      <td>0</td>\n",
       "      <td>3</td>\n",
       "      <td>0</td>\n",
       "    </tr>\n",
       "    <tr>\n",
       "      <th>2099666</th>\n",
       "      <td>500909</td>\n",
       "      <td>500909</td>\n",
       "      <td>Поддержим!</td>\n",
       "      <td>0</td>\n",
       "      <td>11</td>\n",
       "      <td>1</td>\n",
       "    </tr>\n",
       "    <tr>\n",
       "      <th>1912779</th>\n",
       "      <td>162807927</td>\n",
       "      <td>162807927</td>\n",
       "      <td>Новость от Валерия Анашвили:\\nГРЭМ ХАРМАН. Имм...</td>\n",
       "      <td>0</td>\n",
       "      <td>4</td>\n",
       "      <td>0</td>\n",
       "    </tr>\n",
       "  </tbody>\n",
       "</table>\n",
       "</div>"
      ],
      "text/plain": [
       "           from_id   owner_id  \\\n",
       "3266546   68310465   68310465   \n",
       "561369    83895043   83895043   \n",
       "1875428  233195399  233195399   \n",
       "2099666     500909     500909   \n",
       "1912779  162807927  162807927   \n",
       "\n",
       "                                                      text  comments  likes  \\\n",
       "3266546  Скоро новый год, ёлка,запах мандаринов и подар...         0     14   \n",
       "561369   😘😘😘😘    М   О   С   К   О   В   С   К   И   Й ...         0      6   \n",
       "1875428  Кикимора повержена! Отметь мой успех и получи ...         0      3   \n",
       "2099666                                         Поддержим!         0     11   \n",
       "1912779  Новость от Валерия Анашвили:\\nГРЭМ ХАРМАН. Имм...         0      4   \n",
       "\n",
       "         reposts  \n",
       "3266546        0  \n",
       "561369         0  \n",
       "1875428        0  \n",
       "2099666        1  \n",
       "1912779        0  "
      ]
     },
     "execution_count": 9,
     "metadata": {},
     "output_type": "execute_result"
    }
   ],
   "source": [
    "posts.sample(5)"
   ]
  },
  {
   "cell_type": "code",
   "execution_count": 10,
   "metadata": {},
   "outputs": [],
   "source": [
    "valid_users = np.unique(users['uid'])"
   ]
  },
  {
   "cell_type": "code",
   "execution_count": 11,
   "metadata": {},
   "outputs": [],
   "source": [
    "posts = posts[posts['from_id'].isin(valid_users)]\n",
    "posts['text'] = posts['text'].astype('str')\n",
    "data = posts.groupby(['from_id'], sort=True).agg({'text': ' '.join,\n",
    "                                                  'comments': 'sum',\n",
    "                                                  'likes': 'sum',\n",
    "                                                  'reposts': 'sum'})"
   ]
  },
  {
   "cell_type": "code",
   "execution_count": 12,
   "metadata": {},
   "outputs": [],
   "source": [
    "users.index = users.uid\n",
    "users.drop('uid', axis=1, inplace=True)"
   ]
  },
  {
   "cell_type": "code",
   "execution_count": 13,
   "metadata": {},
   "outputs": [],
   "source": [
    "data['is_leader'] = users.loc[data.index]['is_leader']"
   ]
  },
  {
   "cell_type": "code",
   "execution_count": 14,
   "metadata": {},
   "outputs": [],
   "source": [
    "X = data.drop('is_leader', axis=1)\n",
    "Y = data['is_leader'].values"
   ]
  },
  {
   "cell_type": "code",
   "execution_count": 16,
   "metadata": {},
   "outputs": [
    {
     "name": "stderr",
     "output_type": "stream",
     "text": [
      "/home/kim/leadership-practice-practice/lib/python3.7/site-packages/sklearn/linear_model/logistic.py:432: FutureWarning: Default solver will be changed to 'lbfgs' in 0.22. Specify a solver to silence this warning.\n",
      "  FutureWarning)\n"
     ]
    },
    {
     "data": {
      "text/plain": [
       "LogisticRegression(C=1.0, class_weight=None, dual=False, fit_intercept=True,\n",
       "                   intercept_scaling=1, l1_ratio=None, max_iter=100,\n",
       "                   multi_class='warn', n_jobs=None, penalty='l2',\n",
       "                   random_state=None, solver='warn', tol=0.0001, verbose=0,\n",
       "                   warm_start=False)"
      ]
     },
     "execution_count": 16,
     "metadata": {},
     "output_type": "execute_result"
    }
   ],
   "source": [
    "from sklearn.feature_extraction.text import TfidfVectorizer\n",
    "from sklearn.linear_model import LogisticRegression\n",
    "\n",
    "tfidf = TfidfVectorizer()\n",
    "model = LogisticRegression()\n",
    "\n",
    "\n",
    "model.fit(tfidf.fit_transform(X['text']), Y)"
   ]
  },
  {
   "cell_type": "code",
   "execution_count": 17,
   "metadata": {},
   "outputs": [],
   "source": [
    "preds = model.predict(tfidf.transform(X['text']))"
   ]
  },
  {
   "cell_type": "code",
   "execution_count": 18,
   "metadata": {},
   "outputs": [],
   "source": [
    "submission = pd.DataFrame({'is_leader':preds}, index=X.index)\n",
    "\n",
    "submission.to_csv('../data/submission/train_submission.csv')"
   ]
  }
 ],
 "metadata": {
  "kernelspec": {
   "display_name": "leadership",
   "language": "python",
   "name": "leadership"
  },
  "language_info": {
   "codemirror_mode": {
    "name": "ipython",
    "version": 3
   },
   "file_extension": ".py",
   "mimetype": "text/x-python",
   "name": "python",
   "nbconvert_exporter": "python",
   "pygments_lexer": "ipython3",
   "version": "3.7.2"
  },
  "varInspector": {
   "cols": {
    "lenName": 16,
    "lenType": 16,
    "lenVar": 40
   },
   "kernels_config": {
    "python": {
     "delete_cmd_postfix": "",
     "delete_cmd_prefix": "del ",
     "library": "var_list.py",
     "varRefreshCmd": "print(var_dic_list())"
    },
    "r": {
     "delete_cmd_postfix": ") ",
     "delete_cmd_prefix": "rm(",
     "library": "var_list.r",
     "varRefreshCmd": "cat(var_dic_list()) "
    }
   },
   "types_to_exclude": [
    "module",
    "function",
    "builtin_function_or_method",
    "instance",
    "_Feature"
   ],
   "window_display": false
  }
 },
 "nbformat": 4,
 "nbformat_minor": 2
}
