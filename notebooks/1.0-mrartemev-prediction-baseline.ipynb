{
 "cells": [
  {
   "cell_type": "code",
   "execution_count": 1,
   "metadata": {},
   "outputs": [],
   "source": [
    "import pandas as pd\n",
    "import numpy as np\n",
    "import matplotlib.pyplot as plt\n",
    "%matplotlib inline"
   ]
  },
  {
   "cell_type": "code",
   "execution_count": 2,
   "metadata": {},
   "outputs": [],
   "source": [
    "posts = pd.read_csv('../data/raw_data/posts.csv')\n",
    "users = pd.read_csv('../data/raw_data/users.csv')"
   ]
  },
  {
   "cell_type": "code",
   "execution_count": 3,
   "metadata": {
    "scrolled": true
   },
   "outputs": [
    {
     "data": {
      "text/html": [
       "<div>\n",
       "<style scoped>\n",
       "    .dataframe tbody tr th:only-of-type {\n",
       "        vertical-align: middle;\n",
       "    }\n",
       "\n",
       "    .dataframe tbody tr th {\n",
       "        vertical-align: top;\n",
       "    }\n",
       "\n",
       "    .dataframe thead th {\n",
       "        text-align: right;\n",
       "    }\n",
       "</style>\n",
       "<table border=\"1\" class=\"dataframe\">\n",
       "  <thead>\n",
       "    <tr style=\"text-align: right;\">\n",
       "      <th></th>\n",
       "      <th>uid</th>\n",
       "      <th>first_name</th>\n",
       "      <th>last_name</th>\n",
       "      <th>sex</th>\n",
       "      <th>is_leader</th>\n",
       "    </tr>\n",
       "  </thead>\n",
       "  <tbody>\n",
       "    <tr>\n",
       "      <th>21196</th>\n",
       "      <td>228795784</td>\n",
       "      <td>Ruslan                                        ...</td>\n",
       "      <td>Zeinalov</td>\n",
       "      <td>2</td>\n",
       "      <td>0</td>\n",
       "    </tr>\n",
       "    <tr>\n",
       "      <th>3406</th>\n",
       "      <td>164117746</td>\n",
       "      <td>Димка                                         ...</td>\n",
       "      <td>Саранцев</td>\n",
       "      <td>2</td>\n",
       "      <td>0</td>\n",
       "    </tr>\n",
       "    <tr>\n",
       "      <th>25195</th>\n",
       "      <td>10629862</td>\n",
       "      <td>Анна                                          ...</td>\n",
       "      <td>Якобсон</td>\n",
       "      <td>1</td>\n",
       "      <td>0</td>\n",
       "    </tr>\n",
       "    <tr>\n",
       "      <th>28242</th>\n",
       "      <td>256404793</td>\n",
       "      <td>Qis-Beach                                     ...</td>\n",
       "      <td>Club</td>\n",
       "      <td>2</td>\n",
       "      <td>0</td>\n",
       "    </tr>\n",
       "    <tr>\n",
       "      <th>13454</th>\n",
       "      <td>1748226</td>\n",
       "      <td>Денис                                         ...</td>\n",
       "      <td>Зайцев</td>\n",
       "      <td>2</td>\n",
       "      <td>0</td>\n",
       "    </tr>\n",
       "  </tbody>\n",
       "</table>\n",
       "</div>"
      ],
      "text/plain": [
       "             uid                                         first_name last_name  \\\n",
       "21196  228795784  Ruslan                                        ...  Zeinalov   \n",
       "3406   164117746  Димка                                         ...  Саранцев   \n",
       "25195   10629862  Анна                                          ...   Якобсон   \n",
       "28242  256404793  Qis-Beach                                     ...      Club   \n",
       "13454    1748226  Денис                                         ...    Зайцев   \n",
       "\n",
       "       sex  is_leader  \n",
       "21196    2          0  \n",
       "3406     2          0  \n",
       "25195    1          0  \n",
       "28242    2          0  \n",
       "13454    2          0  "
      ]
     },
     "execution_count": 3,
     "metadata": {},
     "output_type": "execute_result"
    }
   ],
   "source": [
    "users.sample(5)"
   ]
  },
  {
   "cell_type": "code",
   "execution_count": 4,
   "metadata": {},
   "outputs": [
    {
     "data": {
      "text/html": [
       "<div>\n",
       "<style scoped>\n",
       "    .dataframe tbody tr th:only-of-type {\n",
       "        vertical-align: middle;\n",
       "    }\n",
       "\n",
       "    .dataframe tbody tr th {\n",
       "        vertical-align: top;\n",
       "    }\n",
       "\n",
       "    .dataframe thead th {\n",
       "        text-align: right;\n",
       "    }\n",
       "</style>\n",
       "<table border=\"1\" class=\"dataframe\">\n",
       "  <thead>\n",
       "    <tr style=\"text-align: right;\">\n",
       "      <th></th>\n",
       "      <th>from_id</th>\n",
       "      <th>owner_id</th>\n",
       "      <th>text</th>\n",
       "      <th>comments</th>\n",
       "      <th>likes</th>\n",
       "      <th>reposts</th>\n",
       "    </tr>\n",
       "  </thead>\n",
       "  <tbody>\n",
       "    <tr>\n",
       "      <th>1185082</th>\n",
       "      <td>138247</td>\n",
       "      <td>3855514</td>\n",
       "      <td>прошла неделя....))))</td>\n",
       "      <td>2</td>\n",
       "      <td>0</td>\n",
       "      <td>0</td>\n",
       "    </tr>\n",
       "    <tr>\n",
       "      <th>3010642</th>\n",
       "      <td>2501214</td>\n",
       "      <td>2501214</td>\n",
       "      <td>Ik wil een kus een ik wil je zoenen... Hahah S...</td>\n",
       "      <td>0</td>\n",
       "      <td>0</td>\n",
       "      <td>0</td>\n",
       "    </tr>\n",
       "    <tr>\n",
       "      <th>837362</th>\n",
       "      <td>4894406</td>\n",
       "      <td>4894406</td>\n",
       "      <td>Я НЕ ИЩУ СВОЮ ВТОРУЮ ПОЛОВИНКУ..ПРОСТО Я РОДИЛ...</td>\n",
       "      <td>0</td>\n",
       "      <td>0</td>\n",
       "      <td>0</td>\n",
       "    </tr>\n",
       "    <tr>\n",
       "      <th>2407680</th>\n",
       "      <td>6376837</td>\n",
       "      <td>5305976</td>\n",
       "      <td>Ксюш,спасибо за все!)было оооочень круто)еще п...</td>\n",
       "      <td>1</td>\n",
       "      <td>1</td>\n",
       "      <td>0</td>\n",
       "    </tr>\n",
       "    <tr>\n",
       "      <th>3693849</th>\n",
       "      <td>7523812</td>\n",
       "      <td>7523812</td>\n",
       "      <td>Доброе утро Москва рабочая! До скорой встречи,...</td>\n",
       "      <td>0</td>\n",
       "      <td>13</td>\n",
       "      <td>0</td>\n",
       "    </tr>\n",
       "  </tbody>\n",
       "</table>\n",
       "</div>"
      ],
      "text/plain": [
       "         from_id  owner_id                                               text  \\\n",
       "1185082   138247   3855514                              прошла неделя....))))   \n",
       "3010642  2501214   2501214  Ik wil een kus een ik wil je zoenen... Hahah S...   \n",
       "837362   4894406   4894406  Я НЕ ИЩУ СВОЮ ВТОРУЮ ПОЛОВИНКУ..ПРОСТО Я РОДИЛ...   \n",
       "2407680  6376837   5305976  Ксюш,спасибо за все!)было оооочень круто)еще п...   \n",
       "3693849  7523812   7523812  Доброе утро Москва рабочая! До скорой встречи,...   \n",
       "\n",
       "         comments  likes  reposts  \n",
       "1185082         2      0        0  \n",
       "3010642         0      0        0  \n",
       "837362          0      0        0  \n",
       "2407680         1      1        0  \n",
       "3693849         0     13        0  "
      ]
     },
     "execution_count": 4,
     "metadata": {},
     "output_type": "execute_result"
    }
   ],
   "source": [
    "posts.sample(5)"
   ]
  },
  {
   "cell_type": "code",
   "execution_count": 5,
   "metadata": {},
   "outputs": [],
   "source": [
    "valid_users = np.unique(users['uid'])"
   ]
  },
  {
   "cell_type": "code",
   "execution_count": 6,
   "metadata": {},
   "outputs": [],
   "source": [
    "posts = posts[posts['from_id'].isin(valid_users)]\n",
    "posts['text'] = posts['text'].astype('str')\n",
    "data = posts.groupby(['from_id'], sort=True).agg({'text': ' '.join,\n",
    "                                                  'comments': 'sum',\n",
    "                                                  'likes': 'sum',\n",
    "                                                  'reposts': 'sum'})"
   ]
  },
  {
   "cell_type": "code",
   "execution_count": 7,
   "metadata": {},
   "outputs": [],
   "source": [
    "users.index = users.uid\n",
    "users.drop('uid', axis=1, inplace=True)"
   ]
  },
  {
   "cell_type": "code",
   "execution_count": 8,
   "metadata": {},
   "outputs": [],
   "source": [
    "data['is_leader'] = users.loc[data.index]['is_leader']"
   ]
  },
  {
   "cell_type": "code",
   "execution_count": 9,
   "metadata": {},
   "outputs": [],
   "source": [
    "X = data.drop('is_leader', axis=1)\n",
    "Y = data['is_leader'].values"
   ]
  },
  {
   "cell_type": "code",
   "execution_count": 10,
   "metadata": {},
   "outputs": [
    {
     "data": {
      "text/plain": [
       "LogisticRegression(C=1.0, class_weight=None, dual=False, fit_intercept=True,\n",
       "                   intercept_scaling=1, l1_ratio=None, max_iter=100,\n",
       "                   multi_class='auto', n_jobs=None, penalty='l2',\n",
       "                   random_state=None, solver='lbfgs', tol=0.0001, verbose=0,\n",
       "                   warm_start=False)"
      ]
     },
     "execution_count": 10,
     "metadata": {},
     "output_type": "execute_result"
    }
   ],
   "source": [
    "from sklearn.feature_extraction.text import TfidfVectorizer\n",
    "from sklearn.linear_model import LogisticRegression\n",
    "\n",
    "tfidf = TfidfVectorizer()\n",
    "model = LogisticRegression()\n",
    "\n",
    "\n",
    "model.fit(tfidf.fit_transform(X['text']), Y)"
   ]
  },
  {
   "cell_type": "code",
   "execution_count": 11,
   "metadata": {},
   "outputs": [],
   "source": [
    "preds = model.predict(tfidf.transform(X['text']))"
   ]
  },
  {
   "cell_type": "code",
   "execution_count": 12,
   "metadata": {},
   "outputs": [],
   "source": [
    "submission = pd.DataFrame({'is_leader':preds}, index=X.index)\n",
    "\n",
    "submission.to_csv('../data/submission/train_submission.csv')"
   ]
  }
 ],
 "metadata": {
  "kernelspec": {
   "display_name": "leadership",
   "language": "python",
   "name": "leadership"
  },
  "language_info": {
   "codemirror_mode": {
    "name": "ipython",
    "version": 3
   },
   "file_extension": ".py",
   "mimetype": "text/x-python",
   "name": "python",
   "nbconvert_exporter": "python",
   "pygments_lexer": "ipython3",
   "version": "3.6.9"
  },
  "varInspector": {
   "cols": {
    "lenName": 16,
    "lenType": 16,
    "lenVar": 40
   },
   "kernels_config": {
    "python": {
     "delete_cmd_postfix": "",
     "delete_cmd_prefix": "del ",
     "library": "var_list.py",
     "varRefreshCmd": "print(var_dic_list())"
    },
    "r": {
     "delete_cmd_postfix": ") ",
     "delete_cmd_prefix": "rm(",
     "library": "var_list.r",
     "varRefreshCmd": "cat(var_dic_list()) "
    }
   },
   "types_to_exclude": [
    "module",
    "function",
    "builtin_function_or_method",
    "instance",
    "_Feature"
   ],
   "window_display": false
  }
 },
 "nbformat": 4,
 "nbformat_minor": 2
}
