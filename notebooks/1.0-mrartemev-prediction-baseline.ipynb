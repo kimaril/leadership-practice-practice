{
 "cells": [
  {
   "cell_type": "code",
   "execution_count": 2,
   "metadata": {},
   "outputs": [],
   "source": [
    "import pandas as pd\n",
    "import numpy as np\n",
    "import matplotlib.pyplot as plt\n",
    "%matplotlib inline"
   ]
  },
  {
   "cell_type": "code",
   "execution_count": 3,
   "metadata": {},
   "outputs": [],
   "source": [
    "posts = pd.read_csv('../data/raw_data/posts.csv')\n",
    "users = pd.read_csv('../data/raw_data/users.csv')"
   ]
  },
  {
   "cell_type": "code",
   "execution_count": 9,
   "metadata": {},
   "outputs": [
    {
     "data": {
      "text/html": [
       "<div>\n",
       "<style scoped>\n",
       "    .dataframe tbody tr th:only-of-type {\n",
       "        vertical-align: middle;\n",
       "    }\n",
       "\n",
       "    .dataframe tbody tr th {\n",
       "        vertical-align: top;\n",
       "    }\n",
       "\n",
       "    .dataframe thead th {\n",
       "        text-align: right;\n",
       "    }\n",
       "</style>\n",
       "<table border=\"1\" class=\"dataframe\">\n",
       "  <thead>\n",
       "    <tr style=\"text-align: right;\">\n",
       "      <th></th>\n",
       "      <th>uid</th>\n",
       "      <th>first_name</th>\n",
       "      <th>last_name</th>\n",
       "      <th>sex</th>\n",
       "      <th>is_leader</th>\n",
       "    </tr>\n",
       "  </thead>\n",
       "  <tbody>\n",
       "    <tr>\n",
       "      <th>4223</th>\n",
       "      <td>250902630</td>\n",
       "      <td>Катерина                                      ...</td>\n",
       "      <td>Дмитриева</td>\n",
       "      <td>1</td>\n",
       "      <td>0</td>\n",
       "    </tr>\n",
       "    <tr>\n",
       "      <th>40065</th>\n",
       "      <td>234339819</td>\n",
       "      <td>Андрей                                        ...</td>\n",
       "      <td>Кравчук</td>\n",
       "      <td>2</td>\n",
       "      <td>0</td>\n",
       "    </tr>\n",
       "    <tr>\n",
       "      <th>34140</th>\n",
       "      <td>60462737</td>\n",
       "      <td>Наталья                                       ...</td>\n",
       "      <td>Гращенкова</td>\n",
       "      <td>1</td>\n",
       "      <td>0</td>\n",
       "    </tr>\n",
       "    <tr>\n",
       "      <th>5841</th>\n",
       "      <td>299757144</td>\n",
       "      <td>Гена                                          ...</td>\n",
       "      <td>Корбан</td>\n",
       "      <td>2</td>\n",
       "      <td>0</td>\n",
       "    </tr>\n",
       "    <tr>\n",
       "      <th>2018</th>\n",
       "      <td>23677721</td>\n",
       "      <td>Юлия                                          ...</td>\n",
       "      <td>Петрова</td>\n",
       "      <td>1</td>\n",
       "      <td>0</td>\n",
       "    </tr>\n",
       "  </tbody>\n",
       "</table>\n",
       "</div>"
      ],
      "text/plain": [
       "             uid                                         first_name  \\\n",
       "4223   250902630  Катерина                                      ...   \n",
       "40065  234339819  Андрей                                        ...   \n",
       "34140   60462737  Наталья                                       ...   \n",
       "5841   299757144  Гена                                          ...   \n",
       "2018    23677721  Юлия                                          ...   \n",
       "\n",
       "        last_name  sex  is_leader  \n",
       "4223    Дмитриева    1          0  \n",
       "40065     Кравчук    2          0  \n",
       "34140  Гращенкова    1          0  \n",
       "5841       Корбан    2          0  \n",
       "2018      Петрова    1          0  "
      ]
     },
     "execution_count": 9,
     "metadata": {},
     "output_type": "execute_result"
    }
   ],
   "source": [
    "users.sample(5)"
   ]
  },
  {
   "cell_type": "code",
   "execution_count": 10,
   "metadata": {},
   "outputs": [
    {
     "data": {
      "text/html": [
       "<div>\n",
       "<style scoped>\n",
       "    .dataframe tbody tr th:only-of-type {\n",
       "        vertical-align: middle;\n",
       "    }\n",
       "\n",
       "    .dataframe tbody tr th {\n",
       "        vertical-align: top;\n",
       "    }\n",
       "\n",
       "    .dataframe thead th {\n",
       "        text-align: right;\n",
       "    }\n",
       "</style>\n",
       "<table border=\"1\" class=\"dataframe\">\n",
       "  <thead>\n",
       "    <tr style=\"text-align: right;\">\n",
       "      <th></th>\n",
       "      <th>from_id</th>\n",
       "      <th>owner_id</th>\n",
       "      <th>text</th>\n",
       "      <th>comments</th>\n",
       "      <th>likes</th>\n",
       "      <th>reposts</th>\n",
       "    </tr>\n",
       "  </thead>\n",
       "  <tbody>\n",
       "    <tr>\n",
       "      <th>1993405</th>\n",
       "      <td>223623635</td>\n",
       "      <td>223623635</td>\n",
       "      <td>СЦЕНАРНАЯ КУХНЯ.\\n\\nТакеши Китано успешно соче...</td>\n",
       "      <td>0</td>\n",
       "      <td>25</td>\n",
       "      <td>0</td>\n",
       "    </tr>\n",
       "    <tr>\n",
       "      <th>2239427</th>\n",
       "      <td>960692</td>\n",
       "      <td>960692</td>\n",
       "      <td>А вот кому нужен котик-мягкий животик? :)</td>\n",
       "      <td>0</td>\n",
       "      <td>8</td>\n",
       "      <td>5</td>\n",
       "    </tr>\n",
       "    <tr>\n",
       "      <th>1783469</th>\n",
       "      <td>98271106</td>\n",
       "      <td>8010810</td>\n",
       "      <td>Ахуенный фристайл!!!</td>\n",
       "      <td>0</td>\n",
       "      <td>0</td>\n",
       "      <td>0</td>\n",
       "    </tr>\n",
       "    <tr>\n",
       "      <th>2354424</th>\n",
       "      <td>171567</td>\n",
       "      <td>1826463</td>\n",
       "      <td>С днем рождения!</td>\n",
       "      <td>0</td>\n",
       "      <td>0</td>\n",
       "      <td>0</td>\n",
       "    </tr>\n",
       "    <tr>\n",
       "      <th>723905</th>\n",
       "      <td>229443471</td>\n",
       "      <td>229443471</td>\n",
       "      <td>дыхание осени...</td>\n",
       "      <td>0</td>\n",
       "      <td>0</td>\n",
       "      <td>0</td>\n",
       "    </tr>\n",
       "  </tbody>\n",
       "</table>\n",
       "</div>"
      ],
      "text/plain": [
       "           from_id   owner_id  \\\n",
       "1993405  223623635  223623635   \n",
       "2239427     960692     960692   \n",
       "1783469   98271106    8010810   \n",
       "2354424     171567    1826463   \n",
       "723905   229443471  229443471   \n",
       "\n",
       "                                                      text  comments  likes  \\\n",
       "1993405  СЦЕНАРНАЯ КУХНЯ.\\n\\nТакеши Китано успешно соче...         0     25   \n",
       "2239427          А вот кому нужен котик-мягкий животик? :)         0      8   \n",
       "1783469                               Ахуенный фристайл!!!         0      0   \n",
       "2354424                                   С днем рождения!         0      0   \n",
       "723905                                    дыхание осени...         0      0   \n",
       "\n",
       "         reposts  \n",
       "1993405        0  \n",
       "2239427        5  \n",
       "1783469        0  \n",
       "2354424        0  \n",
       "723905         0  "
      ]
     },
     "execution_count": 10,
     "metadata": {},
     "output_type": "execute_result"
    }
   ],
   "source": [
    "posts.sample(5)"
   ]
  },
  {
   "cell_type": "code",
   "execution_count": 50,
   "metadata": {},
   "outputs": [],
   "source": [
    "valid_users = np.unique(users['uid'])"
   ]
  },
  {
   "cell_type": "code",
   "execution_count": 52,
   "metadata": {},
   "outputs": [
    {
     "name": "stderr",
     "output_type": "stream",
     "text": [
      "/usr/local/lib/python3.5/dist-packages/ipykernel_launcher.py:2: SettingWithCopyWarning: \n",
      "A value is trying to be set on a copy of a slice from a DataFrame.\n",
      "Try using .loc[row_indexer,col_indexer] = value instead\n",
      "\n",
      "See the caveats in the documentation: http://pandas.pydata.org/pandas-docs/stable/indexing.html#indexing-view-versus-copy\n",
      "  \n"
     ]
    }
   ],
   "source": [
    "posts = posts[posts['from_id'].isin(valid_users)]\n",
    "posts['text'] = posts['text'].astype('str')\n",
    "data = posts.groupby(['from_id'], sort=True).agg({'text': ' '.join,\n",
    "                                                  'comments': 'sum',\n",
    "                                                  'likes': 'sum',\n",
    "                                                  'reposts': 'sum'})"
   ]
  },
  {
   "cell_type": "code",
   "execution_count": 64,
   "metadata": {},
   "outputs": [],
   "source": [
    "users.index = users.uid\n",
    "users.drop('uid', axis=1, inplace=True)"
   ]
  },
  {
   "cell_type": "code",
   "execution_count": 78,
   "metadata": {},
   "outputs": [],
   "source": [
    "data['is_leader'] = users.loc[data.index]['is_leader']"
   ]
  },
  {
   "cell_type": "code",
   "execution_count": 80,
   "metadata": {},
   "outputs": [],
   "source": [
    "X = data.drop('is_leader', axis=1)\n",
    "Y = data['is_leader'].values"
   ]
  },
  {
   "cell_type": "code",
   "execution_count": 86,
   "metadata": {},
   "outputs": [],
   "source": [
    "from sklearn.feature_extraction.text import TfidfVectorizer\n",
    "from sklearn.linear_model import LogisticRegression\n",
    "\n",
    "tfidf = TfidfVectorizer()\n",
    "model = LogisticRegression()\n",
    "\n",
    "\n",
    "model.fit(tfidf.fit_transform(X['text']), Y)"
   ]
  },
  {
   "cell_type": "code",
   "execution_count": 89,
   "metadata": {},
   "outputs": [],
   "source": [
    "preds = model.predict(tfidf.transform(X['text']))"
   ]
  },
  {
   "cell_type": "code",
   "execution_count": 90,
   "metadata": {},
   "outputs": [],
   "source": [
    "submission = pd.DataFrame({'is_leader':preds}, index=X.index)\n",
    "\n",
    "submission.to_csv('../data/submission/train_submission.csv')"
   ]
  }
 ],
 "metadata": {
  "kernelspec": {
   "display_name": "Python 3",
   "language": "python",
   "name": "python3"
  },
  "language_info": {
   "codemirror_mode": {
    "name": "ipython",
    "version": 3
   },
   "file_extension": ".py",
   "mimetype": "text/x-python",
   "name": "python",
   "nbconvert_exporter": "python",
   "pygments_lexer": "ipython3",
   "version": "3.5.2"
  }
 },
 "nbformat": 4,
 "nbformat_minor": 2
}
