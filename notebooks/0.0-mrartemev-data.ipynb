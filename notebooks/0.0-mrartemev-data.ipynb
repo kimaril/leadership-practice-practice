{
 "cells": [
  {
   "cell_type": "markdown",
   "metadata": {},
   "source": [
    "Все импорты должны выполняться, особенно если вы запускаете это внутри докера"
   ]
  },
  {
   "cell_type": "code",
   "execution_count": 1,
   "metadata": {},
   "outputs": [],
   "source": [
    "%load_ext autoreload\n",
    "%autoreload 2"
   ]
  },
  {
   "cell_type": "code",
   "execution_count": 2,
   "metadata": {},
   "outputs": [
    {
     "name": "stdout",
     "output_type": "stream",
     "text": [
      "Populating the interactive namespace from numpy and matplotlib\n"
     ]
    }
   ],
   "source": [
    "%pylab inline\n",
    "%config InlineBackend.figure_format = 'retina'\n",
    "style.use('dark_background')\n",
    "from IPython.display import clear_output\n",
    "from copy import copy, deepcopy\n",
    "from tqdm import tqdm_notebook as tm\n",
    "from tqdm import trange\n",
    "from glob import glob\n",
    "import matplotlib.pyplot as plt\n",
    "%matplotlib inline\n",
    "from tqdm import tqdm_notebook\n",
    "import os\n",
    "import sys\n",
    "import warnings\n",
    "warnings.filterwarnings(\"ignore\")\n",
    "import os\n",
    "os.environ['TF_CPP_MIN_LOG_LEVEL'] = '3' "
   ]
  },
  {
   "cell_type": "code",
   "execution_count": 3,
   "metadata": {},
   "outputs": [],
   "source": [
    "import pandas as pd\n",
    "import pandas.io.sql as psql"
   ]
  },
  {
   "cell_type": "markdown",
   "metadata": {},
   "source": [
    "Вспомогательные функции для запроса данных из базы"
   ]
  },
  {
   "cell_type": "code",
   "execution_count": 4,
   "metadata": {},
   "outputs": [],
   "source": [
    "def get_conn():\n",
    "    import psycopg2 as pg\n",
    "    return pg.connect(\"dbname=vk_data user=vk_parser password=WegEWWXfedLf2YbS host=13.84.188.132\")\n",
    "\n",
    "def run_sql(query):\n",
    "    import pandas.io.sql as psql\n",
    "    res = psql.read_sql(query, get_conn())\n",
    "    try:\n",
    "        return res.set_index('uid')\n",
    "    except:\n",
    "        import warnings\n",
    "        warnings.warn(\"[run_sql] UID wasn't selected, default index used\")\n",
    "        return res\n",
    "\n",
    "def get_uid():\n",
    "    return run_sql(\"SELECT uid FROM users WHERE data_loaded\")"
   ]
  },
  {
   "cell_type": "code",
   "execution_count": 6,
   "metadata": {},
   "outputs": [
    {
     "data": {
      "text/html": [
       "<div>\n",
       "<style scoped>\n",
       "    .dataframe tbody tr th:only-of-type {\n",
       "        vertical-align: middle;\n",
       "    }\n",
       "\n",
       "    .dataframe tbody tr th {\n",
       "        vertical-align: top;\n",
       "    }\n",
       "\n",
       "    .dataframe thead th {\n",
       "        text-align: right;\n",
       "    }\n",
       "</style>\n",
       "<table border=\"1\" class=\"dataframe\">\n",
       "  <thead>\n",
       "    <tr style=\"text-align: right;\">\n",
       "      <th></th>\n",
       "      <th>table_name</th>\n",
       "    </tr>\n",
       "  </thead>\n",
       "  <tbody>\n",
       "    <tr>\n",
       "      <th>0</th>\n",
       "      <td>groups</td>\n",
       "    </tr>\n",
       "    <tr>\n",
       "      <th>1</th>\n",
       "      <td>likes</td>\n",
       "    </tr>\n",
       "    <tr>\n",
       "      <th>2</th>\n",
       "      <td>posts</td>\n",
       "    </tr>\n",
       "    <tr>\n",
       "      <th>3</th>\n",
       "      <td>users_friends</td>\n",
       "    </tr>\n",
       "    <tr>\n",
       "      <th>4</th>\n",
       "      <td>users_groups</td>\n",
       "    </tr>\n",
       "    <tr>\n",
       "      <th>5</th>\n",
       "      <td>users</td>\n",
       "    </tr>\n",
       "  </tbody>\n",
       "</table>\n",
       "</div>"
      ],
      "text/plain": [
       "      table_name\n",
       "0         groups\n",
       "1          likes\n",
       "2          posts\n",
       "3  users_friends\n",
       "4   users_groups\n",
       "5          users"
      ]
     },
     "execution_count": 6,
     "metadata": {},
     "output_type": "execute_result"
    }
   ],
   "source": [
    "# Всего у нас вот столько таблиц\n",
    "\n",
    "run_sql(\"\"\"SELECT table_name FROM information_schema.tables WHERE table_schema = 'public'\"\"\")"
   ]
  },
  {
   "cell_type": "code",
   "execution_count": 7,
   "metadata": {
    "scrolled": true
   },
   "outputs": [
    {
     "data": {
      "text/html": [
       "<div>\n",
       "<style scoped>\n",
       "    .dataframe tbody tr th:only-of-type {\n",
       "        vertical-align: middle;\n",
       "    }\n",
       "\n",
       "    .dataframe tbody tr th {\n",
       "        vertical-align: top;\n",
       "    }\n",
       "\n",
       "    .dataframe thead th {\n",
       "        text-align: right;\n",
       "    }\n",
       "</style>\n",
       "<table border=\"1\" class=\"dataframe\">\n",
       "  <thead>\n",
       "    <tr style=\"text-align: right;\">\n",
       "      <th></th>\n",
       "      <th>first_name</th>\n",
       "      <th>last_name</th>\n",
       "      <th>sex</th>\n",
       "      <th>nickname</th>\n",
       "      <th>domain</th>\n",
       "      <th>bdate</th>\n",
       "      <th>city</th>\n",
       "      <th>country</th>\n",
       "      <th>photo_50</th>\n",
       "      <th>photo_100</th>\n",
       "      <th>photo_200_orig</th>\n",
       "      <th>can_write_private_message</th>\n",
       "      <th>status</th>\n",
       "      <th>data_loaded</th>\n",
       "      <th>mobile_phone</th>\n",
       "      <th>home_phone</th>\n",
       "      <th>group_list_loaded</th>\n",
       "      <th>comments_loaded</th>\n",
       "      <th>is_leader</th>\n",
       "    </tr>\n",
       "    <tr>\n",
       "      <th>uid</th>\n",
       "      <th></th>\n",
       "      <th></th>\n",
       "      <th></th>\n",
       "      <th></th>\n",
       "      <th></th>\n",
       "      <th></th>\n",
       "      <th></th>\n",
       "      <th></th>\n",
       "      <th></th>\n",
       "      <th></th>\n",
       "      <th></th>\n",
       "      <th></th>\n",
       "      <th></th>\n",
       "      <th></th>\n",
       "      <th></th>\n",
       "      <th></th>\n",
       "      <th></th>\n",
       "      <th></th>\n",
       "      <th></th>\n",
       "    </tr>\n",
       "  </thead>\n",
       "  <tbody>\n",
       "    <tr>\n",
       "      <th>995485</th>\n",
       "      <td>Роза                                          ...</td>\n",
       "      <td>Шигабутдинова</td>\n",
       "      <td>1</td>\n",
       "      <td></td>\n",
       "      <td>id995485</td>\n",
       "      <td></td>\n",
       "      <td>1</td>\n",
       "      <td>1</td>\n",
       "      <td>https://pp.userapi.com/c849136/v849136038/154f...</td>\n",
       "      <td>https://pp.userapi.com/c849136/v849136038/154f...</td>\n",
       "      <td>https://pp.userapi.com/c849136/v849136038/154f...</td>\n",
       "      <td>1</td>\n",
       "      <td></td>\n",
       "      <td>True</td>\n",
       "      <td></td>\n",
       "      <td></td>\n",
       "      <td>True</td>\n",
       "      <td>True</td>\n",
       "      <td>0</td>\n",
       "    </tr>\n",
       "    <tr>\n",
       "      <th>1115840</th>\n",
       "      <td>Катя                                          ...</td>\n",
       "      <td>Осипова</td>\n",
       "      <td>1</td>\n",
       "      <td>(Рыбакова)</td>\n",
       "      <td>id1115840</td>\n",
       "      <td></td>\n",
       "      <td>1</td>\n",
       "      <td>1</td>\n",
       "      <td>https://pp.userapi.com/c621927/v621927840/34ab...</td>\n",
       "      <td>https://pp.userapi.com/c621927/v621927840/34ab...</td>\n",
       "      <td>https://pp.userapi.com/c621927/v621927840/34ab...</td>\n",
       "      <td>0</td>\n",
       "      <td>В ожидание крепчает характер, слабеет надежда ...</td>\n",
       "      <td>True</td>\n",
       "      <td></td>\n",
       "      <td></td>\n",
       "      <td>True</td>\n",
       "      <td>True</td>\n",
       "      <td>0</td>\n",
       "    </tr>\n",
       "    <tr>\n",
       "      <th>1315096</th>\n",
       "      <td>Анна                                          ...</td>\n",
       "      <td>Фицева</td>\n",
       "      <td>1</td>\n",
       "      <td></td>\n",
       "      <td>ficeva</td>\n",
       "      <td>21.5</td>\n",
       "      <td>1</td>\n",
       "      <td>1</td>\n",
       "      <td>https://pp.userapi.com/c1618/u1315096/e_76bc2b...</td>\n",
       "      <td>https://pp.userapi.com/c1618/u1315096/d_ebb139...</td>\n",
       "      <td>https://pp.userapi.com/c1618/u1315096/a_2a2ce3...</td>\n",
       "      <td>1</td>\n",
       "      <td></td>\n",
       "      <td>True</td>\n",
       "      <td></td>\n",
       "      <td></td>\n",
       "      <td>True</td>\n",
       "      <td>True</td>\n",
       "      <td>0</td>\n",
       "    </tr>\n",
       "    <tr>\n",
       "      <th>1349356</th>\n",
       "      <td>Аким                                          ...</td>\n",
       "      <td>Люльков</td>\n",
       "      <td>2</td>\n",
       "      <td></td>\n",
       "      <td>id1349356</td>\n",
       "      <td>12.7.1990</td>\n",
       "      <td>16972</td>\n",
       "      <td>1</td>\n",
       "      <td>https://pp.userapi.com/c637118/v637118356/392b...</td>\n",
       "      <td>https://pp.userapi.com/c637118/v637118356/392b...</td>\n",
       "      <td>https://pp.userapi.com/c637118/v637118356/392b...</td>\n",
       "      <td>1</td>\n",
       "      <td>и пусть задумается враг...</td>\n",
       "      <td>True</td>\n",
       "      <td></td>\n",
       "      <td></td>\n",
       "      <td>True</td>\n",
       "      <td>True</td>\n",
       "      <td>0</td>\n",
       "    </tr>\n",
       "    <tr>\n",
       "      <th>1397615</th>\n",
       "      <td>Виктория                                      ...</td>\n",
       "      <td>Баранова</td>\n",
       "      <td>1</td>\n",
       "      <td></td>\n",
       "      <td>baranova_viktoria</td>\n",
       "      <td>2.8</td>\n",
       "      <td>1</td>\n",
       "      <td>1</td>\n",
       "      <td>https://sun9-1.userapi.com/c845017/v845017086/...</td>\n",
       "      <td>https://pp.userapi.com/c845017/v845017086/2068...</td>\n",
       "      <td>https://pp.userapi.com/c845017/v845017086/2068...</td>\n",
       "      <td>1</td>\n",
       "      <td>У людей внутри чертовы галактики, а вы их по в...</td>\n",
       "      <td>True</td>\n",
       "      <td></td>\n",
       "      <td></td>\n",
       "      <td>True</td>\n",
       "      <td>True</td>\n",
       "      <td>0</td>\n",
       "    </tr>\n",
       "    <tr>\n",
       "      <th>...</th>\n",
       "      <td>...</td>\n",
       "      <td>...</td>\n",
       "      <td>...</td>\n",
       "      <td>...</td>\n",
       "      <td>...</td>\n",
       "      <td>...</td>\n",
       "      <td>...</td>\n",
       "      <td>...</td>\n",
       "      <td>...</td>\n",
       "      <td>...</td>\n",
       "      <td>...</td>\n",
       "      <td>...</td>\n",
       "      <td>...</td>\n",
       "      <td>...</td>\n",
       "      <td>...</td>\n",
       "      <td>...</td>\n",
       "      <td>...</td>\n",
       "      <td>...</td>\n",
       "      <td>...</td>\n",
       "    </tr>\n",
       "    <tr>\n",
       "      <th>238186536</th>\n",
       "      <td>Наташа                                        ...</td>\n",
       "      <td>Горовец</td>\n",
       "      <td>1</td>\n",
       "      <td></td>\n",
       "      <td>nata_gorovets</td>\n",
       "      <td>1.10.1985</td>\n",
       "      <td>1</td>\n",
       "      <td>1</td>\n",
       "      <td>https://pp.userapi.com/c852220/v852220201/f611...</td>\n",
       "      <td>https://pp.userapi.com/c852220/v852220201/f611...</td>\n",
       "      <td>https://pp.userapi.com/c852220/v852220201/f611...</td>\n",
       "      <td>0</td>\n",
       "      <td></td>\n",
       "      <td>True</td>\n",
       "      <td></td>\n",
       "      <td></td>\n",
       "      <td>True</td>\n",
       "      <td>True</td>\n",
       "      <td>0</td>\n",
       "    </tr>\n",
       "    <tr>\n",
       "      <th>369870</th>\n",
       "      <td>Кристина                                      ...</td>\n",
       "      <td>Зайцева</td>\n",
       "      <td>1</td>\n",
       "      <td></td>\n",
       "      <td>id369870</td>\n",
       "      <td>4.5</td>\n",
       "      <td>0</td>\n",
       "      <td>0</td>\n",
       "      <td>https://pp.userapi.com/c636724/v636724870/2478...</td>\n",
       "      <td>https://pp.userapi.com/c636724/v636724870/2478...</td>\n",
       "      <td>https://pp.userapi.com/c636724/v636724870/2478...</td>\n",
       "      <td>0</td>\n",
       "      <td>http://instagram.com/zaykakristina</td>\n",
       "      <td>True</td>\n",
       "      <td></td>\n",
       "      <td></td>\n",
       "      <td>True</td>\n",
       "      <td>True</td>\n",
       "      <td>0</td>\n",
       "    </tr>\n",
       "    <tr>\n",
       "      <th>521862</th>\n",
       "      <td>Александр                                     ...</td>\n",
       "      <td>Жилин</td>\n",
       "      <td>2</td>\n",
       "      <td></td>\n",
       "      <td>id521862</td>\n",
       "      <td>9.6</td>\n",
       "      <td>49</td>\n",
       "      <td>1</td>\n",
       "      <td>https://pp.userapi.com/c637830/v637830862/47ff...</td>\n",
       "      <td>https://pp.userapi.com/c637830/v637830862/47ff...</td>\n",
       "      <td>https://pp.userapi.com/c637830/v637830862/47ff...</td>\n",
       "      <td>1</td>\n",
       "      <td></td>\n",
       "      <td>True</td>\n",
       "      <td></td>\n",
       "      <td></td>\n",
       "      <td>True</td>\n",
       "      <td>True</td>\n",
       "      <td>0</td>\n",
       "    </tr>\n",
       "    <tr>\n",
       "      <th>629166</th>\n",
       "      <td>Елена                                         ...</td>\n",
       "      <td>Сапрыкина</td>\n",
       "      <td>1</td>\n",
       "      <td></td>\n",
       "      <td>id629166</td>\n",
       "      <td></td>\n",
       "      <td>1</td>\n",
       "      <td>1</td>\n",
       "      <td>https://pp.userapi.com/c623631/v623631166/3d64...</td>\n",
       "      <td>https://pp.userapi.com/c623631/v623631166/3d64...</td>\n",
       "      <td>https://pp.userapi.com/c623631/v623631166/3d64...</td>\n",
       "      <td>1</td>\n",
       "      <td>http://vsks.ru/</td>\n",
       "      <td>True</td>\n",
       "      <td></td>\n",
       "      <td></td>\n",
       "      <td>True</td>\n",
       "      <td>True</td>\n",
       "      <td>0</td>\n",
       "    </tr>\n",
       "    <tr>\n",
       "      <th>760400</th>\n",
       "      <td>Viacheslav                                    ...</td>\n",
       "      <td>Kokh</td>\n",
       "      <td>2</td>\n",
       "      <td></td>\n",
       "      <td>savva87</td>\n",
       "      <td>20.9</td>\n",
       "      <td>1</td>\n",
       "      <td>1</td>\n",
       "      <td>https://pp.userapi.com/c625327/v625327400/2746...</td>\n",
       "      <td>https://pp.userapi.com/c625327/v625327400/2746...</td>\n",
       "      <td>https://pp.userapi.com/c625327/v625327400/2745...</td>\n",
       "      <td>1</td>\n",
       "      <td></td>\n",
       "      <td>True</td>\n",
       "      <td></td>\n",
       "      <td></td>\n",
       "      <td>True</td>\n",
       "      <td>True</td>\n",
       "      <td>0</td>\n",
       "    </tr>\n",
       "  </tbody>\n",
       "</table>\n",
       "<p>100 rows × 19 columns</p>\n",
       "</div>"
      ],
      "text/plain": [
       "                                                  first_name      last_name  \\\n",
       "uid                                                                           \n",
       "995485     Роза                                          ...  Шигабутдинова   \n",
       "1115840    Катя                                          ...        Осипова   \n",
       "1315096    Анна                                          ...         Фицева   \n",
       "1349356    Аким                                          ...        Люльков   \n",
       "1397615    Виктория                                      ...       Баранова   \n",
       "...                                                      ...            ...   \n",
       "238186536  Наташа                                        ...        Горовец   \n",
       "369870     Кристина                                      ...        Зайцева   \n",
       "521862     Александр                                     ...          Жилин   \n",
       "629166     Елена                                         ...      Сапрыкина   \n",
       "760400     Viacheslav                                    ...           Kokh   \n",
       "\n",
       "           sex    nickname             domain      bdate   city  country  \\\n",
       "uid                                                                        \n",
       "995485       1                       id995485                 1        1   \n",
       "1115840      1  (Рыбакова)          id1115840                 1        1   \n",
       "1315096      1                         ficeva       21.5      1        1   \n",
       "1349356      2                      id1349356  12.7.1990  16972        1   \n",
       "1397615      1              baranova_viktoria        2.8      1        1   \n",
       "...        ...         ...                ...        ...    ...      ...   \n",
       "238186536    1                  nata_gorovets  1.10.1985      1        1   \n",
       "369870       1                       id369870        4.5      0        0   \n",
       "521862       2                       id521862        9.6     49        1   \n",
       "629166       1                       id629166                 1        1   \n",
       "760400       2                        savva87       20.9      1        1   \n",
       "\n",
       "                                                    photo_50  \\\n",
       "uid                                                            \n",
       "995485     https://pp.userapi.com/c849136/v849136038/154f...   \n",
       "1115840    https://pp.userapi.com/c621927/v621927840/34ab...   \n",
       "1315096    https://pp.userapi.com/c1618/u1315096/e_76bc2b...   \n",
       "1349356    https://pp.userapi.com/c637118/v637118356/392b...   \n",
       "1397615    https://sun9-1.userapi.com/c845017/v845017086/...   \n",
       "...                                                      ...   \n",
       "238186536  https://pp.userapi.com/c852220/v852220201/f611...   \n",
       "369870     https://pp.userapi.com/c636724/v636724870/2478...   \n",
       "521862     https://pp.userapi.com/c637830/v637830862/47ff...   \n",
       "629166     https://pp.userapi.com/c623631/v623631166/3d64...   \n",
       "760400     https://pp.userapi.com/c625327/v625327400/2746...   \n",
       "\n",
       "                                                   photo_100  \\\n",
       "uid                                                            \n",
       "995485     https://pp.userapi.com/c849136/v849136038/154f...   \n",
       "1115840    https://pp.userapi.com/c621927/v621927840/34ab...   \n",
       "1315096    https://pp.userapi.com/c1618/u1315096/d_ebb139...   \n",
       "1349356    https://pp.userapi.com/c637118/v637118356/392b...   \n",
       "1397615    https://pp.userapi.com/c845017/v845017086/2068...   \n",
       "...                                                      ...   \n",
       "238186536  https://pp.userapi.com/c852220/v852220201/f611...   \n",
       "369870     https://pp.userapi.com/c636724/v636724870/2478...   \n",
       "521862     https://pp.userapi.com/c637830/v637830862/47ff...   \n",
       "629166     https://pp.userapi.com/c623631/v623631166/3d64...   \n",
       "760400     https://pp.userapi.com/c625327/v625327400/2746...   \n",
       "\n",
       "                                              photo_200_orig  \\\n",
       "uid                                                            \n",
       "995485     https://pp.userapi.com/c849136/v849136038/154f...   \n",
       "1115840    https://pp.userapi.com/c621927/v621927840/34ab...   \n",
       "1315096    https://pp.userapi.com/c1618/u1315096/a_2a2ce3...   \n",
       "1349356    https://pp.userapi.com/c637118/v637118356/392b...   \n",
       "1397615    https://pp.userapi.com/c845017/v845017086/2068...   \n",
       "...                                                      ...   \n",
       "238186536  https://pp.userapi.com/c852220/v852220201/f611...   \n",
       "369870     https://pp.userapi.com/c636724/v636724870/2478...   \n",
       "521862     https://pp.userapi.com/c637830/v637830862/47ff...   \n",
       "629166     https://pp.userapi.com/c623631/v623631166/3d64...   \n",
       "760400     https://pp.userapi.com/c625327/v625327400/2745...   \n",
       "\n",
       "           can_write_private_message  \\\n",
       "uid                                    \n",
       "995485                             1   \n",
       "1115840                            0   \n",
       "1315096                            1   \n",
       "1349356                            1   \n",
       "1397615                            1   \n",
       "...                              ...   \n",
       "238186536                          0   \n",
       "369870                             0   \n",
       "521862                             1   \n",
       "629166                             1   \n",
       "760400                             1   \n",
       "\n",
       "                                                      status  data_loaded  \\\n",
       "uid                                                                         \n",
       "995485                                                               True   \n",
       "1115840    В ожидание крепчает характер, слабеет надежда ...         True   \n",
       "1315096                                                              True   \n",
       "1349356                           и пусть задумается враг...         True   \n",
       "1397615    У людей внутри чертовы галактики, а вы их по в...         True   \n",
       "...                                                      ...          ...   \n",
       "238186536                                                            True   \n",
       "369870                    http://instagram.com/zaykakristina         True   \n",
       "521862                                                               True   \n",
       "629166                                       http://vsks.ru/         True   \n",
       "760400                                                               True   \n",
       "\n",
       "          mobile_phone home_phone  group_list_loaded  comments_loaded  \\\n",
       "uid                                                                     \n",
       "995485                                          True             True   \n",
       "1115840                                         True             True   \n",
       "1315096                                         True             True   \n",
       "1349356                                         True             True   \n",
       "1397615                                         True             True   \n",
       "...                ...        ...                ...              ...   \n",
       "238186536                                       True             True   \n",
       "369870                                          True             True   \n",
       "521862                                          True             True   \n",
       "629166                                          True             True   \n",
       "760400                                          True             True   \n",
       "\n",
       "           is_leader  \n",
       "uid                   \n",
       "995485             0  \n",
       "1115840            0  \n",
       "1315096            0  \n",
       "1349356            0  \n",
       "1397615            0  \n",
       "...              ...  \n",
       "238186536          0  \n",
       "369870             0  \n",
       "521862             0  \n",
       "629166             0  \n",
       "760400             0  \n",
       "\n",
       "[100 rows x 19 columns]"
      ]
     },
     "execution_count": 7,
     "metadata": {},
     "output_type": "execute_result"
    }
   ],
   "source": [
    "run_sql(\"Select * FROM users where data_loaded limit 100\")"
   ]
  },
  {
   "cell_type": "code",
   "execution_count": 9,
   "metadata": {},
   "outputs": [],
   "source": [
    "users = run_sql(\"\"\"Select uid, first_name, last_name, sex, is_leader \n",
    "                FROM users \n",
    "                where data_loaded and group_list_loaded and comments_loaded\"\"\")\n",
    "\n",
    "users.to_csv('../data/raw_data/users.csv', index=True)"
   ]
  },
  {
   "cell_type": "code",
   "execution_count": null,
   "metadata": {
    "scrolled": true
   },
   "outputs": [],
   "source": [
    "run_sql(\"\"\"Select * \n",
    "           FROM groups \n",
    "           limit 5\"\"\")"
   ]
  },
  {
   "cell_type": "code",
   "execution_count": null,
   "metadata": {},
   "outputs": [],
   "source": [
    "df = run_sql(\"\"\"Select gid, name, screen_name \n",
    "                FROM groups \n",
    "                where is_closed = 0\"\"\")\n",
    "\n",
    "df.to_csv('../data/raw_data/groups.csv', index=False)"
   ]
  },
  {
   "cell_type": "code",
   "execution_count": null,
   "metadata": {},
   "outputs": [],
   "source": [
    "run_sql(\"\"\"Select * \n",
    "           FROM likes \n",
    "           limit 5\"\"\")"
   ]
  },
  {
   "cell_type": "code",
   "execution_count": null,
   "metadata": {},
   "outputs": [],
   "source": [
    "df = run_sql(\"\"\"Select owner_id, user_id \n",
    "                FROM likes\"\"\")\n",
    "\n",
    "df = df.groupby('owner_id', as_index=False).agg('count')\n",
    "df.to_csv('../data/raw_data/likes.csv', index=False)"
   ]
  },
  {
   "cell_type": "code",
   "execution_count": null,
   "metadata": {},
   "outputs": [],
   "source": [
    "run_sql(\"\"\"Select * \n",
    "           FROM users_friends \n",
    "           limit 5\"\"\")"
   ]
  },
  {
   "cell_type": "code",
   "execution_count": null,
   "metadata": {},
   "outputs": [],
   "source": [
    "df = run_sql(\"\"\"Select uid1, count(uid2) \n",
    "                FROM users_friends\n",
    "                group by uid1\"\"\")\n"
   ]
  },
  {
   "cell_type": "code",
   "execution_count": null,
   "metadata": {},
   "outputs": [],
   "source": [
    "df.to_csv('../data/raw_data/friends.csv', index=False)"
   ]
  },
  {
   "cell_type": "code",
   "execution_count": null,
   "metadata": {},
   "outputs": [],
   "source": [
    "run_sql(\"\"\"Select * \n",
    "           FROM users_groups \n",
    "           limit 5\"\"\")"
   ]
  },
  {
   "cell_type": "code",
   "execution_count": null,
   "metadata": {},
   "outputs": [],
   "source": [
    "df = run_sql(\"\"\"Select * \n",
    "                FROM users_groups \n",
    "             \"\"\")"
   ]
  },
  {
   "cell_type": "code",
   "execution_count": null,
   "metadata": {},
   "outputs": [],
   "source": [
    "df.to_csv('../data/raw_data/users_groups.csv', index=False)"
   ]
  },
  {
   "cell_type": "code",
   "execution_count": null,
   "metadata": {
    "scrolled": true
   },
   "outputs": [],
   "source": [
    "run_sql(\"\"\"Select * \n",
    "           FROM posts\n",
    "           where text <> ''\n",
    "           limit 5\n",
    "        \"\"\")"
   ]
  },
  {
   "cell_type": "code",
   "execution_count": 27,
   "metadata": {},
   "outputs": [],
   "source": [
    "from tqdm import tqdm\n",
    "\n",
    "total = 8982138\n",
    "def dict2int(x):\n",
    "    return x['count']\n",
    "\n",
    "# posts = []\n",
    "\n",
    "# for i in tqdm(range((total//1000000) + 1)):\n",
    "\n",
    "#     df = run_sql(\"\"\"Select from_id, owner_id, text, comments, likes, reposts\n",
    "#                     FROM posts\n",
    "#                     where text <> '' and likes_loaded\n",
    "#                     limit 1000000 offset {}\n",
    "#                  \"\"\".format(i*1000000))\n",
    "\n",
    "#     df['comments'] = df['comments'].apply(dict2int).astype(np.int32)\n",
    "#     df['likes'] = df['likes'].apply(dict2int).astype(np.int32)\n",
    "#     df['reposts'] = df['reposts'].apply(dict2int).astype(np.int32)\n",
    "#     posts.append(df)\n",
    "\n",
    "# df = pd.concat(posts).drop_duplicates()\n",
    "# df.to_csv('../data/raw_data/posts.csv', index=False)"
   ]
  },
  {
   "cell_type": "code",
   "execution_count": null,
   "metadata": {},
   "outputs": [],
   "source": [
    "df"
   ]
  },
  {
   "cell_type": "code",
   "execution_count": null,
   "metadata": {},
   "outputs": [],
   "source": [
    "df = pd.concat(posts)\n",
    "df.drop_duplicates(inplace=True)"
   ]
  },
  {
   "cell_type": "code",
   "execution_count": null,
   "metadata": {},
   "outputs": [],
   "source": [
    "df.shape"
   ]
  },
  {
   "cell_type": "code",
   "execution_count": null,
   "metadata": {},
   "outputs": [],
   "source": [
    "df.iloc[df.comments.argmax()].text"
   ]
  },
  {
   "cell_type": "code",
   "execution_count": null,
   "metadata": {},
   "outputs": [],
   "source": [
    "df.shape"
   ]
  },
  {
   "cell_type": "code",
   "execution_count": null,
   "metadata": {},
   "outputs": [],
   "source": [
    "df.to_csv('../data/raw_data/posts_1kk.csv', index=False)"
   ]
  },
  {
   "cell_type": "code",
   "execution_count": null,
   "metadata": {},
   "outputs": [],
   "source": [
    "# from psycopg2 import sql\n",
    "\n",
    "# conn = get_conn()\n",
    "# cur = conn.cursor()\n",
    "\n",
    "# cur.execute(\n",
    "#     sql.SQL(\"ALTER TABLE {} DROP COLUMN is_leader\")\n",
    "#         .format(sql.Identifier('users')))\n",
    "# conn.commit()\n",
    "\n"
   ]
  },
  {
   "cell_type": "code",
   "execution_count": null,
   "metadata": {},
   "outputs": [],
   "source": [
    "# # Добавляем новую колонку напрямую в базу\n",
    "\n",
    "\n",
    "# from psycopg2 import sql\n",
    "\n",
    "# conn = get_conn()\n",
    "# cur = conn.cursor()\n",
    "\n",
    "# cur.execute(\n",
    "#     sql.SQL(\"ALTER TABLE {} ADD COLUMN is_leader INT\")\n",
    "#         .format(sql.Identifier('users')))\n",
    "# conn.commit()\n"
   ]
  },
  {
   "cell_type": "code",
   "execution_count": null,
   "metadata": {},
   "outputs": [],
   "source": [
    "# # Допустим теперь для каждого юзера у нас появились предсказания, запишем их в сабмишн файл \n",
    "\n",
    "# ids = get_uid()\n",
    "# leaders = np.random.choice(list(ids.index), size=100)\n",
    "\n",
    "\n",
    "# submission = pd.DataFrame({'is_leader':np.zeros(ids.shape[0])}, index=ids.index)\n",
    "# submission.loc[leaders] = 1\n",
    "\n",
    "# submission.to_csv('../data/submission/random_submission.csv')"
   ]
  },
  {
   "cell_type": "code",
   "execution_count": null,
   "metadata": {
    "scrolled": true
   },
   "outputs": [],
   "source": [
    "# # Обновляем колонку в базе \n",
    "# # Так делать не нужно, код для Андрея\n",
    "# from tqdm import tqdm\n",
    "\n",
    "# conn = get_conn()\n",
    "# cur = conn.cursor()\n",
    "\n",
    "# cur.execute(\n",
    "#         sql.SQL(\"\"\"UPDATE {} SET is_leader = 0\"\"\")\n",
    "#     .format(sql.Identifier('users'))\n",
    "# )\n",
    "\n",
    "# leaders = submission[submission['is_leader'] == 1]\n",
    "# for uid, is_leader in tqdm(zip(leaders.index, leaders['is_leader'])):\n",
    "#     cur.execute(\n",
    "#         sql.SQL(\"\"\"UPDATE {}\n",
    "#                 SET is_leader = %s\n",
    "#                 WHERE\n",
    "#                    uid = %s;\n",
    "#                 \"\"\")\n",
    "#             .format(sql.Identifier('users')),\n",
    "#         [int(is_leader), uid])\n",
    "# conn.commit()\n"
   ]
  },
  {
   "cell_type": "markdown",
   "metadata": {},
   "source": [
    "# Smol eda"
   ]
  },
  {
   "cell_type": "code",
   "execution_count": 6,
   "metadata": {},
   "outputs": [],
   "source": [
    "tables = run_sql(\"\"\"SELECT table_name FROM information_schema.tables WHERE table_schema = 'public'\"\"\").table_name.tolist()"
   ]
  },
  {
   "cell_type": "code",
   "execution_count": 7,
   "metadata": {},
   "outputs": [
    {
     "name": "stdout",
     "output_type": "stream",
     "text": [
      "Index(['groups:gid', 'groups:name', 'groups:screen_name', 'groups:is_closed',\n",
      "       'groups:type', 'groups:photo', 'groups:photo_medium',\n",
      "       'groups:photo_big'],\n",
      "      dtype='object')\n",
      "Index(['likes:id', 'likes:owner_id', 'likes:user_id'], dtype='object')\n",
      "Index(['posts:id', 'posts:from_id', 'posts:owner_id', 'posts:date',\n",
      "       'posts:post_type', 'posts:text', 'posts:post_source', 'posts:comments',\n",
      "       'posts:is_favorite', 'posts:likes', 'posts:reposts',\n",
      "       'posts:copy_history', 'posts:attachments', 'posts:likes_loaded'],\n",
      "      dtype='object')\n",
      "Index(['users_friends:uid1', 'users_friends:uid2'], dtype='object')\n",
      "Index(['users_groups:gid'], dtype='object')\n",
      "Index(['users:first_name', 'users:last_name', 'users:sex', 'users:nickname',\n",
      "       'users:domain', 'users:bdate', 'users:city', 'users:country',\n",
      "       'users:photo_50', 'users:photo_100', 'users:photo_200_orig',\n",
      "       'users:can_write_private_message', 'users:status', 'users:data_loaded',\n",
      "       'users:mobile_phone', 'users:home_phone', 'users:group_list_loaded',\n",
      "       'users:comments_loaded', 'users:is_leader'],\n",
      "      dtype='object')\n"
     ]
    }
   ],
   "source": [
    "for t in tables:\n",
    "    print(t + ':' + run_sql(\"Select * FROM {} LIMIT 0\".format(t)).columns)"
   ]
  },
  {
   "cell_type": "code",
   "execution_count": 8,
   "metadata": {},
   "outputs": [
    {
     "ename": "NameError",
     "evalue": "name 'tqdm' is not defined",
     "output_type": "error",
     "traceback": [
      "\u001b[0;31m---------------------------------------------------------------------------\u001b[0m",
      "\u001b[0;31mNameError\u001b[0m                                 Traceback (most recent call last)",
      "\u001b[0;32m<ipython-input-8-578fd61077ad>\u001b[0m in \u001b[0;36m<module>\u001b[0;34m\u001b[0m\n\u001b[1;32m      1\u001b[0m \u001b[0mfriends\u001b[0m \u001b[0;34m=\u001b[0m \u001b[0;34m[\u001b[0m\u001b[0;34m]\u001b[0m\u001b[0;34m\u001b[0m\u001b[0;34m\u001b[0m\u001b[0m\n\u001b[0;32m----> 2\u001b[0;31m \u001b[0;32mfor\u001b[0m \u001b[0mi\u001b[0m \u001b[0;32min\u001b[0m \u001b[0mtqdm\u001b[0m\u001b[0;34m(\u001b[0m\u001b[0mrange\u001b[0m\u001b[0;34m(\u001b[0m\u001b[0;34m(\u001b[0m\u001b[0mtotal\u001b[0m\u001b[0;34m//\u001b[0m\u001b[0;36m1000000\u001b[0m\u001b[0;34m)\u001b[0m \u001b[0;34m+\u001b[0m \u001b[0;36m1\u001b[0m\u001b[0;34m)\u001b[0m\u001b[0;34m)\u001b[0m\u001b[0;34m:\u001b[0m\u001b[0;34m\u001b[0m\u001b[0;34m\u001b[0m\u001b[0m\n\u001b[0m\u001b[1;32m      3\u001b[0m     \u001b[0mdf\u001b[0m \u001b[0;34m=\u001b[0m \u001b[0mrun_sql\u001b[0m\u001b[0;34m(\u001b[0m\u001b[0;34m\"\"\"Select * FROM users_friends limit 1000000 offset {}\"\"\"\u001b[0m\u001b[0;34m.\u001b[0m\u001b[0mformat\u001b[0m\u001b[0;34m(\u001b[0m\u001b[0mi\u001b[0m\u001b[0;34m*\u001b[0m\u001b[0;36m1000000\u001b[0m\u001b[0;34m)\u001b[0m\u001b[0;34m)\u001b[0m\u001b[0;34m\u001b[0m\u001b[0;34m\u001b[0m\u001b[0m\n\u001b[1;32m      4\u001b[0m     \u001b[0mfriends\u001b[0m\u001b[0;34m.\u001b[0m\u001b[0mappend\u001b[0m\u001b[0;34m(\u001b[0m\u001b[0mdf\u001b[0m\u001b[0;34m)\u001b[0m\u001b[0;34m\u001b[0m\u001b[0;34m\u001b[0m\u001b[0m\n\u001b[1;32m      5\u001b[0m \u001b[0;34m\u001b[0m\u001b[0m\n",
      "\u001b[0;31mNameError\u001b[0m: name 'tqdm' is not defined"
     ]
    }
   ],
   "source": [
    "friends = []\n",
    "for i in tqdm(range((total//1000000) + 1)):\n",
    "    df = run_sql(\"\"\"Select * FROM users_friends limit 1000000 offset {}\"\"\".format(i*1000000))\n",
    "    friends.append(df)\n",
    "    \n",
    "users_friends = pd.concat(friends).drop_duplicates()"
   ]
  },
  {
   "cell_type": "code",
   "execution_count": 31,
   "metadata": {},
   "outputs": [],
   "source": [
    "import networkx as nx"
   ]
  },
  {
   "cell_type": "code",
   "execution_count": 32,
   "metadata": {},
   "outputs": [],
   "source": [
    "G = nx.from_edgelist(users_friends.to_records(index=False))"
   ]
  },
  {
   "cell_type": "code",
   "execution_count": 5,
   "metadata": {},
   "outputs": [
    {
     "ename": "NameError",
     "evalue": "name 'G' is not defined",
     "output_type": "error",
     "traceback": [
      "\u001b[0;31m---------------------------------------------------------------------------\u001b[0m",
      "\u001b[0;31mNameError\u001b[0m                                 Traceback (most recent call last)",
      "\u001b[0;32m<ipython-input-5-54ec01292ca8>\u001b[0m in \u001b[0;36m<module>\u001b[0;34m\u001b[0m\n\u001b[0;32m----> 1\u001b[0;31m \u001b[0mprint\u001b[0m\u001b[0;34m(\u001b[0m\u001b[0;36m2\u001b[0m\u001b[0;34m*\u001b[0m\u001b[0mG\u001b[0m\u001b[0;34m.\u001b[0m\u001b[0mnumber_of_nodes\u001b[0m\u001b[0;34m(\u001b[0m\u001b[0;34m)\u001b[0m\u001b[0;34m/\u001b[0m\u001b[0mG\u001b[0m\u001b[0;34m.\u001b[0m\u001b[0mnumber_of_edges\u001b[0m\u001b[0;34m(\u001b[0m\u001b[0;34m)\u001b[0m\u001b[0;34m**\u001b[0m\u001b[0;36m2\u001b[0m\u001b[0;34m)\u001b[0m\u001b[0;34m\u001b[0m\u001b[0;34m\u001b[0m\u001b[0m\n\u001b[0m",
      "\u001b[0;31mNameError\u001b[0m: name 'G' is not defined"
     ]
    }
   ],
   "source": [
    "print(2*G.number_of_nodes()/G.number_of_edges()**2)"
   ]
  },
  {
   "cell_type": "code",
   "execution_count": 34,
   "metadata": {},
   "outputs": [],
   "source": [
    "connected = list(nx.connected_component_subgraphs(G))"
   ]
  },
  {
   "cell_type": "code",
   "execution_count": null,
   "metadata": {},
   "outputs": [],
   "source": [
    "len(connected)"
   ]
  },
  {
   "cell_type": "code",
   "execution_count": null,
   "metadata": {
    "scrolled": true
   },
   "outputs": [],
   "source": [
    "[len(c) for c in connected]"
   ]
  },
  {
   "cell_type": "code",
   "execution_count": null,
   "metadata": {},
   "outputs": [],
   "source": [
    "for c in connected[1:]:\n",
    "    print(c)"
   ]
  },
  {
   "cell_type": "code",
   "execution_count": 40,
   "metadata": {},
   "outputs": [],
   "source": [
    "nontrivial = connected[1:]"
   ]
  },
  {
   "cell_type": "code",
   "execution_count": 35,
   "metadata": {},
   "outputs": [],
   "source": [
    "def draw_(Gk, pos, metrics, rescale_metrics=True):\n",
    "    def rescale_log(weigths_list):\n",
    "        cutoff = 1e-20\n",
    "        for _ in range(len(weigths_list)):\n",
    "            if weigths_list[_] < cutoff:\n",
    "                weigths_list[_] = cutoff\n",
    "        return 1/(np.log(np.array(weigths_list)))\n",
    "    if rescale_metrics:\n",
    "        metrics = rescale_log(metrics)\n",
    "    norm = 1000/np.max(metrics)\n",
    "    options = {\n",
    "    'with_labels':True,\n",
    "    'node_color': [v * norm for v in metrics],\n",
    "    'node_size': [v * norm for v in metrics],\n",
    "    'line_color': 'grey',\n",
    "    'linewidths': 0.5,\n",
    "    'width': 0.5,\n",
    "    'cmap': 'YlGnBu',\n",
    "    'with_labels':True\n",
    "    }\n",
    "    nx.draw(Gk, pos, **options)"
   ]
  },
  {
   "cell_type": "code",
   "execution_count": 41,
   "metadata": {},
   "outputs": [],
   "source": [
    "G_c = max(nontrivial, key=lambda x : len(x))\n",
    "pos = nx.spring_layout(G_c, iterations=200)"
   ]
  },
  {
   "cell_type": "code",
   "execution_count": 42,
   "metadata": {},
   "outputs": [
    {
     "ename": "AttributeError",
     "evalue": "module 'matplotlib.pyplot' has no attribute 'ishold'",
     "output_type": "error",
     "traceback": [
      "\u001b[0;31m---------------------------------------------------------------------------\u001b[0m",
      "\u001b[0;31mAttributeError\u001b[0m                            Traceback (most recent call last)",
      "\u001b[0;32m<ipython-input-42-c1cb93e4ad14>\u001b[0m in \u001b[0;36m<module>\u001b[0;34m\u001b[0m\n\u001b[0;32m----> 1\u001b[0;31m \u001b[0mdraw_\u001b[0m\u001b[0;34m(\u001b[0m\u001b[0mG_c\u001b[0m\u001b[0;34m,\u001b[0m \u001b[0mpos\u001b[0m\u001b[0;34m,\u001b[0m \u001b[0mmetrics\u001b[0m\u001b[0;34m=\u001b[0m\u001b[0mnp\u001b[0m\u001b[0;34m.\u001b[0m\u001b[0mones\u001b[0m\u001b[0;34m(\u001b[0m\u001b[0mshape\u001b[0m\u001b[0;34m=\u001b[0m\u001b[0;34m(\u001b[0m\u001b[0mlen\u001b[0m\u001b[0;34m(\u001b[0m\u001b[0mG_c\u001b[0m\u001b[0;34m)\u001b[0m\u001b[0;34m,\u001b[0m\u001b[0;34m)\u001b[0m\u001b[0;34m,\u001b[0m \u001b[0mdtype\u001b[0m\u001b[0;34m=\u001b[0m\u001b[0mnp\u001b[0m\u001b[0;34m.\u001b[0m\u001b[0mfloat64\u001b[0m\u001b[0;34m)\u001b[0m\u001b[0;34m)\u001b[0m\u001b[0;34m\u001b[0m\u001b[0;34m\u001b[0m\u001b[0m\n\u001b[0m",
      "\u001b[0;32m<ipython-input-35-aa6caf23a053>\u001b[0m in \u001b[0;36mdraw_\u001b[0;34m(Gk, pos, metrics, rescale_metrics)\u001b[0m\n\u001b[1;32m     19\u001b[0m     \u001b[0;34m'with_labels'\u001b[0m\u001b[0;34m:\u001b[0m\u001b[0;32mTrue\u001b[0m\u001b[0;34m\u001b[0m\u001b[0;34m\u001b[0m\u001b[0m\n\u001b[1;32m     20\u001b[0m     }\n\u001b[0;32m---> 21\u001b[0;31m     \u001b[0mnx\u001b[0m\u001b[0;34m.\u001b[0m\u001b[0mdraw\u001b[0m\u001b[0;34m(\u001b[0m\u001b[0mGk\u001b[0m\u001b[0;34m,\u001b[0m \u001b[0mpos\u001b[0m\u001b[0;34m,\u001b[0m \u001b[0;34m**\u001b[0m\u001b[0moptions\u001b[0m\u001b[0;34m)\u001b[0m\u001b[0;34m\u001b[0m\u001b[0;34m\u001b[0m\u001b[0m\n\u001b[0m",
      "\u001b[0;32m~/leadership-practice-practice/leadership/lib/python3.6/site-packages/networkx/drawing/nx_pylab.py\u001b[0m in \u001b[0;36mdraw\u001b[0;34m(G, pos, ax, hold, **kwds)\u001b[0m\n\u001b[1;32m    124\u001b[0m     \u001b[0;32mif\u001b[0m \u001b[0;34m'with_labels'\u001b[0m \u001b[0;32mnot\u001b[0m \u001b[0;32min\u001b[0m \u001b[0mkwds\u001b[0m\u001b[0;34m:\u001b[0m\u001b[0;34m\u001b[0m\u001b[0;34m\u001b[0m\u001b[0m\n\u001b[1;32m    125\u001b[0m         \u001b[0mkwds\u001b[0m\u001b[0;34m[\u001b[0m\u001b[0;34m'with_labels'\u001b[0m\u001b[0;34m]\u001b[0m \u001b[0;34m=\u001b[0m \u001b[0;32mFalse\u001b[0m\u001b[0;34m\u001b[0m\u001b[0;34m\u001b[0m\u001b[0m\n\u001b[0;32m--> 126\u001b[0;31m     \u001b[0mb\u001b[0m \u001b[0;34m=\u001b[0m \u001b[0mplt\u001b[0m\u001b[0;34m.\u001b[0m\u001b[0mishold\u001b[0m\u001b[0;34m(\u001b[0m\u001b[0;34m)\u001b[0m\u001b[0;34m\u001b[0m\u001b[0;34m\u001b[0m\u001b[0m\n\u001b[0m\u001b[1;32m    127\u001b[0m     \u001b[0mh\u001b[0m \u001b[0;34m=\u001b[0m \u001b[0mkwds\u001b[0m\u001b[0;34m.\u001b[0m\u001b[0mpop\u001b[0m\u001b[0;34m(\u001b[0m\u001b[0;34m'hold'\u001b[0m\u001b[0;34m,\u001b[0m \u001b[0;32mNone\u001b[0m\u001b[0;34m)\u001b[0m\u001b[0;34m\u001b[0m\u001b[0;34m\u001b[0m\u001b[0m\n\u001b[1;32m    128\u001b[0m     \u001b[0;32mif\u001b[0m \u001b[0mh\u001b[0m \u001b[0;32mis\u001b[0m \u001b[0;32mnot\u001b[0m \u001b[0;32mNone\u001b[0m\u001b[0;34m:\u001b[0m\u001b[0;34m\u001b[0m\u001b[0;34m\u001b[0m\u001b[0m\n",
      "\u001b[0;31mAttributeError\u001b[0m: module 'matplotlib.pyplot' has no attribute 'ishold'"
     ]
    },
    {
     "data": {
      "image/png": "[encoded data removed]",
      "text/plain": [
       "<Figure size 432x288 with 1 Axes>"
      ]
     },
     "metadata": {
      "image/png": {
       "height": 322,
       "width": 477
      }
     },
     "output_type": "display_data"
    }
   ],
   "source": [
    "draw_(G_c, pos, metrics=np.ones(shape=(len(G_c),), dtype=np.float64))"
   ]
  },
  {
   "cell_type": "code",
   "execution_count": null,
   "metadata": {},
   "outputs": [],
   "source": []
  }
 ],
 "metadata": {
  "kernelspec": {
   "display_name": "leadership",
   "language": "python",
   "name": "leadership"
  },
  "language_info": {
   "codemirror_mode": {
    "name": "ipython",
    "version": 3
   },
   "file_extension": ".py",
   "mimetype": "text/x-python",
   "name": "python",
   "nbconvert_exporter": "python",
   "pygments_lexer": "ipython3",
   "version": "3.6.9"
  },
  "varInspector": {
   "cols": {
    "lenName": 16,
    "lenType": 16,
    "lenVar": 40
   },
   "kernels_config": {
    "python": {
     "delete_cmd_postfix": "",
     "delete_cmd_prefix": "del ",
     "library": "var_list.py",
     "varRefreshCmd": "print(var_dic_list())"
    },
    "r": {
     "delete_cmd_postfix": ") ",
     "delete_cmd_prefix": "rm(",
     "library": "var_list.r",
     "varRefreshCmd": "cat(var_dic_list()) "
    }
   },
   "types_to_exclude": [
    "module",
    "function",
    "builtin_function_or_method",
    "instance",
    "_Feature"
   ],
   "window_display": false
  }
 },
 "nbformat": 4,
 "nbformat_minor": 2
}
