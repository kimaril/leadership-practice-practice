{
 "cells": [
  {
   "cell_type": "markdown",
   "metadata": {
    "colab_type": "text",
    "id": "sMdwajHybM1o"
   },
   "source": [
    "# Простая сетевая модель и метрики центральности её узлов"
   ]
  },
  {
   "cell_type": "code",
   "execution_count": 1,
   "metadata": {
    "colab": {},
    "colab_type": "code",
    "id": "EfNWJ85QbM1t"
   },
   "outputs": [],
   "source": [
    "import numpy as np\n",
    "import matplotlib.pyplot as plt\n",
    "from collections import Counter\n",
    "import networkx as nx\n",
    "from math import ceil\n",
    "from tqdm.notebook import tqdm\n",
    "import networkx as nx\n",
    "import glob\n",
    "import json\n",
    "import pandas as pd\n",
    "import seaborn as sns\n",
    "from ipywidgets import interact\n",
    "import graph_tool.all as gt\n",
    "\n",
    "%matplotlib inline"
   ]
  },
  {
   "cell_type": "code",
   "execution_count": 2,
   "metadata": {
    "scrolled": true
   },
   "outputs": [],
   "source": [
    "# files = glob.glob('../data/raw_data/vk-api-saved/*.json')\n",
    "\n",
    "# print('Number of crawled user pages: {}'.format(len(files)))\n",
    "\n",
    "# groups_list_df = []\n",
    "# walls_list_df = []\n",
    "# singleLeaders_list_df = []\n",
    "# problematique = []\n",
    "# raw = []\n",
    "\n",
    "# for fpath in tqdm(files):\n",
    "#     with open(fpath) as f:\n",
    "#         content = json.load(f)\n",
    "        \n",
    "#         if 'execute_errors' not in content:\n",
    "#             errors = [dict(method='wall.get', code='No Error'),\n",
    "#                       dict(method='groups.get', code='No Error'),\n",
    "#                       dict(method='execute.singleLeader', code='No Error')]\n",
    "#         else:\n",
    "#             errors = content['execute_errors']\n",
    "        \n",
    "#         groups = dict(id=content['response'][0][0]['id'], response=content['response'][1], \n",
    "#                       error=[e for e in errors if e['method']=='groups.get'])\n",
    "#         wall = dict(id=content['response'][0][0]['id'], response=content['response'][2], \n",
    "#                             error=[e for e in errors if e['method']=='groups.get'])\n",
    "        \n",
    "#         groups_list_df.append(groups)\n",
    "#         walls_list_df.append(wall)\n",
    "# \n",
    "# def drop_errors(df):\n",
    "#     df = df[df['error'].apply(lambda x : x[0]['error_code'] in [15, 29] \n",
    "#                               if (len(x)>0 and 'error_code' in x[0]) else True)].copy(deep=True)\n",
    "#     return df\n",
    "\n",
    "# groups_df = drop_errors(pd.DataFrame(groups_list_df))\n",
    "# walls_df = drop_errors(pd.DataFrame(walls_list_df))"
   ]
  },
  {
   "cell_type": "markdown",
   "metadata": {},
   "source": [
    "__________________________"
   ]
  },
  {
   "cell_type": "markdown",
   "metadata": {
    "colab_type": "text",
    "id": "j7OKP2dLbM16"
   },
   "source": [
    "#### Построим сеть дружеских связей. "
   ]
  },
  {
   "cell_type": "code",
   "execution_count": 25,
   "metadata": {},
   "outputs": [],
   "source": [
    "friendship_graph = nx.read_edgelist('../data/raw_data/friends.csv', delimiter=',')"
   ]
  },
  {
   "cell_type": "code",
   "execution_count": 26,
   "metadata": {
    "scrolled": true
   },
   "outputs": [
    {
     "data": {
      "application/vnd.jupyter.widget-view+json": {
       "model_id": "dd89186cfebb43e1ae6ffd75267a73b2",
       "version_major": 2,
       "version_minor": 0
      },
      "text/plain": [
       "HBox(children=(FloatProgress(value=0.0, max=9275663.0), HTML(value='')))"
      ]
     },
     "metadata": {},
     "output_type": "display_data"
    },
    {
     "name": "stdout",
     "output_type": "stream",
     "text": [
      "\n"
     ]
    }
   ],
   "source": [
    "num_introverts = sum([d==1 for n,d in tqdm(friendship_graph.degree())])"
   ]
  },
  {
   "cell_type": "code",
   "execution_count": 28,
   "metadata": {},
   "outputs": [
    {
     "data": {
      "text/plain": [
       "0.3182279724385737"
      ]
     },
     "execution_count": 28,
     "metadata": {},
     "output_type": "execute_result"
    }
   ],
   "source": [
    "num_introverts/friendship_graph.number_of_edges()"
   ]
  },
  {
   "cell_type": "code",
   "execution_count": 8,
   "metadata": {},
   "outputs": [],
   "source": [
    "density = (2*friendship_graph.number_of_edges())/(friendship_graph.number_of_nodes()**2)"
   ]
  },
  {
   "cell_type": "code",
   "execution_count": 12,
   "metadata": {
    "scrolled": false
   },
   "outputs": [
    {
     "name": "stdout",
     "output_type": "stream",
     "text": [
      "Number of edges: 19650507\n",
      "Number of vertices: 9275663\n",
      "Graph density: 4.6e-07\n"
     ]
    }
   ],
   "source": [
    "print('Number of edges: {}'.format(friendship_graph.number_of_edges()))\n",
    "print('Number of vertices: {}'.format(friendship_graph.number_of_nodes()))\n",
    "print('Graph density: {}'.format(round(density, 8)))"
   ]
  },
  {
   "cell_type": "code",
   "execution_count": 14,
   "metadata": {},
   "outputs": [],
   "source": [
    "max_connected_component = friendship_graph.subgraph(max(nx.connected_components(friendship_graph), key=lambda x : len(x)))"
   ]
  },
  {
   "cell_type": "code",
   "execution_count": 21,
   "metadata": {},
   "outputs": [],
   "source": [
    "del friendship_graph"
   ]
  },
  {
   "cell_type": "code",
   "execution_count": 22,
   "metadata": {},
   "outputs": [],
   "source": [
    "cc_nodes = max_connected_component.number_of_nodes()\n",
    "cc_edges = max_connected_component.number_of_edges()"
   ]
  },
  {
   "cell_type": "code",
   "execution_count": 24,
   "metadata": {},
   "outputs": [
    {
     "name": "stdout",
     "output_type": "stream",
     "text": [
      "Number of edges: 19650506\n",
      "Number of vertices: 9275661\n",
      "Graph density: 4.6e-07\n"
     ]
    }
   ],
   "source": [
    "cc_density = (2*cc_edges)/(cc_nodes**2)\n",
    "print('Number of edges: {}'.format(cc_edges))\n",
    "print('Number of vertices: {}'.format(cc_nodes))\n",
    "print('Graph density: {}'.format(round(cc_density, 8)))"
   ]
  },
  {
   "cell_type": "code",
   "execution_count": 5,
   "metadata": {},
   "outputs": [],
   "source": [
    "# %%time\n",
    "# friendship = gt.load_graph_from_csv('../data/raw_data/friends.csv')"
   ]
  },
  {
   "cell_type": "code",
   "execution_count": 4,
   "metadata": {
    "scrolled": false
   },
   "outputs": [
    {
     "name": "stdout",
     "output_type": "stream",
     "text": [
      "CPU times: user 1min 59s, sys: 280 ms, total: 2min\n",
      "Wall time: 16.5 s\n"
     ]
    }
   ],
   "source": [
    "%%time\n",
    "pagerank = gt.pagerank(friendship)"
   ]
  },
  {
   "cell_type": "code",
   "execution_count": 31,
   "metadata": {},
   "outputs": [],
   "source": [
    "pagerank_arr = pagerank.get_array()"
   ]
  },
  {
   "cell_type": "code",
   "execution_count": 37,
   "metadata": {},
   "outputs": [],
   "source": [
    "with open('../data/pagerank_centralities.csv', 'w', encoding='utf-8') as f:\n",
    "    pagerank_arr.tofile(f, sep=',')"
   ]
  },
  {
   "cell_type": "code",
   "execution_count": null,
   "metadata": {},
   "outputs": [],
   "source": [
    "%%time\n",
    "betweenness = gt.betweenness(friendship)"
   ]
  },
  {
   "cell_type": "code",
   "execution_count": 6,
   "metadata": {},
   "outputs": [
    {
     "name": "stdout",
     "output_type": "stream",
     "text": [
      "CPU times: user 5min 41s, sys: 568 ms, total: 5min 41s\n",
      "Wall time: 45.3 s\n"
     ]
    }
   ],
   "source": [
    "%%time\n",
    "hits = gt.hits(friendship)"
   ]
  },
  {
   "cell_type": "code",
   "execution_count": 12,
   "metadata": {},
   "outputs": [],
   "source": [
    "a = hits[-1].get_array()"
   ]
  },
  {
   "cell_type": "code",
   "execution_count": 19,
   "metadata": {},
   "outputs": [],
   "source": [
    "nonzero_hits = np.argwhere(a)"
   ]
  },
  {
   "cell_type": "code",
   "execution_count": 21,
   "metadata": {},
   "outputs": [
    {
     "data": {
      "text/plain": [
       "9275661"
      ]
     },
     "execution_count": 21,
     "metadata": {},
     "output_type": "execute_result"
    }
   ],
   "source": [
    "len(nonzero_hits)"
   ]
  },
  {
   "cell_type": "code",
   "execution_count": 23,
   "metadata": {},
   "outputs": [
    {
     "data": {
      "text/plain": [
       "39301013"
      ]
     },
     "execution_count": 23,
     "metadata": {},
     "output_type": "execute_result"
    }
   ],
   "source": [
    "friendship.num_edges()"
   ]
  },
  {
   "cell_type": "code",
   "execution_count": 24,
   "metadata": {},
   "outputs": [
    {
     "data": {
      "text/plain": [
       "9275663"
      ]
     },
     "execution_count": 24,
     "metadata": {},
     "output_type": "execute_result"
    }
   ],
   "source": [
    "friendship.num_vertices()"
   ]
  },
  {
   "cell_type": "code",
   "execution_count": 38,
   "metadata": {},
   "outputs": [],
   "source": [
    "with open('../data/hits_centralities.csv', 'w', encoding='utf-8') as f:\n",
    "    hits[-1].get_array().tofile(f, sep=',')"
   ]
  }
 ],
 "metadata": {
  "colab": {
   "name": "NS Assignment 02.ipynb",
   "provenance": []
  },
  "kernelspec": {
   "display_name": "Python 3",
   "language": "python",
   "name": "python3"
  },
  "language_info": {
   "codemirror_mode": {
    "name": "ipython",
    "version": 3
   },
   "file_extension": ".py",
   "mimetype": "text/x-python",
   "name": "python",
   "nbconvert_exporter": "python",
   "pygments_lexer": "ipython3",
   "version": "3.6.9"
  },
  "latex_envs": {
   "LaTeX_envs_menu_present": true,
   "autoclose": false,
   "autocomplete": true,
   "bibliofile": "biblio.bib",
   "cite_by": "apalike",
   "current_citInitial": 1,
   "eqLabelWithNumbers": true,
   "eqNumInitial": 1,
   "hotkeys": {
    "equation": "Ctrl-E",
    "itemize": "Ctrl-I"
   },
   "labels_anchors": false,
   "latex_user_defs": false,
   "report_style_numbering": false,
   "user_envs_cfg": false
  },
  "widgets": {
   "application/vnd.jupyter.widget-state+json": {
    "state": {
     "1089944f75e3489c9cbaf0c54674a0aa": {
      "model_module": "@jupyter-widgets/base",
      "model_module_version": "1.2.0",
      "model_name": "LayoutModel",
      "state": {}
     },
     "4909798398c8412caf50cf8d43fca29a": {
      "model_module": "@jupyter-widgets/controls",
      "model_module_version": "1.5.0",
      "model_name": "IntSliderModel",
      "state": {
       "description": "topn",
       "layout": "IPY_MODEL_1089944f75e3489c9cbaf0c54674a0aa",
       "max": 30,
       "min": 1,
       "style": "IPY_MODEL_f382b6f57abb49228ef692ca545ebf80",
       "value": 15
      }
     },
     "4ba655d83365466a948c5a39ea9f7419": {
      "model_module": "@jupyter-widgets/base",
      "model_module_version": "1.2.0",
      "model_name": "LayoutModel",
      "state": {}
     },
     "57db347e7f2749c9ba2df50c6b5cbe64": {
      "model_module": "@jupyter-widgets/base",
      "model_module_version": "1.2.0",
      "model_name": "LayoutModel",
      "state": {}
     },
     "5de2af01c0cc43a6b0782e82f7a1c138": {
      "model_module": "@jupyter-widgets/controls",
      "model_module_version": "1.5.0",
      "model_name": "DescriptionStyleModel",
      "state": {
       "description_width": ""
      }
     },
     "794f842e80554efb9b17597eb0b31e42": {
      "model_module": "@jupyter-widgets/output",
      "model_module_version": "1.0.0",
      "model_name": "OutputModel",
      "state": {
       "layout": "IPY_MODEL_4ba655d83365466a948c5a39ea9f7419",
       "outputs": [
        {
         "data": {
          "text/html": "<style  type=\"text/css\" >\n    #T_41b4c0b8_437a_11ea_b7f8_7085c23a19barow0_col6 {\n            background-color:  #9d9bd0;\n        }    #T_41b4c0b8_437a_11ea_b7f8_7085c23a19barow1_col6 {\n            background-color:  #9d9bd0;\n        }    #T_41b4c0b8_437a_11ea_b7f8_7085c23a19barow2_col6 {\n            background-color:  #9d9bd0;\n        }    #T_41b4c0b8_437a_11ea_b7f8_7085c23a19barow3_col6 {\n            background-color:  #9d9bd0;\n        }    #T_41b4c0b8_437a_11ea_b7f8_7085c23a19barow4_col6 {\n            background-color:  #9d9bd0;\n        }    #T_41b4c0b8_437a_11ea_b7f8_7085c23a19barow5_col6 {\n            background-color:  #9d9bd0;\n        }    #T_41b4c0b8_437a_11ea_b7f8_7085c23a19barow6_col6 {\n            background-color:  #9d9bd0;\n        }    #T_41b4c0b8_437a_11ea_b7f8_7085c23a19barow7_col6 {\n            background-color:  #9d9bd0;\n        }    #T_41b4c0b8_437a_11ea_b7f8_7085c23a19barow8_col6 {\n            background-color:  #9d9bd0;\n        }    #T_41b4c0b8_437a_11ea_b7f8_7085c23a19barow9_col6 {\n            background-color:  #9d9bd0;\n        }    #T_41b4c0b8_437a_11ea_b7f8_7085c23a19barow10_col6 {\n            background-color:  #9d9bd0;\n        }    #T_41b4c0b8_437a_11ea_b7f8_7085c23a19barow11_col6 {\n            background-color:  #9d9bd0;\n        }    #T_41b4c0b8_437a_11ea_b7f8_7085c23a19barow12_col6 {\n            background-color:  #9d9bd0;\n        }    #T_41b4c0b8_437a_11ea_b7f8_7085c23a19barow13_col6 {\n            background-color:  #9d9bd0;\n        }    #T_41b4c0b8_437a_11ea_b7f8_7085c23a19barow14_col6 {\n            background-color:  #9d9bd0;\n        }</style><table id=\"T_41b4c0b8_437a_11ea_b7f8_7085c23a19ba\" ><thead>    <tr>        <th class=\"blank level0\" ></th>        <th class=\"col_heading level0 col0\" >degree</th>        <th class=\"col_heading level0 col1\" >weighted_degree</th>        <th class=\"col_heading level0 col2\" >eigenvector</th>        <th class=\"col_heading level0 col3\" >closeness</th>        <th class=\"col_heading level0 col4\" >betweenness</th>        <th class=\"col_heading level0 col5\" >weighted_betweenness</th>        <th class=\"col_heading level0 col6\" >pagerank</th>    </tr></thead><tbody>\n                <tr>\n                        <th id=\"T_41b4c0b8_437a_11ea_b7f8_7085c23a19balevel0_row0\" class=\"row_heading level0 row0\" >Jon Snow</th>\n                        <td id=\"T_41b4c0b8_437a_11ea_b7f8_7085c23a19barow0_col0\" class=\"data row0 col0\" >2</td>\n                        <td id=\"T_41b4c0b8_437a_11ea_b7f8_7085c23a19barow0_col1\" class=\"data row0 col1\" >2</td>\n                        <td id=\"T_41b4c0b8_437a_11ea_b7f8_7085c23a19barow0_col2\" class=\"data row0 col2\" >14</td>\n                        <td id=\"T_41b4c0b8_437a_11ea_b7f8_7085c23a19barow0_col3\" class=\"data row0 col3\" >6</td>\n                        <td id=\"T_41b4c0b8_437a_11ea_b7f8_7085c23a19barow0_col4\" class=\"data row0 col4\" >1</td>\n                        <td id=\"T_41b4c0b8_437a_11ea_b7f8_7085c23a19barow0_col5\" class=\"data row0 col5\" >1</td>\n                        <td id=\"T_41b4c0b8_437a_11ea_b7f8_7085c23a19barow0_col6\" class=\"data row0 col6\" >1</td>\n            </tr>\n            <tr>\n                        <th id=\"T_41b4c0b8_437a_11ea_b7f8_7085c23a19balevel0_row1\" class=\"row_heading level0 row1\" >Tyrion Lannister</th>\n                        <td id=\"T_41b4c0b8_437a_11ea_b7f8_7085c23a19barow1_col0\" class=\"data row1 col0\" >1</td>\n                        <td id=\"T_41b4c0b8_437a_11ea_b7f8_7085c23a19barow1_col1\" class=\"data row1 col1\" >1</td>\n                        <td id=\"T_41b4c0b8_437a_11ea_b7f8_7085c23a19barow1_col2\" class=\"data row1 col2\" >1</td>\n                        <td id=\"T_41b4c0b8_437a_11ea_b7f8_7085c23a19barow1_col3\" class=\"data row1 col3\" >1</td>\n                        <td id=\"T_41b4c0b8_437a_11ea_b7f8_7085c23a19barow1_col4\" class=\"data row1 col4\" >2</td>\n                        <td id=\"T_41b4c0b8_437a_11ea_b7f8_7085c23a19barow1_col5\" class=\"data row1 col5\" >2</td>\n                        <td id=\"T_41b4c0b8_437a_11ea_b7f8_7085c23a19barow1_col6\" class=\"data row1 col6\" >2</td>\n            </tr>\n            <tr>\n                        <th id=\"T_41b4c0b8_437a_11ea_b7f8_7085c23a19balevel0_row2\" class=\"row_heading level0 row2\" >Cersei Lannister</th>\n                        <td id=\"T_41b4c0b8_437a_11ea_b7f8_7085c23a19barow2_col0\" class=\"data row2 col0\" >4</td>\n                        <td id=\"T_41b4c0b8_437a_11ea_b7f8_7085c23a19barow2_col1\" class=\"data row2 col1\" >3</td>\n                        <td id=\"T_41b4c0b8_437a_11ea_b7f8_7085c23a19barow2_col2\" class=\"data row2 col2\" >2</td>\n                        <td id=\"T_41b4c0b8_437a_11ea_b7f8_7085c23a19barow2_col3\" class=\"data row2 col3\" >4</td>\n                        <td id=\"T_41b4c0b8_437a_11ea_b7f8_7085c23a19barow2_col4\" class=\"data row2 col4\" >7</td>\n                        <td id=\"T_41b4c0b8_437a_11ea_b7f8_7085c23a19barow2_col5\" class=\"data row2 col5\" >7</td>\n                        <td id=\"T_41b4c0b8_437a_11ea_b7f8_7085c23a19barow2_col6\" class=\"data row2 col6\" >3</td>\n            </tr>\n            <tr>\n                        <th id=\"T_41b4c0b8_437a_11ea_b7f8_7085c23a19balevel0_row3\" class=\"row_heading level0 row3\" >Daenerys Targaryen</th>\n                        <td id=\"T_41b4c0b8_437a_11ea_b7f8_7085c23a19barow3_col0\" class=\"data row3 col0\" >11</td>\n                        <td id=\"T_41b4c0b8_437a_11ea_b7f8_7085c23a19barow3_col1\" class=\"data row3 col1\" >6</td>\n                        <td id=\"T_41b4c0b8_437a_11ea_b7f8_7085c23a19barow3_col2\" class=\"data row3 col2\" >47</td>\n                        <td id=\"T_41b4c0b8_437a_11ea_b7f8_7085c23a19barow3_col3\" class=\"data row3 col3\" >27</td>\n                        <td id=\"T_41b4c0b8_437a_11ea_b7f8_7085c23a19barow3_col4\" class=\"data row3 col4\" >3</td>\n                        <td id=\"T_41b4c0b8_437a_11ea_b7f8_7085c23a19barow3_col5\" class=\"data row3 col5\" >3</td>\n                        <td id=\"T_41b4c0b8_437a_11ea_b7f8_7085c23a19barow3_col6\" class=\"data row3 col6\" >4</td>\n            </tr>\n            <tr>\n                        <th id=\"T_41b4c0b8_437a_11ea_b7f8_7085c23a19balevel0_row4\" class=\"row_heading level0 row4\" >Jaime Lannister</th>\n                        <td id=\"T_41b4c0b8_437a_11ea_b7f8_7085c23a19barow4_col0\" class=\"data row4 col0\" >3</td>\n                        <td id=\"T_41b4c0b8_437a_11ea_b7f8_7085c23a19barow4_col1\" class=\"data row4 col1\" >7</td>\n                        <td id=\"T_41b4c0b8_437a_11ea_b7f8_7085c23a19barow4_col2\" class=\"data row4 col2\" >3</td>\n                        <td id=\"T_41b4c0b8_437a_11ea_b7f8_7085c23a19barow4_col3\" class=\"data row4 col3\" >5</td>\n                        <td id=\"T_41b4c0b8_437a_11ea_b7f8_7085c23a19barow4_col4\" class=\"data row4 col4\" >6</td>\n                        <td id=\"T_41b4c0b8_437a_11ea_b7f8_7085c23a19barow4_col5\" class=\"data row4 col5\" >6</td>\n                        <td id=\"T_41b4c0b8_437a_11ea_b7f8_7085c23a19barow4_col6\" class=\"data row4 col6\" >5</td>\n            </tr>\n            <tr>\n                        <th id=\"T_41b4c0b8_437a_11ea_b7f8_7085c23a19balevel0_row5\" class=\"row_heading level0 row5\" >Eddard Stark</th>\n                        <td id=\"T_41b4c0b8_437a_11ea_b7f8_7085c23a19barow5_col0\" class=\"data row5 col0\" >10</td>\n                        <td id=\"T_41b4c0b8_437a_11ea_b7f8_7085c23a19barow5_col1\" class=\"data row5 col1\" >5</td>\n                        <td id=\"T_41b4c0b8_437a_11ea_b7f8_7085c23a19barow5_col2\" class=\"data row5 col2\" >7</td>\n                        <td id=\"T_41b4c0b8_437a_11ea_b7f8_7085c23a19barow5_col3\" class=\"data row5 col3\" >3</td>\n                        <td id=\"T_41b4c0b8_437a_11ea_b7f8_7085c23a19barow5_col4\" class=\"data row5 col4\" >9</td>\n                        <td id=\"T_41b4c0b8_437a_11ea_b7f8_7085c23a19barow5_col5\" class=\"data row5 col5\" >9</td>\n                        <td id=\"T_41b4c0b8_437a_11ea_b7f8_7085c23a19barow5_col6\" class=\"data row5 col6\" >6</td>\n            </tr>\n            <tr>\n                        <th id=\"T_41b4c0b8_437a_11ea_b7f8_7085c23a19balevel0_row6\" class=\"row_heading level0 row6\" >Arya Stark</th>\n                        <td id=\"T_41b4c0b8_437a_11ea_b7f8_7085c23a19barow6_col0\" class=\"data row6 col0\" >6</td>\n                        <td id=\"T_41b4c0b8_437a_11ea_b7f8_7085c23a19barow6_col1\" class=\"data row6 col1\" >11</td>\n                        <td id=\"T_41b4c0b8_437a_11ea_b7f8_7085c23a19barow6_col2\" class=\"data row6 col2\" >11</td>\n                        <td id=\"T_41b4c0b8_437a_11ea_b7f8_7085c23a19barow6_col3\" class=\"data row6 col3\" >12</td>\n                        <td id=\"T_41b4c0b8_437a_11ea_b7f8_7085c23a19barow6_col4\" class=\"data row6 col4\" >8</td>\n                        <td id=\"T_41b4c0b8_437a_11ea_b7f8_7085c23a19barow6_col5\" class=\"data row6 col5\" >8</td>\n                        <td id=\"T_41b4c0b8_437a_11ea_b7f8_7085c23a19barow6_col6\" class=\"data row6 col6\" >7</td>\n            </tr>\n            <tr>\n                        <th id=\"T_41b4c0b8_437a_11ea_b7f8_7085c23a19balevel0_row7\" class=\"row_heading level0 row7\" >Stannis Baratheon</th>\n                        <td id=\"T_41b4c0b8_437a_11ea_b7f8_7085c23a19barow7_col0\" class=\"data row7 col0\" >5</td>\n                        <td id=\"T_41b4c0b8_437a_11ea_b7f8_7085c23a19barow7_col1\" class=\"data row7 col1\" >13</td>\n                        <td id=\"T_41b4c0b8_437a_11ea_b7f8_7085c23a19barow7_col2\" class=\"data row7 col2\" >8</td>\n                        <td id=\"T_41b4c0b8_437a_11ea_b7f8_7085c23a19barow7_col3\" class=\"data row7 col3\" >7</td>\n                        <td id=\"T_41b4c0b8_437a_11ea_b7f8_7085c23a19barow7_col4\" class=\"data row7 col4\" >5</td>\n                        <td id=\"T_41b4c0b8_437a_11ea_b7f8_7085c23a19barow7_col5\" class=\"data row7 col5\" >5</td>\n                        <td id=\"T_41b4c0b8_437a_11ea_b7f8_7085c23a19barow7_col6\" class=\"data row7 col6\" >8</td>\n            </tr>\n            <tr>\n                        <th id=\"T_41b4c0b8_437a_11ea_b7f8_7085c23a19balevel0_row8\" class=\"row_heading level0 row8\" >Joffrey Baratheon</th>\n                        <td id=\"T_41b4c0b8_437a_11ea_b7f8_7085c23a19barow8_col0\" class=\"data row8 col0\" >12</td>\n                        <td id=\"T_41b4c0b8_437a_11ea_b7f8_7085c23a19barow8_col1\" class=\"data row8 col1\" >4</td>\n                        <td id=\"T_41b4c0b8_437a_11ea_b7f8_7085c23a19barow8_col2\" class=\"data row8 col2\" >4</td>\n                        <td id=\"T_41b4c0b8_437a_11ea_b7f8_7085c23a19barow8_col3\" class=\"data row8 col3\" >9</td>\n                        <td id=\"T_41b4c0b8_437a_11ea_b7f8_7085c23a19barow8_col4\" class=\"data row8 col4\" >20</td>\n                        <td id=\"T_41b4c0b8_437a_11ea_b7f8_7085c23a19barow8_col5\" class=\"data row8 col5\" >20</td>\n                        <td id=\"T_41b4c0b8_437a_11ea_b7f8_7085c23a19barow8_col6\" class=\"data row8 col6\" >9</td>\n            </tr>\n            <tr>\n                        <th id=\"T_41b4c0b8_437a_11ea_b7f8_7085c23a19balevel0_row9\" class=\"row_heading level0 row9\" >Robb Stark</th>\n                        <td id=\"T_41b4c0b8_437a_11ea_b7f8_7085c23a19barow9_col0\" class=\"data row9 col0\" >9</td>\n                        <td id=\"T_41b4c0b8_437a_11ea_b7f8_7085c23a19barow9_col1\" class=\"data row9 col1\" >12</td>\n                        <td id=\"T_41b4c0b8_437a_11ea_b7f8_7085c23a19barow9_col2\" class=\"data row9 col2\" >10</td>\n                        <td id=\"T_41b4c0b8_437a_11ea_b7f8_7085c23a19barow9_col3\" class=\"data row9 col3\" >8</td>\n                        <td id=\"T_41b4c0b8_437a_11ea_b7f8_7085c23a19barow9_col4\" class=\"data row9 col4\" >11</td>\n                        <td id=\"T_41b4c0b8_437a_11ea_b7f8_7085c23a19barow9_col5\" class=\"data row9 col5\" >11</td>\n                        <td id=\"T_41b4c0b8_437a_11ea_b7f8_7085c23a19barow9_col6\" class=\"data row9 col6\" >10</td>\n            </tr>\n            <tr>\n                        <th id=\"T_41b4c0b8_437a_11ea_b7f8_7085c23a19balevel0_row10\" class=\"row_heading level0 row10\" >Bran Stark</th>\n                        <td id=\"T_41b4c0b8_437a_11ea_b7f8_7085c23a19barow10_col0\" class=\"data row10 col0\" >15</td>\n                        <td id=\"T_41b4c0b8_437a_11ea_b7f8_7085c23a19barow10_col1\" class=\"data row10 col1\" >9</td>\n                        <td id=\"T_41b4c0b8_437a_11ea_b7f8_7085c23a19barow10_col2\" class=\"data row10 col2\" >19</td>\n                        <td id=\"T_41b4c0b8_437a_11ea_b7f8_7085c23a19barow10_col3\" class=\"data row10 col3\" >14</td>\n                        <td id=\"T_41b4c0b8_437a_11ea_b7f8_7085c23a19barow10_col4\" class=\"data row10 col4\" >15</td>\n                        <td id=\"T_41b4c0b8_437a_11ea_b7f8_7085c23a19barow10_col5\" class=\"data row10 col5\" >15</td>\n                        <td id=\"T_41b4c0b8_437a_11ea_b7f8_7085c23a19barow10_col6\" class=\"data row10 col6\" >11</td>\n            </tr>\n            <tr>\n                        <th id=\"T_41b4c0b8_437a_11ea_b7f8_7085c23a19balevel0_row11\" class=\"row_heading level0 row11\" >Sansa Stark</th>\n                        <td id=\"T_41b4c0b8_437a_11ea_b7f8_7085c23a19barow11_col0\" class=\"data row11 col0\" >8</td>\n                        <td id=\"T_41b4c0b8_437a_11ea_b7f8_7085c23a19barow11_col1\" class=\"data row11 col1\" >8</td>\n                        <td id=\"T_41b4c0b8_437a_11ea_b7f8_7085c23a19barow11_col2\" class=\"data row11 col2\" >5</td>\n                        <td id=\"T_41b4c0b8_437a_11ea_b7f8_7085c23a19barow11_col3\" class=\"data row11 col3\" >11</td>\n                        <td id=\"T_41b4c0b8_437a_11ea_b7f8_7085c23a19barow11_col4\" class=\"data row11 col4\" >13</td>\n                        <td id=\"T_41b4c0b8_437a_11ea_b7f8_7085c23a19barow11_col5\" class=\"data row11 col5\" >13</td>\n                        <td id=\"T_41b4c0b8_437a_11ea_b7f8_7085c23a19barow11_col6\" class=\"data row11 col6\" >12</td>\n            </tr>\n            <tr>\n                        <th id=\"T_41b4c0b8_437a_11ea_b7f8_7085c23a19balevel0_row12\" class=\"row_heading level0 row12\" >Robert Baratheon</th>\n                        <td id=\"T_41b4c0b8_437a_11ea_b7f8_7085c23a19barow12_col0\" class=\"data row12 col0\" >14</td>\n                        <td id=\"T_41b4c0b8_437a_11ea_b7f8_7085c23a19barow12_col1\" class=\"data row12 col1\" >10</td>\n                        <td id=\"T_41b4c0b8_437a_11ea_b7f8_7085c23a19barow12_col2\" class=\"data row12 col2\" >6</td>\n                        <td id=\"T_41b4c0b8_437a_11ea_b7f8_7085c23a19barow12_col3\" class=\"data row12 col3\" >2</td>\n                        <td id=\"T_41b4c0b8_437a_11ea_b7f8_7085c23a19barow12_col4\" class=\"data row12 col4\" >10</td>\n                        <td id=\"T_41b4c0b8_437a_11ea_b7f8_7085c23a19barow12_col5\" class=\"data row12 col5\" >10</td>\n                        <td id=\"T_41b4c0b8_437a_11ea_b7f8_7085c23a19barow12_col6\" class=\"data row12 col6\" >13</td>\n            </tr>\n            <tr>\n                        <th id=\"T_41b4c0b8_437a_11ea_b7f8_7085c23a19balevel0_row13\" class=\"row_heading level0 row13\" >Catelyn Stark</th>\n                        <td id=\"T_41b4c0b8_437a_11ea_b7f8_7085c23a19barow13_col0\" class=\"data row13 col0\" >7</td>\n                        <td id=\"T_41b4c0b8_437a_11ea_b7f8_7085c23a19barow13_col1\" class=\"data row13 col1\" >14</td>\n                        <td id=\"T_41b4c0b8_437a_11ea_b7f8_7085c23a19barow13_col2\" class=\"data row13 col2\" >9</td>\n                        <td id=\"T_41b4c0b8_437a_11ea_b7f8_7085c23a19barow13_col3\" class=\"data row13 col3\" >10</td>\n                        <td id=\"T_41b4c0b8_437a_11ea_b7f8_7085c23a19barow13_col4\" class=\"data row13 col4\" >12</td>\n                        <td id=\"T_41b4c0b8_437a_11ea_b7f8_7085c23a19barow13_col5\" class=\"data row13 col5\" >12</td>\n                        <td id=\"T_41b4c0b8_437a_11ea_b7f8_7085c23a19barow13_col6\" class=\"data row13 col6\" >14</td>\n            </tr>\n            <tr>\n                        <th id=\"T_41b4c0b8_437a_11ea_b7f8_7085c23a19balevel0_row14\" class=\"row_heading level0 row14\" >Theon Greyjoy</th>\n                        <td id=\"T_41b4c0b8_437a_11ea_b7f8_7085c23a19barow14_col0\" class=\"data row14 col0\" >13</td>\n                        <td id=\"T_41b4c0b8_437a_11ea_b7f8_7085c23a19barow14_col1\" class=\"data row14 col1\" >16</td>\n                        <td id=\"T_41b4c0b8_437a_11ea_b7f8_7085c23a19barow14_col2\" class=\"data row14 col2\" >24</td>\n                        <td id=\"T_41b4c0b8_437a_11ea_b7f8_7085c23a19barow14_col3\" class=\"data row14 col3\" >13</td>\n                        <td id=\"T_41b4c0b8_437a_11ea_b7f8_7085c23a19barow14_col4\" class=\"data row14 col4\" >4</td>\n                        <td id=\"T_41b4c0b8_437a_11ea_b7f8_7085c23a19barow14_col5\" class=\"data row14 col5\" >4</td>\n                        <td id=\"T_41b4c0b8_437a_11ea_b7f8_7085c23a19barow14_col6\" class=\"data row14 col6\" >15</td>\n            </tr>\n    </tbody></table>",
          "text/plain": "<pandas.io.formats.style.Styler at 0x7f82b09e4668>"
         },
         "metadata": {},
         "output_type": "display_data"
        }
       ]
      }
     },
     "ad9f3fa0b923486599e7025251d2fe32": {
      "model_module": "@jupyter-widgets/base",
      "model_module_version": "1.2.0",
      "model_name": "LayoutModel",
      "state": {}
     },
     "de9521e9055b4485a53c77e6dee471d2": {
      "model_module": "@jupyter-widgets/controls",
      "model_module_version": "1.5.0",
      "model_name": "VBoxModel",
      "state": {
       "_dom_classes": [
        "widget-interact"
       ],
       "children": [
        "IPY_MODEL_fdb8c30f279347dab8bcc5e3ce91b40c",
        "IPY_MODEL_4909798398c8412caf50cf8d43fca29a",
        "IPY_MODEL_794f842e80554efb9b17597eb0b31e42"
       ],
       "layout": "IPY_MODEL_57db347e7f2749c9ba2df50c6b5cbe64"
      }
     },
     "f382b6f57abb49228ef692ca545ebf80": {
      "model_module": "@jupyter-widgets/controls",
      "model_module_version": "1.5.0",
      "model_name": "SliderStyleModel",
      "state": {
       "description_width": ""
      }
     },
     "fdb8c30f279347dab8bcc5e3ce91b40c": {
      "model_module": "@jupyter-widgets/controls",
      "model_module_version": "1.5.0",
      "model_name": "DropdownModel",
      "state": {
       "_options_labels": [
        "degree",
        "weighted_degree",
        "eigenvector",
        "closeness",
        "betweenness",
        "weighted_betweenness",
        "pagerank"
       ],
       "description": "col",
       "index": 6,
       "layout": "IPY_MODEL_ad9f3fa0b923486599e7025251d2fe32",
       "style": "IPY_MODEL_5de2af01c0cc43a6b0782e82f7a1c138"
      }
     }
    },
    "version_major": 2,
    "version_minor": 0
   }
  }
 },
 "nbformat": 4,
 "nbformat_minor": 1
}
