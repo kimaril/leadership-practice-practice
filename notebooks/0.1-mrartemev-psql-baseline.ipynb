{
 "cells": [
  {
   "cell_type": "markdown",
   "metadata": {},
   "source": [
    "Все импорты должны выполняться, особенно если вы запускаете это внутри докера"
   ]
  },
  {
   "cell_type": "code",
   "execution_count": 1,
   "metadata": {},
   "outputs": [
    {
     "name": "stdout",
     "output_type": "stream",
     "text": [
      "Populating the interactive namespace from numpy and matplotlib\n"
     ]
    }
   ],
   "source": [
    "%pylab inline\n",
    "%config InlineBackend.figure_format = 'retina'\n",
    "style.use('dark_background')\n",
    "from IPython.display import clear_output\n",
    "from copy import copy, deepcopy\n",
    "from tqdm import tqdm_notebook as tm\n",
    "from tqdm import trange\n",
    "from glob import glob\n",
    "import os\n",
    "import sys\n",
    "import warnings\n",
    "warnings.filterwarnings(\"ignore\")\n",
    "import os\n",
    "os.environ['TF_CPP_MIN_LOG_LEVEL'] = '3' "
   ]
  },
  {
   "cell_type": "code",
   "execution_count": 2,
   "metadata": {},
   "outputs": [],
   "source": [
    "import pandas as pd\n",
    "import pandas.io.sql as psql"
   ]
  },
  {
   "cell_type": "markdown",
   "metadata": {},
   "source": [
    "Вспомогательные функции для запроса данных из базы"
   ]
  },
  {
   "cell_type": "code",
   "execution_count": 3,
   "metadata": {},
   "outputs": [],
   "source": [
    "def get_conn():\n",
    "    import psycopg2 as pg\n",
    "    return pg.connect(\"dbname=vk_data user=vk_parser password=WegEWWXfedLf2YbS host=13.84.188.132\")\n",
    "\n",
    "def run_sql(query):\n",
    "    import pandas.io.sql as psql\n",
    "    res = psql.read_sql(query, get_conn())\n",
    "    try:\n",
    "        return res.set_index('uid')\n",
    "    except:\n",
    "        import warnings\n",
    "        warnings.warn(\"[run_sql] UID wasn't selected, default index used\")\n",
    "        return res\n",
    "\n",
    "def get_uid():\n",
    "    return run_sql(\"SELECT uid FROM users WHERE data_loaded\")"
   ]
  },
  {
   "cell_type": "code",
   "execution_count": 4,
   "metadata": {},
   "outputs": [
    {
     "data": {
      "text/html": [
       "<div>\n",
       "<style scoped>\n",
       "    .dataframe tbody tr th:only-of-type {\n",
       "        vertical-align: middle;\n",
       "    }\n",
       "\n",
       "    .dataframe tbody tr th {\n",
       "        vertical-align: top;\n",
       "    }\n",
       "\n",
       "    .dataframe thead th {\n",
       "        text-align: right;\n",
       "    }\n",
       "</style>\n",
       "<table border=\"1\" class=\"dataframe\">\n",
       "  <thead>\n",
       "    <tr style=\"text-align: right;\">\n",
       "      <th></th>\n",
       "      <th>table_name</th>\n",
       "    </tr>\n",
       "  </thead>\n",
       "  <tbody>\n",
       "    <tr>\n",
       "      <th>0</th>\n",
       "      <td>groups</td>\n",
       "    </tr>\n",
       "    <tr>\n",
       "      <th>1</th>\n",
       "      <td>likes</td>\n",
       "    </tr>\n",
       "    <tr>\n",
       "      <th>2</th>\n",
       "      <td>posts</td>\n",
       "    </tr>\n",
       "    <tr>\n",
       "      <th>3</th>\n",
       "      <td>users_friends</td>\n",
       "    </tr>\n",
       "    <tr>\n",
       "      <th>4</th>\n",
       "      <td>users_groups</td>\n",
       "    </tr>\n",
       "    <tr>\n",
       "      <th>5</th>\n",
       "      <td>users</td>\n",
       "    </tr>\n",
       "  </tbody>\n",
       "</table>\n",
       "</div>"
      ],
      "text/plain": [
       "      table_name\n",
       "0         groups\n",
       "1          likes\n",
       "2          posts\n",
       "3  users_friends\n",
       "4   users_groups\n",
       "5          users"
      ]
     },
     "execution_count": 4,
     "metadata": {},
     "output_type": "execute_result"
    }
   ],
   "source": [
    "# Всего у нас вот столько таблиц\n",
    "\n",
    "run_sql(\"\"\"SELECT table_name FROM information_schema.tables WHERE table_schema = 'public'\"\"\")"
   ]
  },
  {
   "cell_type": "code",
   "execution_count": 5,
   "metadata": {},
   "outputs": [
    {
     "data": {
      "text/html": [
       "<div>\n",
       "<style scoped>\n",
       "    .dataframe tbody tr th:only-of-type {\n",
       "        vertical-align: middle;\n",
       "    }\n",
       "\n",
       "    .dataframe tbody tr th {\n",
       "        vertical-align: top;\n",
       "    }\n",
       "\n",
       "    .dataframe thead th {\n",
       "        text-align: right;\n",
       "    }\n",
       "</style>\n",
       "<table border=\"1\" class=\"dataframe\">\n",
       "  <thead>\n",
       "    <tr style=\"text-align: right;\">\n",
       "      <th></th>\n",
       "      <th>first_name</th>\n",
       "      <th>last_name</th>\n",
       "      <th>sex</th>\n",
       "      <th>nickname</th>\n",
       "      <th>domain</th>\n",
       "      <th>bdate</th>\n",
       "      <th>city</th>\n",
       "      <th>country</th>\n",
       "      <th>photo_50</th>\n",
       "      <th>photo_100</th>\n",
       "      <th>photo_200_orig</th>\n",
       "      <th>can_write_private_message</th>\n",
       "      <th>status</th>\n",
       "      <th>data_loaded</th>\n",
       "      <th>mobile_phone</th>\n",
       "      <th>home_phone</th>\n",
       "      <th>group_list_loaded</th>\n",
       "      <th>comments_loaded</th>\n",
       "      <th>is_leader</th>\n",
       "    </tr>\n",
       "    <tr>\n",
       "      <th>uid</th>\n",
       "      <th></th>\n",
       "      <th></th>\n",
       "      <th></th>\n",
       "      <th></th>\n",
       "      <th></th>\n",
       "      <th></th>\n",
       "      <th></th>\n",
       "      <th></th>\n",
       "      <th></th>\n",
       "      <th></th>\n",
       "      <th></th>\n",
       "      <th></th>\n",
       "      <th></th>\n",
       "      <th></th>\n",
       "      <th></th>\n",
       "      <th></th>\n",
       "      <th></th>\n",
       "      <th></th>\n",
       "      <th></th>\n",
       "    </tr>\n",
       "  </thead>\n",
       "  <tbody>\n",
       "  </tbody>\n",
       "</table>\n",
       "</div>"
      ],
      "text/plain": [
       "Empty DataFrame\n",
       "Columns: [first_name, last_name, sex, nickname, domain, bdate, city, country, photo_50, photo_100, photo_200_orig, can_write_private_message, status, data_loaded, mobile_phone, home_phone, group_list_loaded, comments_loaded, is_leader]\n",
       "Index: []"
      ]
     },
     "execution_count": 5,
     "metadata": {},
     "output_type": "execute_result"
    }
   ],
   "source": [
    "# Посмотреть на все \"колонки\" в таблице можно вот так\n",
    "\n",
    "run_sql(\"Select * FROM users LIMIT 0\")"
   ]
  },
  {
   "cell_type": "code",
   "execution_count": 6,
   "metadata": {},
   "outputs": [
    {
     "data": {
      "text/html": [
       "<div>\n",
       "<style scoped>\n",
       "    .dataframe tbody tr th:only-of-type {\n",
       "        vertical-align: middle;\n",
       "    }\n",
       "\n",
       "    .dataframe tbody tr th {\n",
       "        vertical-align: top;\n",
       "    }\n",
       "\n",
       "    .dataframe thead th {\n",
       "        text-align: right;\n",
       "    }\n",
       "</style>\n",
       "<table border=\"1\" class=\"dataframe\">\n",
       "  <thead>\n",
       "    <tr style=\"text-align: right;\">\n",
       "      <th></th>\n",
       "    </tr>\n",
       "    <tr>\n",
       "      <th>uid</th>\n",
       "    </tr>\n",
       "  </thead>\n",
       "  <tbody>\n",
       "    <tr>\n",
       "      <th>33666831</th>\n",
       "    </tr>\n",
       "    <tr>\n",
       "      <th>84437393</th>\n",
       "    </tr>\n",
       "    <tr>\n",
       "      <th>114902012</th>\n",
       "    </tr>\n",
       "    <tr>\n",
       "      <th>28052349</th>\n",
       "    </tr>\n",
       "    <tr>\n",
       "      <th>55428072</th>\n",
       "    </tr>\n",
       "  </tbody>\n",
       "</table>\n",
       "</div>"
      ],
      "text/plain": [
       "Empty DataFrame\n",
       "Columns: []\n",
       "Index: [33666831, 84437393, 114902012, 28052349, 55428072]"
      ]
     },
     "execution_count": 6,
     "metadata": {},
     "output_type": "execute_result"
    }
   ],
   "source": [
    "# Так можно посмотреть на всех Ань\n",
    "\n",
    "df = run_sql(\"SELECT uid FROM users WHERE first_name = 'Аня'\")\n",
    "df.head()"
   ]
  },
  {
   "cell_type": "code",
   "execution_count": 7,
   "metadata": {},
   "outputs": [
    {
     "data": {
      "text/html": [
       "<div>\n",
       "<style scoped>\n",
       "    .dataframe tbody tr th:only-of-type {\n",
       "        vertical-align: middle;\n",
       "    }\n",
       "\n",
       "    .dataframe tbody tr th {\n",
       "        vertical-align: top;\n",
       "    }\n",
       "\n",
       "    .dataframe thead th {\n",
       "        text-align: right;\n",
       "    }\n",
       "</style>\n",
       "<table border=\"1\" class=\"dataframe\">\n",
       "  <thead>\n",
       "    <tr style=\"text-align: right;\">\n",
       "      <th></th>\n",
       "      <th>from_id</th>\n",
       "      <th>text</th>\n",
       "    </tr>\n",
       "  </thead>\n",
       "  <tbody>\n",
       "    <tr>\n",
       "      <th>0</th>\n",
       "      <td>404302</td>\n",
       "      <td>Ой да ладно тебе!Ты нарываешься на комплимент!)))</td>\n",
       "    </tr>\n",
       "    <tr>\n",
       "      <th>1</th>\n",
       "      <td>12023181</td>\n",
       "      <td>ой да ладно тебе..\\nсам выучишь все лучше всех...</td>\n",
       "    </tr>\n",
       "    <tr>\n",
       "      <th>2</th>\n",
       "      <td>2435684</td>\n",
       "      <td>ахахаха да ладно тебе...я ж чуть чуть))</td>\n",
       "    </tr>\n",
       "    <tr>\n",
       "      <th>3</th>\n",
       "      <td>11642851</td>\n",
       "      <td>Машусик, да ладно тебе=*** все нормально)))\\nС...</td>\n",
       "    </tr>\n",
       "    <tr>\n",
       "      <th>4</th>\n",
       "      <td>463596641</td>\n",
       "      <td>Рассказы и байки уральской деревеньки В каждой...</td>\n",
       "    </tr>\n",
       "  </tbody>\n",
       "</table>\n",
       "</div>"
      ],
      "text/plain": [
       "     from_id                                               text\n",
       "0     404302  Ой да ладно тебе!Ты нарываешься на комплимент!)))\n",
       "1   12023181  ой да ладно тебе..\\nсам выучишь все лучше всех...\n",
       "2    2435684            ахахаха да ладно тебе...я ж чуть чуть))\n",
       "3   11642851  Машусик, да ладно тебе=*** все нормально)))\\nС...\n",
       "4  463596641  Рассказы и байки уральской деревеньки В каждой..."
      ]
     },
     "execution_count": 7,
     "metadata": {},
     "output_type": "execute_result"
    }
   ],
   "source": [
    "# А так - сделать поиск по тексту комментария\n",
    "\n",
    "df = run_sql(\"SELECT from_id, text FROM posts  WHERE (text <> '') AND (text LIKE '% да ладно тебе%')\")\n",
    "df.head()"
   ]
  },
  {
   "cell_type": "code",
   "execution_count": 8,
   "metadata": {},
   "outputs": [],
   "source": [
    "def getPostsByUid(uid):\n",
    "    sqlQuery = \"SELECT from_id, text FROM posts  WHERE (text <> '') AND (from_id = \" + str(uid) + \")\"\n",
    "    return run_sql(sqlQuery).text"
   ]
  },
  {
   "cell_type": "code",
   "execution_count": 9,
   "metadata": {},
   "outputs": [
    {
     "data": {
      "text/plain": [
       "0                                       хм...в смысле?)\n",
       "1     не я все так удаляю))оставляю ток картинки и м...\n",
       "2                    аххах ну это все для дебя детка)))\n",
       "3     ой не повериш как я искала искала хд))а потом ...\n",
       "4                           аххаха вот сейчас)))))хд)))\n",
       "5                            пашка!!!а я тебя нашла))хд\n",
       "6                                  урааа пасипки зай)))\n",
       "7     хд да ладно тебе)))))))я же шучу насчет кулисо...\n",
       "8     хд ну пашечка ну солнышко..ну малыш..ну кися))...\n",
       "9                 аххах а ты меня возешь с собой???))))\n",
       "10    пасип зайк))обязательно буду)))хахах)))*лыбить...\n",
       "11    ооххохо прикольно))я та тоже не плохо это а ко...\n",
       "12    оооо пашка ну ты отрастил патлы))))мужичек))))...\n",
       "Name: text, dtype: object"
      ]
     },
     "execution_count": 9,
     "metadata": {},
     "output_type": "execute_result"
    }
   ],
   "source": [
    "getPostsByUid(15759198)"
   ]
  },
  {
   "cell_type": "code",
   "execution_count": 11,
   "metadata": {},
   "outputs": [],
   "source": [
    "# Допустим теперь для каждого юзера у нас появились предсказания, запишем их в сабмишн файл \n",
    "\n",
    "ids = get_uid()\n",
    "leaders = np.random.choice(list(ids.index), size=100)\n",
    "\n",
    "\n",
    "submission = pd.DataFrame({'is_leader':np.zeros(ids.shape[0])}, index=ids.index)\n",
    "submission.loc[leaders] = 1\n",
    "\n",
    "submission_file = '../data/submission/random_submission.csv'\n",
    "if not os.path.exists(os.path.dirname(submission_file)):\n",
    "    os.makedirs(os.path.dirname(submission_file))\n",
    "submission.to_csv(submission_file)"
   ]
  }
 ],
 "metadata": {
  "kernelspec": {
   "display_name": "leadership",
   "language": "python",
   "name": "leadership"
  },
  "language_info": {
   "codemirror_mode": {
    "name": "ipython",
    "version": 3
   },
   "file_extension": ".py",
   "mimetype": "text/x-python",
   "name": "python",
   "nbconvert_exporter": "python",
   "pygments_lexer": "ipython3",
   "version": "3.7.2"
  },
  "varInspector": {
   "cols": {
    "lenName": 16,
    "lenType": 16,
    "lenVar": 40
   },
   "kernels_config": {
    "python": {
     "delete_cmd_postfix": "",
     "delete_cmd_prefix": "del ",
     "library": "var_list.py",
     "varRefreshCmd": "print(var_dic_list())"
    },
    "r": {
     "delete_cmd_postfix": ") ",
     "delete_cmd_prefix": "rm(",
     "library": "var_list.r",
     "varRefreshCmd": "cat(var_dic_list()) "
    }
   },
   "types_to_exclude": [
    "module",
    "function",
    "builtin_function_or_method",
    "instance",
    "_Feature"
   ],
   "window_display": false
  }
 },
 "nbformat": 4,
 "nbformat_minor": 2
}
