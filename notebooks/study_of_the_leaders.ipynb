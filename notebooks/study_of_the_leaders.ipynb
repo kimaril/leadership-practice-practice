{
 "cells": [
  {
   "cell_type": "code",
   "execution_count": 137,
   "metadata": {},
   "outputs": [],
   "source": [
    "import pandas as pd\n",
    "import matplotlib.pyplot as plt\n",
    "import seaborn\n",
    "from sklearn.manifold import TSNE\n",
    "from sklearn.metrics.pairwise import *\n",
    "from ipywidgets import interact\n",
    "%matplotlib inline"
   ]
  },
  {
   "cell_type": "code",
   "execution_count": 2,
   "metadata": {},
   "outputs": [],
   "source": [
    "def getTop(df, column, n=10):\n",
    "    l = df[column].to_dict().items()\n",
    "    return sorted(l, key=lambda x : x[-1], reverse=True)[:n]\n",
    "\n",
    "def getRank(df, column):\n",
    "        return {k:i for i, (k, v) in enumerate(getTop(df, column, n=None), 1)}"
   ]
  },
  {
   "cell_type": "code",
   "execution_count": 3,
   "metadata": {},
   "outputs": [],
   "source": [
    "leaders = pd.read_csv('../data/true_leaders.csv')"
   ]
  },
  {
   "cell_type": "code",
   "execution_count": 4,
   "metadata": {},
   "outputs": [
    {
     "data": {
      "text/html": [
       "<div>\n",
       "<style scoped>\n",
       "    .dataframe tbody tr th:only-of-type {\n",
       "        vertical-align: middle;\n",
       "    }\n",
       "\n",
       "    .dataframe tbody tr th {\n",
       "        vertical-align: top;\n",
       "    }\n",
       "\n",
       "    .dataframe thead th {\n",
       "        text-align: right;\n",
       "    }\n",
       "</style>\n",
       "<table border=\"1\" class=\"dataframe\">\n",
       "  <thead>\n",
       "    <tr style=\"text-align: right;\">\n",
       "      <th></th>\n",
       "      <th>Unnamed: 0</th>\n",
       "      <th>Unnamed: 0.1</th>\n",
       "      <th>ID(alias)</th>\n",
       "      <th>ID</th>\n",
       "      <th>Тип лидерства</th>\n",
       "      <th>комментарий</th>\n",
       "    </tr>\n",
       "  </thead>\n",
       "  <tbody>\n",
       "    <tr>\n",
       "      <th>0</th>\n",
       "      <td>0</td>\n",
       "      <td>0</td>\n",
       "      <td>miller3</td>\n",
       "      <td>6182154</td>\n",
       "      <td>транзакционный</td>\n",
       "      <td>немного трансформационный художник, комменты у...</td>\n",
       "    </tr>\n",
       "    <tr>\n",
       "      <th>1</th>\n",
       "      <td>1</td>\n",
       "      <td>1</td>\n",
       "      <td>es_borisenko</td>\n",
       "      <td>61756961</td>\n",
       "      <td>служитель</td>\n",
       "      <td>немного трансформационный, фотограф женщина</td>\n",
       "    </tr>\n",
       "    <tr>\n",
       "      <th>2</th>\n",
       "      <td>2</td>\n",
       "      <td>2</td>\n",
       "      <td>ekaterina.kuzovkova</td>\n",
       "      <td>301218</td>\n",
       "      <td>транзакционный</td>\n",
       "      <td>модель, только свои фото, комменты удалена опция</td>\n",
       "    </tr>\n",
       "    <tr>\n",
       "      <th>3</th>\n",
       "      <td>3</td>\n",
       "      <td>3</td>\n",
       "      <td>id59772761</td>\n",
       "      <td>59772761</td>\n",
       "      <td>трансформационный</td>\n",
       "      <td>диджей из Белгорода, может трансформационный, ...</td>\n",
       "    </tr>\n",
       "    <tr>\n",
       "      <th>4</th>\n",
       "      <td>4</td>\n",
       "      <td>4</td>\n",
       "      <td>drevid_art</td>\n",
       "      <td>86539724</td>\n",
       "      <td>транзакционный</td>\n",
       "      <td>парень, фотограф-дизайнер, любит себя</td>\n",
       "    </tr>\n",
       "  </tbody>\n",
       "</table>\n",
       "</div>"
      ],
      "text/plain": [
       "   Unnamed: 0  Unnamed: 0.1            ID(alias)        ID      Тип лидерства  \\\n",
       "0           0             0              miller3   6182154     транзакционный   \n",
       "1           1             1         es_borisenko  61756961          служитель   \n",
       "2           2             2  ekaterina.kuzovkova    301218     транзакционный   \n",
       "3           3             3           id59772761  59772761  трансформационный   \n",
       "4           4             4           drevid_art  86539724     транзакционный   \n",
       "\n",
       "                                         комментарий  \n",
       "0  немного трансформационный художник, комменты у...  \n",
       "1        немного трансформационный, фотограф женщина  \n",
       "2   модель, только свои фото, комменты удалена опция  \n",
       "3  диджей из Белгорода, может трансформационный, ...  \n",
       "4              парень, фотограф-дизайнер, любит себя  "
      ]
     },
     "execution_count": 4,
     "metadata": {},
     "output_type": "execute_result"
    }
   ],
   "source": [
    "leaders.head()"
   ]
  },
  {
   "cell_type": "code",
   "execution_count": 5,
   "metadata": {},
   "outputs": [
    {
     "data": {
      "text/plain": [
       "(99, 6)"
      ]
     },
     "execution_count": 5,
     "metadata": {},
     "output_type": "execute_result"
    }
   ],
   "source": [
    "leaders.shape"
   ]
  },
  {
   "cell_type": "code",
   "execution_count": 6,
   "metadata": {},
   "outputs": [],
   "source": [
    "unnamed = leaders.columns[:2].to_list()"
   ]
  },
  {
   "cell_type": "code",
   "execution_count": 7,
   "metadata": {},
   "outputs": [],
   "source": [
    "del leaders[unnamed[0]], leaders[unnamed[1]]"
   ]
  },
  {
   "cell_type": "code",
   "execution_count": 8,
   "metadata": {
    "scrolled": true
   },
   "outputs": [
    {
     "data": {
      "text/plain": [
       "['лучше исключить, полуголые фото девушки и перепосты группы текстов для песен',\n",
       " 'девушка-модель, но лайков мало, свои фото..не лидер',\n",
       " 'закрытый профиль',\n",
       " 'не лидер, много друзей, но своего контента и идеи нет',\n",
       " 'с 2017 года нет постов',\n",
       " 'посты 2017года, модель, группа удалена',\n",
       " 'профиль не находится',\n",
       " 'активность 2017 года, свои фото девочки',\n",
       " 'девушка, только свои секси фото, комментов нет',\n",
       " 'идеи нет, свои фото девушки, комментов нет, транзакционный или не лидер',\n",
       " 'фотограф, не ведет vk год',\n",
       " 'модель, не ведет Vk 2 года',\n",
       " 'два года не ведет, только о себе и свои фото',\n",
       " 'только свои фото, Калининград, транзакционный или не лидер',\n",
       " 'о себе, идеи нет, комменты отключены, позитивно, транзакционный или не лидер',\n",
       " 'только о себе, нет идеи, комменты тоже',\n",
       " 'не ведет с 2018г и все о себе, много друзей и подписчиков',\n",
       " 'редко ведет девушка, только свои фото',\n",
       " 'политический журналист, служитель, все о народе, хотя комменты тоже не видны',\n",
       " 'девушка-архитектор, но идеи нет, транзакционный или не лидер',\n",
       " 'татумастер, давно около года нет постов',\n",
       " 'брокерская контора',\n",
       " 'не лидер, свои фото девушки и нет комментов, нет идеи',\n",
       " 'модель, свои фото, без комментов',\n",
       " 'девушка, свои фото, год не ведет, комменты отключены',\n",
       " 'девушка, свои фото',\n",
       " 'Девушка, свои эротические фото и все',\n",
       " 'год не ведет, Молодая гвардия, политика, если бы вела - трансформационный',\n",
       " 'фото попы и все',\n",
       " 'голые девушки и треки',\n",
       " 'девушка, свои фото, без идеи',\n",
       " 'свои фото, девушка, без идеи',\n",
       " 'не ведет уже 3 года',\n",
       " 'скорее бот']"
      ]
     },
     "execution_count": 8,
     "metadata": {},
     "output_type": "execute_result"
    }
   ],
   "source": [
    "leaders[leaders['Тип лидерства'].isna()]['комментарий'].to_list()"
   ]
  },
  {
   "cell_type": "code",
   "execution_count": 9,
   "metadata": {},
   "outputs": [],
   "source": [
    "leaders['Тип лидерства'] = leaders['Тип лидерства'].apply(lambda x : 'трансформационный' if x=='транформационный' else x)"
   ]
  },
  {
   "cell_type": "code",
   "execution_count": 10,
   "metadata": {},
   "outputs": [],
   "source": [
    "leaders.dropna(subset=['Тип лидерства'], inplace=True)"
   ]
  },
  {
   "cell_type": "code",
   "execution_count": 11,
   "metadata": {},
   "outputs": [
    {
     "data": {
      "text/plain": [
       "65"
      ]
     },
     "execution_count": 11,
     "metadata": {},
     "output_type": "execute_result"
    }
   ],
   "source": [
    "leaders.shape[0]"
   ]
  },
  {
   "cell_type": "code",
   "execution_count": 12,
   "metadata": {},
   "outputs": [
    {
     "data": {
      "text/html": [
       "<div>\n",
       "<style scoped>\n",
       "    .dataframe tbody tr th:only-of-type {\n",
       "        vertical-align: middle;\n",
       "    }\n",
       "\n",
       "    .dataframe tbody tr th {\n",
       "        vertical-align: top;\n",
       "    }\n",
       "\n",
       "    .dataframe thead th {\n",
       "        text-align: right;\n",
       "    }\n",
       "</style>\n",
       "<table border=\"1\" class=\"dataframe\">\n",
       "  <thead>\n",
       "    <tr style=\"text-align: right;\">\n",
       "      <th></th>\n",
       "      <th>ID</th>\n",
       "    </tr>\n",
       "    <tr>\n",
       "      <th>Тип лидерства</th>\n",
       "      <th></th>\n",
       "    </tr>\n",
       "  </thead>\n",
       "  <tbody>\n",
       "    <tr>\n",
       "      <th>служитель</th>\n",
       "      <td>16</td>\n",
       "    </tr>\n",
       "    <tr>\n",
       "      <th>транзакционный</th>\n",
       "      <td>18</td>\n",
       "    </tr>\n",
       "    <tr>\n",
       "      <th>трансформационный</th>\n",
       "      <td>31</td>\n",
       "    </tr>\n",
       "  </tbody>\n",
       "</table>\n",
       "</div>"
      ],
      "text/plain": [
       "                   ID\n",
       "Тип лидерства        \n",
       "служитель          16\n",
       "транзакционный     18\n",
       "трансформационный  31"
      ]
     },
     "execution_count": 12,
     "metadata": {},
     "output_type": "execute_result"
    }
   ],
   "source": [
    "leaders.groupby('Тип лидерства').count().ID.to_frame()"
   ]
  },
  {
   "cell_type": "markdown",
   "metadata": {},
   "source": [
    "## Leaders' features"
   ]
  },
  {
   "cell_type": "code",
   "execution_count": 68,
   "metadata": {},
   "outputs": [],
   "source": [
    "data = pd.read_csv('./all_features.csv')\n",
    "data = data.set_index('uid')\n",
    "\n",
    "data['text_mood'] = data['text_mood'].fillna(value=0.0)\n",
    "data[['is_nsfw', 'has_smile', 'number_of_faces', 'has_face']] = \\\n",
    "data[['is_nsfw', 'has_smile', 'number_of_faces', 'has_face']].fillna(0.0).astype(int)\n",
    "\n",
    "data.to_csv('./.all_features.csv', index_label='vk_id')"
   ]
  },
  {
   "cell_type": "code",
   "execution_count": 69,
   "metadata": {},
   "outputs": [
    {
     "data": {
      "text/html": [
       "<div>\n",
       "<style scoped>\n",
       "    .dataframe tbody tr th:only-of-type {\n",
       "        vertical-align: middle;\n",
       "    }\n",
       "\n",
       "    .dataframe tbody tr th {\n",
       "        vertical-align: top;\n",
       "    }\n",
       "\n",
       "    .dataframe thead th {\n",
       "        text-align: right;\n",
       "    }\n",
       "</style>\n",
       "<table border=\"1\" class=\"dataframe\">\n",
       "  <thead>\n",
       "    <tr style=\"text-align: right;\">\n",
       "      <th></th>\n",
       "      <th>gender</th>\n",
       "      <th>followers_qty</th>\n",
       "      <th>friends_qty</th>\n",
       "      <th>pagerank_score</th>\n",
       "      <th>eigencentrality_score</th>\n",
       "      <th>hits_in</th>\n",
       "      <th>hits_out</th>\n",
       "      <th>flw_hits_in</th>\n",
       "      <th>flw_hits_out</th>\n",
       "      <th>is_nsfw</th>\n",
       "      <th>has_smile</th>\n",
       "      <th>number_of_faces</th>\n",
       "      <th>has_face</th>\n",
       "      <th>text_mood</th>\n",
       "    </tr>\n",
       "    <tr>\n",
       "      <th>uid</th>\n",
       "      <th></th>\n",
       "      <th></th>\n",
       "      <th></th>\n",
       "      <th></th>\n",
       "      <th></th>\n",
       "      <th></th>\n",
       "      <th></th>\n",
       "      <th></th>\n",
       "      <th></th>\n",
       "      <th></th>\n",
       "      <th></th>\n",
       "      <th></th>\n",
       "      <th></th>\n",
       "      <th></th>\n",
       "    </tr>\n",
       "  </thead>\n",
       "  <tbody>\n",
       "    <tr>\n",
       "      <th>169</th>\n",
       "      <td>1.0</td>\n",
       "      <td>8621.0</td>\n",
       "      <td>0.0</td>\n",
       "      <td>0.000081</td>\n",
       "      <td>9.750758e-08</td>\n",
       "      <td>6.380952e-09</td>\n",
       "      <td>6.380963e-09</td>\n",
       "      <td>0.000000e+00</td>\n",
       "      <td>5.985958e-08</td>\n",
       "      <td>1</td>\n",
       "      <td>0</td>\n",
       "      <td>1</td>\n",
       "      <td>1</td>\n",
       "      <td>-0.142857</td>\n",
       "    </tr>\n",
       "    <tr>\n",
       "      <th>204</th>\n",
       "      <td>1.0</td>\n",
       "      <td>2912.0</td>\n",
       "      <td>240.0</td>\n",
       "      <td>0.000008</td>\n",
       "      <td>2.934387e-09</td>\n",
       "      <td>1.920279e-10</td>\n",
       "      <td>1.920282e-10</td>\n",
       "      <td>1.393409e-10</td>\n",
       "      <td>3.333800e-09</td>\n",
       "      <td>0</td>\n",
       "      <td>1</td>\n",
       "      <td>1</td>\n",
       "      <td>1</td>\n",
       "      <td>0.000000</td>\n",
       "    </tr>\n",
       "    <tr>\n",
       "      <th>276</th>\n",
       "      <td>1.0</td>\n",
       "      <td>3023.0</td>\n",
       "      <td>324.0</td>\n",
       "      <td>0.000008</td>\n",
       "      <td>3.314272e-11</td>\n",
       "      <td>2.168891e-12</td>\n",
       "      <td>2.168910e-12</td>\n",
       "      <td>0.000000e+00</td>\n",
       "      <td>1.877361e-54</td>\n",
       "      <td>0</td>\n",
       "      <td>1</td>\n",
       "      <td>1</td>\n",
       "      <td>1</td>\n",
       "      <td>-0.136364</td>\n",
       "    </tr>\n",
       "    <tr>\n",
       "      <th>586</th>\n",
       "      <td>2.0</td>\n",
       "      <td>0.0</td>\n",
       "      <td>0.0</td>\n",
       "      <td>0.000015</td>\n",
       "      <td>5.480418e-12</td>\n",
       "      <td>3.586429e-13</td>\n",
       "      <td>3.586450e-13</td>\n",
       "      <td>9.515891e-13</td>\n",
       "      <td>0.000000e+00</td>\n",
       "      <td>0</td>\n",
       "      <td>0</td>\n",
       "      <td>0</td>\n",
       "      <td>0</td>\n",
       "      <td>0.200000</td>\n",
       "    </tr>\n",
       "    <tr>\n",
       "      <th>1338</th>\n",
       "      <td>1.0</td>\n",
       "      <td>2878.0</td>\n",
       "      <td>0.0</td>\n",
       "      <td>0.000028</td>\n",
       "      <td>1.026794e-09</td>\n",
       "      <td>6.719400e-11</td>\n",
       "      <td>6.719414e-11</td>\n",
       "      <td>0.000000e+00</td>\n",
       "      <td>7.685454e-09</td>\n",
       "      <td>0</td>\n",
       "      <td>0</td>\n",
       "      <td>0</td>\n",
       "      <td>0</td>\n",
       "      <td>0.195876</td>\n",
       "    </tr>\n",
       "  </tbody>\n",
       "</table>\n",
       "</div>"
      ],
      "text/plain": [
       "      gender  followers_qty  friends_qty  pagerank_score  \\\n",
       "uid                                                        \n",
       "169      1.0         8621.0          0.0        0.000081   \n",
       "204      1.0         2912.0        240.0        0.000008   \n",
       "276      1.0         3023.0        324.0        0.000008   \n",
       "586      2.0            0.0          0.0        0.000015   \n",
       "1338     1.0         2878.0          0.0        0.000028   \n",
       "\n",
       "      eigencentrality_score       hits_in      hits_out   flw_hits_in  \\\n",
       "uid                                                                     \n",
       "169            9.750758e-08  6.380952e-09  6.380963e-09  0.000000e+00   \n",
       "204            2.934387e-09  1.920279e-10  1.920282e-10  1.393409e-10   \n",
       "276            3.314272e-11  2.168891e-12  2.168910e-12  0.000000e+00   \n",
       "586            5.480418e-12  3.586429e-13  3.586450e-13  9.515891e-13   \n",
       "1338           1.026794e-09  6.719400e-11  6.719414e-11  0.000000e+00   \n",
       "\n",
       "      flw_hits_out  is_nsfw  has_smile  number_of_faces  has_face  text_mood  \n",
       "uid                                                                           \n",
       "169   5.985958e-08        1          0                1         1  -0.142857  \n",
       "204   3.333800e-09        0          1                1         1   0.000000  \n",
       "276   1.877361e-54        0          1                1         1  -0.136364  \n",
       "586   0.000000e+00        0          0                0         0   0.200000  \n",
       "1338  7.685454e-09        0          0                0         0   0.195876  "
      ]
     },
     "execution_count": 69,
     "metadata": {},
     "output_type": "execute_result"
    }
   ],
   "source": [
    "data.head()"
   ]
  },
  {
   "cell_type": "code",
   "execution_count": 70,
   "metadata": {},
   "outputs": [
    {
     "data": {
      "text/html": [
       "<div>\n",
       "<style scoped>\n",
       "    .dataframe tbody tr th:only-of-type {\n",
       "        vertical-align: middle;\n",
       "    }\n",
       "\n",
       "    .dataframe tbody tr th {\n",
       "        vertical-align: top;\n",
       "    }\n",
       "\n",
       "    .dataframe thead th {\n",
       "        text-align: right;\n",
       "    }\n",
       "</style>\n",
       "<table border=\"1\" class=\"dataframe\">\n",
       "  <thead>\n",
       "    <tr style=\"text-align: right;\">\n",
       "      <th></th>\n",
       "      <th>gender</th>\n",
       "      <th>followers_qty</th>\n",
       "      <th>friends_qty</th>\n",
       "      <th>pagerank_score</th>\n",
       "      <th>eigencentrality_score</th>\n",
       "      <th>hits_in</th>\n",
       "      <th>hits_out</th>\n",
       "      <th>flw_hits_in</th>\n",
       "      <th>flw_hits_out</th>\n",
       "      <th>is_nsfw</th>\n",
       "      <th>has_smile</th>\n",
       "      <th>number_of_faces</th>\n",
       "      <th>has_face</th>\n",
       "      <th>text_mood</th>\n",
       "    </tr>\n",
       "    <tr>\n",
       "      <th>uid</th>\n",
       "      <th></th>\n",
       "      <th></th>\n",
       "      <th></th>\n",
       "      <th></th>\n",
       "      <th></th>\n",
       "      <th></th>\n",
       "      <th></th>\n",
       "      <th></th>\n",
       "      <th></th>\n",
       "      <th></th>\n",
       "      <th></th>\n",
       "      <th></th>\n",
       "      <th></th>\n",
       "      <th></th>\n",
       "    </tr>\n",
       "  </thead>\n",
       "  <tbody>\n",
       "    <tr>\n",
       "      <th>6182154</th>\n",
       "      <td>2.0</td>\n",
       "      <td>1198.0</td>\n",
       "      <td>1761.0</td>\n",
       "      <td>0.000014</td>\n",
       "      <td>2.995837e-09</td>\n",
       "      <td>1.960492e-10</td>\n",
       "      <td>1.960496e-10</td>\n",
       "      <td>0.000000e+00</td>\n",
       "      <td>2.308404e-06</td>\n",
       "      <td>0</td>\n",
       "      <td>0</td>\n",
       "      <td>1</td>\n",
       "      <td>1</td>\n",
       "      <td>0.118644</td>\n",
       "    </tr>\n",
       "    <tr>\n",
       "      <th>61756961</th>\n",
       "      <td>1.0</td>\n",
       "      <td>1977.0</td>\n",
       "      <td>7969.0</td>\n",
       "      <td>0.000079</td>\n",
       "      <td>7.636062e-11</td>\n",
       "      <td>4.997106e-12</td>\n",
       "      <td>4.997143e-12</td>\n",
       "      <td>4.951045e-18</td>\n",
       "      <td>0.000000e+00</td>\n",
       "      <td>0</td>\n",
       "      <td>1</td>\n",
       "      <td>1</td>\n",
       "      <td>1</td>\n",
       "      <td>0.375000</td>\n",
       "    </tr>\n",
       "    <tr>\n",
       "      <th>301218</th>\n",
       "      <td>1.0</td>\n",
       "      <td>0.0</td>\n",
       "      <td>0.0</td>\n",
       "      <td>0.000018</td>\n",
       "      <td>3.868233e-09</td>\n",
       "      <td>2.531393e-10</td>\n",
       "      <td>2.531396e-10</td>\n",
       "      <td>0.000000e+00</td>\n",
       "      <td>0.000000e+00</td>\n",
       "      <td>1</td>\n",
       "      <td>0</td>\n",
       "      <td>1</td>\n",
       "      <td>1</td>\n",
       "      <td>0.000000</td>\n",
       "    </tr>\n",
       "    <tr>\n",
       "      <th>59772761</th>\n",
       "      <td>2.0</td>\n",
       "      <td>448.0</td>\n",
       "      <td>0.0</td>\n",
       "      <td>0.000000</td>\n",
       "      <td>0.000000e+00</td>\n",
       "      <td>0.000000e+00</td>\n",
       "      <td>0.000000e+00</td>\n",
       "      <td>0.000000e+00</td>\n",
       "      <td>0.000000e+00</td>\n",
       "      <td>0</td>\n",
       "      <td>1</td>\n",
       "      <td>1</td>\n",
       "      <td>1</td>\n",
       "      <td>-0.213483</td>\n",
       "    </tr>\n",
       "    <tr>\n",
       "      <th>86539724</th>\n",
       "      <td>2.0</td>\n",
       "      <td>202.0</td>\n",
       "      <td>0.0</td>\n",
       "      <td>0.000043</td>\n",
       "      <td>1.004740e-11</td>\n",
       "      <td>6.575125e-13</td>\n",
       "      <td>6.575197e-13</td>\n",
       "      <td>0.000000e+00</td>\n",
       "      <td>0.000000e+00</td>\n",
       "      <td>0</td>\n",
       "      <td>1</td>\n",
       "      <td>1</td>\n",
       "      <td>1</td>\n",
       "      <td>-0.285714</td>\n",
       "    </tr>\n",
       "    <tr>\n",
       "      <th>...</th>\n",
       "      <td>...</td>\n",
       "      <td>...</td>\n",
       "      <td>...</td>\n",
       "      <td>...</td>\n",
       "      <td>...</td>\n",
       "      <td>...</td>\n",
       "      <td>...</td>\n",
       "      <td>...</td>\n",
       "      <td>...</td>\n",
       "      <td>...</td>\n",
       "      <td>...</td>\n",
       "      <td>...</td>\n",
       "      <td>...</td>\n",
       "      <td>...</td>\n",
       "    </tr>\n",
       "    <tr>\n",
       "      <th>35208371</th>\n",
       "      <td>2.0</td>\n",
       "      <td>7253.0</td>\n",
       "      <td>981.0</td>\n",
       "      <td>0.000028</td>\n",
       "      <td>7.326147e-10</td>\n",
       "      <td>4.794267e-11</td>\n",
       "      <td>4.794269e-11</td>\n",
       "      <td>0.000000e+00</td>\n",
       "      <td>2.690737e-11</td>\n",
       "      <td>0</td>\n",
       "      <td>0</td>\n",
       "      <td>2</td>\n",
       "      <td>1</td>\n",
       "      <td>0.071429</td>\n",
       "    </tr>\n",
       "    <tr>\n",
       "      <th>3271005</th>\n",
       "      <td>NaN</td>\n",
       "      <td>NaN</td>\n",
       "      <td>NaN</td>\n",
       "      <td>NaN</td>\n",
       "      <td>NaN</td>\n",
       "      <td>NaN</td>\n",
       "      <td>NaN</td>\n",
       "      <td>NaN</td>\n",
       "      <td>NaN</td>\n",
       "      <td>1</td>\n",
       "      <td>1</td>\n",
       "      <td>1</td>\n",
       "      <td>1</td>\n",
       "      <td>0.000000</td>\n",
       "    </tr>\n",
       "    <tr>\n",
       "      <th>1324639</th>\n",
       "      <td>NaN</td>\n",
       "      <td>NaN</td>\n",
       "      <td>NaN</td>\n",
       "      <td>NaN</td>\n",
       "      <td>NaN</td>\n",
       "      <td>NaN</td>\n",
       "      <td>NaN</td>\n",
       "      <td>NaN</td>\n",
       "      <td>NaN</td>\n",
       "      <td>0</td>\n",
       "      <td>0</td>\n",
       "      <td>1</td>\n",
       "      <td>1</td>\n",
       "      <td>0.000000</td>\n",
       "    </tr>\n",
       "    <tr>\n",
       "      <th>241414429</th>\n",
       "      <td>2.0</td>\n",
       "      <td>236.0</td>\n",
       "      <td>1516.0</td>\n",
       "      <td>0.000054</td>\n",
       "      <td>3.615649e-08</td>\n",
       "      <td>2.366099e-09</td>\n",
       "      <td>2.366101e-09</td>\n",
       "      <td>0.000000e+00</td>\n",
       "      <td>4.921389e-49</td>\n",
       "      <td>0</td>\n",
       "      <td>0</td>\n",
       "      <td>1</td>\n",
       "      <td>1</td>\n",
       "      <td>0.111111</td>\n",
       "    </tr>\n",
       "    <tr>\n",
       "      <th>936157</th>\n",
       "      <td>1.0</td>\n",
       "      <td>9076.0</td>\n",
       "      <td>6823.0</td>\n",
       "      <td>0.000165</td>\n",
       "      <td>9.723002e-08</td>\n",
       "      <td>6.362787e-09</td>\n",
       "      <td>6.362798e-09</td>\n",
       "      <td>2.634615e-10</td>\n",
       "      <td>2.024440e-11</td>\n",
       "      <td>0</td>\n",
       "      <td>1</td>\n",
       "      <td>1</td>\n",
       "      <td>1</td>\n",
       "      <td>0.127273</td>\n",
       "    </tr>\n",
       "  </tbody>\n",
       "</table>\n",
       "<p>65 rows × 14 columns</p>\n",
       "</div>"
      ],
      "text/plain": [
       "           gender  followers_qty  friends_qty  pagerank_score  \\\n",
       "uid                                                             \n",
       "6182154       2.0         1198.0       1761.0        0.000014   \n",
       "61756961      1.0         1977.0       7969.0        0.000079   \n",
       "301218        1.0            0.0          0.0        0.000018   \n",
       "59772761      2.0          448.0          0.0        0.000000   \n",
       "86539724      2.0          202.0          0.0        0.000043   \n",
       "...           ...            ...          ...             ...   \n",
       "35208371      2.0         7253.0        981.0        0.000028   \n",
       "3271005       NaN            NaN          NaN             NaN   \n",
       "1324639       NaN            NaN          NaN             NaN   \n",
       "241414429     2.0          236.0       1516.0        0.000054   \n",
       "936157        1.0         9076.0       6823.0        0.000165   \n",
       "\n",
       "           eigencentrality_score       hits_in      hits_out   flw_hits_in  \\\n",
       "uid                                                                          \n",
       "6182154             2.995837e-09  1.960492e-10  1.960496e-10  0.000000e+00   \n",
       "61756961            7.636062e-11  4.997106e-12  4.997143e-12  4.951045e-18   \n",
       "301218              3.868233e-09  2.531393e-10  2.531396e-10  0.000000e+00   \n",
       "59772761            0.000000e+00  0.000000e+00  0.000000e+00  0.000000e+00   \n",
       "86539724            1.004740e-11  6.575125e-13  6.575197e-13  0.000000e+00   \n",
       "...                          ...           ...           ...           ...   \n",
       "35208371            7.326147e-10  4.794267e-11  4.794269e-11  0.000000e+00   \n",
       "3271005                      NaN           NaN           NaN           NaN   \n",
       "1324639                      NaN           NaN           NaN           NaN   \n",
       "241414429           3.615649e-08  2.366099e-09  2.366101e-09  0.000000e+00   \n",
       "936157              9.723002e-08  6.362787e-09  6.362798e-09  2.634615e-10   \n",
       "\n",
       "           flw_hits_out  is_nsfw  has_smile  number_of_faces  has_face  \\\n",
       "uid                                                                      \n",
       "6182154    2.308404e-06        0          0                1         1   \n",
       "61756961   0.000000e+00        0          1                1         1   \n",
       "301218     0.000000e+00        1          0                1         1   \n",
       "59772761   0.000000e+00        0          1                1         1   \n",
       "86539724   0.000000e+00        0          1                1         1   \n",
       "...                 ...      ...        ...              ...       ...   \n",
       "35208371   2.690737e-11        0          0                2         1   \n",
       "3271005             NaN        1          1                1         1   \n",
       "1324639             NaN        0          0                1         1   \n",
       "241414429  4.921389e-49        0          0                1         1   \n",
       "936157     2.024440e-11        0          1                1         1   \n",
       "\n",
       "           text_mood  \n",
       "uid                   \n",
       "6182154     0.118644  \n",
       "61756961    0.375000  \n",
       "301218      0.000000  \n",
       "59772761   -0.213483  \n",
       "86539724   -0.285714  \n",
       "...              ...  \n",
       "35208371    0.071429  \n",
       "3271005     0.000000  \n",
       "1324639     0.000000  \n",
       "241414429   0.111111  \n",
       "936157      0.127273  \n",
       "\n",
       "[65 rows x 14 columns]"
      ]
     },
     "execution_count": 70,
     "metadata": {},
     "output_type": "execute_result"
    }
   ],
   "source": [
    "data.loc[leaders.ID].dropna(how='all')"
   ]
  },
  {
   "cell_type": "markdown",
   "metadata": {},
   "source": [
    "Все лидеры так или иначе есть в нашем датасете. Даже если они скрыли страницы, их аватары скачали и обработали."
   ]
  },
  {
   "cell_type": "code",
   "execution_count": 71,
   "metadata": {},
   "outputs": [],
   "source": [
    "leaders_features = data.loc[leaders.ID].dropna(how='all').copy(deep=True)"
   ]
  },
  {
   "cell_type": "code",
   "execution_count": 72,
   "metadata": {},
   "outputs": [],
   "source": [
    "data['uid'] = data.index\n",
    "leaders_features = leaders_features.merge(right=leaders[['ID', 'Тип лидерства']], left_on='uid', right_on='ID')\n",
    "leaders_features = leaders_features.rename(columns={'ID':'uid'})\n",
    "leaders_features = leaders_features.rename(columns={u\"Тип лидерства\":'type'})"
   ]
  },
  {
   "cell_type": "markdown",
   "metadata": {},
   "source": [
    "Удалим тех, по кому нет фич из сетевой модели и простых метрик: числа друзей, подписчиков и гендера."
   ]
  },
  {
   "cell_type": "code",
   "execution_count": 73,
   "metadata": {},
   "outputs": [],
   "source": [
    "leaders_features.dropna(how='all', subset=leaders_features.columns[:9].to_list(), inplace=True)"
   ]
  },
  {
   "cell_type": "code",
   "execution_count": 74,
   "metadata": {},
   "outputs": [
    {
     "data": {
      "text/plain": [
       "(56, 16)"
      ]
     },
     "execution_count": 74,
     "metadata": {},
     "output_type": "execute_result"
    }
   ],
   "source": [
    "leaders_features.shape"
   ]
  },
  {
   "cell_type": "markdown",
   "metadata": {},
   "source": [
    "56/65 людей остались для анализа"
   ]
  },
  {
   "cell_type": "code",
   "execution_count": 75,
   "metadata": {
    "scrolled": false
   },
   "outputs": [],
   "source": [
    "leaders_features['gender'] = leaders_features.gender.astype(int)"
   ]
  },
  {
   "cell_type": "code",
   "execution_count": 79,
   "metadata": {},
   "outputs": [],
   "source": [
    "leaders_features['gender'] = leaders_features['gender'].apply(lambda x : 'female' if x==1 else 'male')"
   ]
  },
  {
   "cell_type": "code",
   "execution_count": 105,
   "metadata": {},
   "outputs": [
    {
     "data": {
      "image/png": "[encoded data removed]",
      "text/plain": [
       "<Figure size 864x720 with 1 Axes>"
      ]
     },
     "metadata": {},
     "output_type": "display_data"
    }
   ],
   "source": [
    "leaders_features.groupby(['gender', 'type']).count()['uid'].to_frame().plot(kind='pie', figsize=(12,10),\n",
    "                                                                       subplots=True, colormap=plt.cm.cubehelix)\n",
    "plt.xlabel('')\n",
    "plt.ylabel('')\n",
    "plt.show()"
   ]
  },
  {
   "cell_type": "code",
   "execution_count": 111,
   "metadata": {},
   "outputs": [],
   "source": [
    "feature_mat = leaders_features[leaders_features.columns[1:-2]].values"
   ]
  },
  {
   "cell_type": "code",
   "execution_count": 131,
   "metadata": {},
   "outputs": [
    {
     "data": {
      "application/vnd.jupyter.widget-view+json": {
       "model_id": "",
       "version_major": 2,
       "version_minor": 0
      },
      "text/plain": [
       "interactive(children=(IntSlider(value=50, description='perplexity', min=2, step=2), IntSlider(value=49, descri…"
      ]
     },
     "metadata": {},
     "output_type": "display_data"
    }
   ],
   "source": [
    "@interact\n",
    "def plot_tsne(perplexity=(2, 100, 2), early_exaggeration=(1, 100, 2)):\n",
    "    tsne = TSNE(n_components=2, perplexity=perplexity, early_exaggeration=early_exaggeration, random_state=42)\n",
    "    xy = tsne.fit_transform(feature_mat)\n",
    "    plt.scatter(xy[:, 0], xy[:, 1], cmap=plt.cm.cubehelix_r)\n",
    "    plt.show()"
   ]
  },
  {
   "cell_type": "code",
   "execution_count": 138,
   "metadata": {},
   "outputs": [
    {
     "name": "stdout",
     "output_type": "stream",
     "text": [
      "[[0.         0.06207647 0.99945785 ... 0.3317774  0.09650674 0.05356619]\n",
      " [0.06207647 0.         0.99985936 ... 0.63129514 0.00393541 0.22431158]\n",
      " [0.99945785 0.99985936 0.         ... 0.99976335 0.99924739 0.99989831]\n",
      " ...\n",
      " [0.3317774  0.63129514 0.99976335 ... 0.         0.7151289  0.12734821]\n",
      " [0.09650674 0.00393541 0.99924739 ... 0.7151289  0.         0.28329816]\n",
      " [0.05356619 0.22431158 0.99989831 ... 0.12734821 0.28329816 0.        ]]\n"
     ]
    }
   ],
   "source": [
    "print(cosine_distances(feature_mat))"
   ]
  },
  {
   "cell_type": "code",
   "execution_count": 139,
   "metadata": {},
   "outputs": [
    {
     "data": {
      "text/plain": [
       "347.9143934024283"
      ]
     },
     "execution_count": 139,
     "metadata": {},
     "output_type": "execute_result"
    }
   ],
   "source": [
    "feature_mat.mean()"
   ]
  },
  {
   "cell_type": "code",
   "execution_count": 140,
   "metadata": {},
   "outputs": [
    {
     "data": {
      "text/plain": [
       "1690.0500176472403"
      ]
     },
     "execution_count": 140,
     "metadata": {},
     "output_type": "execute_result"
    }
   ],
   "source": [
    "feature_mat.std()"
   ]
  },
  {
   "cell_type": "code",
   "execution_count": 142,
   "metadata": {},
   "outputs": [
    {
     "data": {
      "text/html": [
       "<div>\n",
       "<style scoped>\n",
       "    .dataframe tbody tr th:only-of-type {\n",
       "        vertical-align: middle;\n",
       "    }\n",
       "\n",
       "    .dataframe tbody tr th {\n",
       "        vertical-align: top;\n",
       "    }\n",
       "\n",
       "    .dataframe thead th {\n",
       "        text-align: right;\n",
       "    }\n",
       "</style>\n",
       "<table border=\"1\" class=\"dataframe\">\n",
       "  <thead>\n",
       "    <tr style=\"text-align: right;\">\n",
       "      <th></th>\n",
       "      <th>followers_qty</th>\n",
       "      <th>friends_qty</th>\n",
       "      <th>pagerank_score</th>\n",
       "      <th>eigencentrality_score</th>\n",
       "      <th>hits_in</th>\n",
       "      <th>hits_out</th>\n",
       "      <th>flw_hits_in</th>\n",
       "      <th>flw_hits_out</th>\n",
       "      <th>is_nsfw</th>\n",
       "      <th>has_smile</th>\n",
       "      <th>number_of_faces</th>\n",
       "      <th>has_face</th>\n",
       "      <th>text_mood</th>\n",
       "    </tr>\n",
       "  </thead>\n",
       "  <tbody>\n",
       "    <tr>\n",
       "      <th>count</th>\n",
       "      <td>56.000000</td>\n",
       "      <td>56.000000</td>\n",
       "      <td>56.000000</td>\n",
       "      <td>5.600000e+01</td>\n",
       "      <td>5.600000e+01</td>\n",
       "      <td>5.600000e+01</td>\n",
       "      <td>5.600000e+01</td>\n",
       "      <td>5.600000e+01</td>\n",
       "      <td>56.000000</td>\n",
       "      <td>56.000000</td>\n",
       "      <td>56.000000</td>\n",
       "      <td>56.000000</td>\n",
       "      <td>56.000000</td>\n",
       "    </tr>\n",
       "    <tr>\n",
       "      <th>mean</th>\n",
       "      <td>2529.857143</td>\n",
       "      <td>1990.446429</td>\n",
       "      <td>0.000056</td>\n",
       "      <td>1.384161e-07</td>\n",
       "      <td>9.058013e-09</td>\n",
       "      <td>9.058014e-09</td>\n",
       "      <td>4.766495e-09</td>\n",
       "      <td>8.238423e-08</td>\n",
       "      <td>0.035714</td>\n",
       "      <td>0.517857</td>\n",
       "      <td>0.928571</td>\n",
       "      <td>0.892857</td>\n",
       "      <td>0.208487</td>\n",
       "    </tr>\n",
       "    <tr>\n",
       "      <th>std</th>\n",
       "      <td>4489.713303</td>\n",
       "      <td>2949.715345</td>\n",
       "      <td>0.000059</td>\n",
       "      <td>5.608745e-07</td>\n",
       "      <td>3.670389e-08</td>\n",
       "      <td>3.670389e-08</td>\n",
       "      <td>1.959614e-08</td>\n",
       "      <td>4.300288e-07</td>\n",
       "      <td>0.187256</td>\n",
       "      <td>0.504203</td>\n",
       "      <td>0.374513</td>\n",
       "      <td>0.312094</td>\n",
       "      <td>0.388706</td>\n",
       "    </tr>\n",
       "    <tr>\n",
       "      <th>min</th>\n",
       "      <td>0.000000</td>\n",
       "      <td>0.000000</td>\n",
       "      <td>0.000000</td>\n",
       "      <td>0.000000e+00</td>\n",
       "      <td>0.000000e+00</td>\n",
       "      <td>0.000000e+00</td>\n",
       "      <td>0.000000e+00</td>\n",
       "      <td>0.000000e+00</td>\n",
       "      <td>0.000000</td>\n",
       "      <td>0.000000</td>\n",
       "      <td>0.000000</td>\n",
       "      <td>0.000000</td>\n",
       "      <td>-0.800000</td>\n",
       "    </tr>\n",
       "    <tr>\n",
       "      <th>25%</th>\n",
       "      <td>166.000000</td>\n",
       "      <td>0.000000</td>\n",
       "      <td>0.000011</td>\n",
       "      <td>2.966887e-11</td>\n",
       "      <td>1.941548e-12</td>\n",
       "      <td>1.941552e-12</td>\n",
       "      <td>0.000000e+00</td>\n",
       "      <td>0.000000e+00</td>\n",
       "      <td>0.000000</td>\n",
       "      <td>0.000000</td>\n",
       "      <td>1.000000</td>\n",
       "      <td>1.000000</td>\n",
       "      <td>0.000000</td>\n",
       "    </tr>\n",
       "    <tr>\n",
       "      <th>50%</th>\n",
       "      <td>519.000000</td>\n",
       "      <td>0.000000</td>\n",
       "      <td>0.000037</td>\n",
       "      <td>1.509232e-09</td>\n",
       "      <td>9.876505e-11</td>\n",
       "      <td>9.876526e-11</td>\n",
       "      <td>0.000000e+00</td>\n",
       "      <td>0.000000e+00</td>\n",
       "      <td>0.000000</td>\n",
       "      <td>1.000000</td>\n",
       "      <td>1.000000</td>\n",
       "      <td>1.000000</td>\n",
       "      <td>0.139394</td>\n",
       "    </tr>\n",
       "    <tr>\n",
       "      <th>75%</th>\n",
       "      <td>2260.500000</td>\n",
       "      <td>4371.750000</td>\n",
       "      <td>0.000078</td>\n",
       "      <td>3.263945e-08</td>\n",
       "      <td>2.135942e-09</td>\n",
       "      <td>2.135943e-09</td>\n",
       "      <td>5.042810e-11</td>\n",
       "      <td>1.675773e-11</td>\n",
       "      <td>0.000000</td>\n",
       "      <td>1.000000</td>\n",
       "      <td>1.000000</td>\n",
       "      <td>1.000000</td>\n",
       "      <td>0.467599</td>\n",
       "    </tr>\n",
       "    <tr>\n",
       "      <th>max</th>\n",
       "      <td>18116.000000</td>\n",
       "      <td>9764.000000</td>\n",
       "      <td>0.000253</td>\n",
       "      <td>2.988257e-06</td>\n",
       "      <td>1.955530e-07</td>\n",
       "      <td>1.955530e-07</td>\n",
       "      <td>9.375773e-08</td>\n",
       "      <td>2.308404e-06</td>\n",
       "      <td>1.000000</td>\n",
       "      <td>1.000000</td>\n",
       "      <td>2.000000</td>\n",
       "      <td>1.000000</td>\n",
       "      <td>1.000000</td>\n",
       "    </tr>\n",
       "  </tbody>\n",
       "</table>\n",
       "</div>"
      ],
      "text/plain": [
       "       followers_qty  friends_qty  pagerank_score  eigencentrality_score  \\\n",
       "count      56.000000    56.000000       56.000000           5.600000e+01   \n",
       "mean     2529.857143  1990.446429        0.000056           1.384161e-07   \n",
       "std      4489.713303  2949.715345        0.000059           5.608745e-07   \n",
       "min         0.000000     0.000000        0.000000           0.000000e+00   \n",
       "25%       166.000000     0.000000        0.000011           2.966887e-11   \n",
       "50%       519.000000     0.000000        0.000037           1.509232e-09   \n",
       "75%      2260.500000  4371.750000        0.000078           3.263945e-08   \n",
       "max     18116.000000  9764.000000        0.000253           2.988257e-06   \n",
       "\n",
       "            hits_in      hits_out   flw_hits_in  flw_hits_out    is_nsfw  \\\n",
       "count  5.600000e+01  5.600000e+01  5.600000e+01  5.600000e+01  56.000000   \n",
       "mean   9.058013e-09  9.058014e-09  4.766495e-09  8.238423e-08   0.035714   \n",
       "std    3.670389e-08  3.670389e-08  1.959614e-08  4.300288e-07   0.187256   \n",
       "min    0.000000e+00  0.000000e+00  0.000000e+00  0.000000e+00   0.000000   \n",
       "25%    1.941548e-12  1.941552e-12  0.000000e+00  0.000000e+00   0.000000   \n",
       "50%    9.876505e-11  9.876526e-11  0.000000e+00  0.000000e+00   0.000000   \n",
       "75%    2.135942e-09  2.135943e-09  5.042810e-11  1.675773e-11   0.000000   \n",
       "max    1.955530e-07  1.955530e-07  9.375773e-08  2.308404e-06   1.000000   \n",
       "\n",
       "       has_smile  number_of_faces   has_face  text_mood  \n",
       "count  56.000000        56.000000  56.000000  56.000000  \n",
       "mean    0.517857         0.928571   0.892857   0.208487  \n",
       "std     0.504203         0.374513   0.312094   0.388706  \n",
       "min     0.000000         0.000000   0.000000  -0.800000  \n",
       "25%     0.000000         1.000000   1.000000   0.000000  \n",
       "50%     1.000000         1.000000   1.000000   0.139394  \n",
       "75%     1.000000         1.000000   1.000000   0.467599  \n",
       "max     1.000000         2.000000   1.000000   1.000000  "
      ]
     },
     "execution_count": 142,
     "metadata": {},
     "output_type": "execute_result"
    }
   ],
   "source": [
    "leaders_features[leaders_features.columns[1:-2]].describe()"
   ]
  },
  {
   "cell_type": "markdown",
   "metadata": {},
   "source": [
    "_____________________\n"
   ]
  },
  {
   "cell_type": "code",
   "execution_count": 143,
   "metadata": {},
   "outputs": [],
   "source": [
    "feature_mat = leaders_features[leaders_features.columns[3:-2]].values"
   ]
  },
  {
   "cell_type": "code",
   "execution_count": 145,
   "metadata": {},
   "outputs": [
    {
     "data": {
      "text/plain": [
       "Index(['pagerank_score', 'eigencentrality_score', 'hits_in', 'hits_out',\n",
       "       'flw_hits_in', 'flw_hits_out', 'is_nsfw', 'has_smile',\n",
       "       'number_of_faces', 'has_face', 'text_mood'],\n",
       "      dtype='object')"
      ]
     },
     "execution_count": 145,
     "metadata": {},
     "output_type": "execute_result"
    }
   ],
   "source": [
    "leaders_features.columns[3:-2]"
   ]
  },
  {
   "cell_type": "code",
   "execution_count": 146,
   "metadata": {},
   "outputs": [
    {
     "data": {
      "application/vnd.jupyter.widget-view+json": {
       "model_id": "36b7c92c3a3f407f9f199ab642ab4d1d",
       "version_major": 2,
       "version_minor": 0
      },
      "text/plain": [
       "interactive(children=(IntSlider(value=50, description='perplexity', min=2, step=2), IntSlider(value=49, descri…"
      ]
     },
     "metadata": {},
     "output_type": "display_data"
    }
   ],
   "source": [
    "@interact\n",
    "def plot_tsne(perplexity=(2, 100, 2), early_exaggeration=(1, 100, 2)):\n",
    "    tsne = TSNE(n_components=2, perplexity=perplexity, early_exaggeration=early_exaggeration, random_state=42)\n",
    "    xy = tsne.fit_transform(feature_mat)\n",
    "    plt.scatter(xy[:, 0], xy[:, 1], cmap=plt.cm.cubehelix_r)\n",
    "    plt.show()"
   ]
  },
  {
   "cell_type": "code",
   "execution_count": 154,
   "metadata": {},
   "outputs": [],
   "source": [
    "dist = euclidean_distances(feature_mat)\n",
    "np.fill_diagonal(dist, np.inf)\n",
    "twins = dist.argmin(axis=1)"
   ]
  },
  {
   "cell_type": "code",
   "execution_count": 157,
   "metadata": {},
   "outputs": [
    {
     "data": {
      "text/plain": [
       "2.0"
      ]
     },
     "execution_count": 157,
     "metadata": {},
     "output_type": "execute_result"
    }
   ],
   "source": [
    "feature_mat.max()"
   ]
  },
  {
   "cell_type": "code",
   "execution_count": 158,
   "metadata": {},
   "outputs": [
    {
     "data": {
      "text/plain": [
       "-0.7999999999999999"
      ]
     },
     "execution_count": 158,
     "metadata": {},
     "output_type": "execute_result"
    }
   ],
   "source": [
    "feature_mat.min()"
   ]
  },
  {
   "cell_type": "code",
   "execution_count": 155,
   "metadata": {},
   "outputs": [
    {
     "data": {
      "text/plain": [
       "0.2348675275451358"
      ]
     },
     "execution_count": 155,
     "metadata": {},
     "output_type": "execute_result"
    }
   ],
   "source": [
    "feature_mat.mean()"
   ]
  },
  {
   "cell_type": "code",
   "execution_count": 156,
   "metadata": {},
   "outputs": [
    {
     "data": {
      "text/plain": [
       "0.42974615506210817"
      ]
     },
     "execution_count": 156,
     "metadata": {},
     "output_type": "execute_result"
    }
   ],
   "source": [
    "feature_mat.std()"
   ]
  },
  {
   "cell_type": "code",
   "execution_count": 163,
   "metadata": {},
   "outputs": [
    {
     "data": {
      "text/plain": [
       "25"
      ]
     },
     "execution_count": 163,
     "metadata": {},
     "output_type": "execute_result"
    }
   ],
   "source": [
    "friends_ratio = (leaders_features['friends_qty'].astype(float)/leaders_features['followers_qty'].astype(float)).dropna()\n",
    "len(friends_ratio[friends_ratio!=0])"
   ]
  },
  {
   "cell_type": "code",
   "execution_count": 164,
   "metadata": {},
   "outputs": [
    {
     "data": {
      "text/plain": [
       "count    25.000000\n",
       "mean     13.585305\n",
       "std      22.606769\n",
       "min       0.061523\n",
       "25%       2.407407\n",
       "50%       5.053879\n",
       "75%      10.979296\n",
       "max      83.842105\n",
       "dtype: float64"
      ]
     },
     "execution_count": 164,
     "metadata": {},
     "output_type": "execute_result"
    }
   ],
   "source": [
    "friends_ratio[friends_ratio!=0].describe()"
   ]
  },
  {
   "cell_type": "code",
   "execution_count": null,
   "metadata": {},
   "outputs": [],
   "source": []
  }
 ],
 "metadata": {
  "kernelspec": {
   "display_name": "Python 3",
   "language": "python",
   "name": "python3"
  },
  "language_info": {
   "codemirror_mode": {
    "name": "ipython",
    "version": 3
   },
   "file_extension": ".py",
   "mimetype": "text/x-python",
   "name": "python",
   "nbconvert_exporter": "python",
   "pygments_lexer": "ipython3",
   "version": "3.6.9"
  },
  "latex_envs": {
   "LaTeX_envs_menu_present": true,
   "autoclose": false,
   "autocomplete": true,
   "bibliofile": "biblio.bib",
   "cite_by": "apalike",
   "current_citInitial": 1,
   "eqLabelWithNumbers": true,
   "eqNumInitial": 1,
   "hotkeys": {
    "equation": "Ctrl-E",
    "itemize": "Ctrl-I"
   },
   "labels_anchors": false,
   "latex_user_defs": false,
   "report_style_numbering": false,
   "user_envs_cfg": false
  }
 },
 "nbformat": 4,
 "nbformat_minor": 2
}
