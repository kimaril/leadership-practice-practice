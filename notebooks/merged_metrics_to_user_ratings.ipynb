{
 "cells": [
  {
   "cell_type": "code",
   "execution_count": 1,
   "metadata": {},
   "outputs": [],
   "source": [
    "import pandas as pd"
   ]
  },
  {
   "cell_type": "code",
   "execution_count": 2,
   "metadata": {},
   "outputs": [],
   "source": [
    "def getTop(df, column, n=10):\n",
    "    l = df[column].to_dict().items()\n",
    "    return sorted(l, key=lambda x : x[-1], reverse=True)[:n]\n",
    "\n",
    "def getRank(df, column):\n",
    "        return {k:i for i, (k, v) in enumerate(getTop(df, column, n=None), 1)}"
   ]
  },
  {
   "cell_type": "code",
   "execution_count": 3,
   "metadata": {},
   "outputs": [],
   "source": [
    "data = pd.read_csv('./all_features.csv')\n",
    "data = data.set_index('uid')\n",
    "\n",
    "data['text_mood'] = data['text_mood'].fillna(value=0.0)\n",
    "data[['is_nsfw', 'has_smile', 'number_of_faces', 'has_face']] = \\\n",
    "data[['is_nsfw', 'has_smile', 'number_of_faces', 'has_face']].fillna(0.0).astype(int)\n",
    "\n",
    "data.to_csv('.all_features.csv', index_label='vk_id')"
   ]
  },
  {
   "cell_type": "code",
   "execution_count": 4,
   "metadata": {},
   "outputs": [
    {
     "data": {
      "text/plain": [
       "Index(['gender', 'followers_qty', 'friends_qty', 'pagerank_score',\n",
       "       'eigencentrality_score', 'hits_in', 'hits_out', 'flw_hits_in',\n",
       "       'flw_hits_out', 'is_nsfw', 'has_smile', 'number_of_faces', 'has_face',\n",
       "       'text_mood'],\n",
       "      dtype='object')"
      ]
     },
     "execution_count": 4,
     "metadata": {},
     "output_type": "execute_result"
    }
   ],
   "source": [
    "data.columns"
   ]
  },
  {
   "cell_type": "markdown",
   "metadata": {},
   "source": [
    "## Cleaning data"
   ]
  },
  {
   "cell_type": "code",
   "execution_count": 24,
   "metadata": {},
   "outputs": [],
   "source": [
    "data['url'] = 'https://www.vk.com/id' + data.index.astype(str)"
   ]
  },
  {
   "cell_type": "markdown",
   "metadata": {},
   "source": [
    "NB: 1st gender - female, 2nd - male"
   ]
  },
  {
   "cell_type": "code",
   "execution_count": 28,
   "metadata": {},
   "outputs": [
    {
     "data": {
      "text/plain": [
       "uid\n",
       "169          1\n",
       "204          0\n",
       "276          0\n",
       "586          0\n",
       "1338         0\n",
       "            ..\n",
       "585709146    0\n",
       "586222067    0\n",
       "587578107    0\n",
       "587988016    0\n",
       "588191942    0\n",
       "Name: is_nsfw, Length: 140711, dtype: int64"
      ]
     },
     "execution_count": 28,
     "metadata": {},
     "output_type": "execute_result"
    }
   ],
   "source": [
    "data.is_nsfw"
   ]
  },
  {
   "cell_type": "code",
   "execution_count": 27,
   "metadata": {
    "scrolled": true
   },
   "outputs": [
    {
     "data": {
      "text/plain": [
       "uid\n",
       "19959        https://www.vk.com/id19959\n",
       "29009        https://www.vk.com/id29009\n",
       "37057        https://www.vk.com/id37057\n",
       "47503        https://www.vk.com/id47503\n",
       "90423        https://www.vk.com/id90423\n",
       "                       ...             \n",
       "5699822    https://www.vk.com/id5699822\n",
       "5726541    https://www.vk.com/id5726541\n",
       "5821226    https://www.vk.com/id5821226\n",
       "5923204    https://www.vk.com/id5923204\n",
       "6049084    https://www.vk.com/id6049084\n",
       "Name: url, Length: 100, dtype: object"
      ]
     },
     "execution_count": 27,
     "metadata": {},
     "output_type": "execute_result"
    }
   ],
   "source": [
    "data[(data.gender==2) & (data.is_nsfw==1)].url.iloc[:100]"
   ]
  },
  {
   "cell_type": "code",
   "execution_count": 33,
   "metadata": {},
   "outputs": [
    {
     "data": {
      "text/plain": [
       "0.06189281577133273"
      ]
     },
     "execution_count": 33,
     "metadata": {},
     "output_type": "execute_result"
    }
   ],
   "source": [
    "data[data.followers_qty<data.friends_qty].shape[0]/data.shape[0]"
   ]
  },
  {
   "cell_type": "code",
   "execution_count": 93,
   "metadata": {
    "scrolled": true
   },
   "outputs": [
    {
     "data": {
      "text/plain": [
       "(140711, 15)"
      ]
     },
     "execution_count": 93,
     "metadata": {},
     "output_type": "execute_result"
    }
   ],
   "source": [
    "data.shape"
   ]
  },
  {
   "cell_type": "code",
   "execution_count": 100,
   "metadata": {},
   "outputs": [],
   "source": [
    "del data['url']"
   ]
  },
  {
   "cell_type": "code",
   "execution_count": 106,
   "metadata": {},
   "outputs": [
    {
     "data": {
      "text/html": [
       "<div>\n",
       "<style scoped>\n",
       "    .dataframe tbody tr th:only-of-type {\n",
       "        vertical-align: middle;\n",
       "    }\n",
       "\n",
       "    .dataframe tbody tr th {\n",
       "        vertical-align: top;\n",
       "    }\n",
       "\n",
       "    .dataframe thead th {\n",
       "        text-align: right;\n",
       "    }\n",
       "</style>\n",
       "<table border=\"1\" class=\"dataframe\">\n",
       "  <thead>\n",
       "    <tr style=\"text-align: right;\">\n",
       "      <th></th>\n",
       "      <th>gender</th>\n",
       "      <th>followers_qty</th>\n",
       "      <th>friends_qty</th>\n",
       "      <th>pagerank_score</th>\n",
       "      <th>eigencentrality_score</th>\n",
       "      <th>hits_in</th>\n",
       "      <th>hits_out</th>\n",
       "      <th>flw_hits_in</th>\n",
       "      <th>flw_hits_out</th>\n",
       "      <th>is_nsfw</th>\n",
       "      <th>has_smile</th>\n",
       "      <th>number_of_faces</th>\n",
       "      <th>has_face</th>\n",
       "      <th>text_mood</th>\n",
       "    </tr>\n",
       "    <tr>\n",
       "      <th>uid</th>\n",
       "      <th></th>\n",
       "      <th></th>\n",
       "      <th></th>\n",
       "      <th></th>\n",
       "      <th></th>\n",
       "      <th></th>\n",
       "      <th></th>\n",
       "      <th></th>\n",
       "      <th></th>\n",
       "      <th></th>\n",
       "      <th></th>\n",
       "      <th></th>\n",
       "      <th></th>\n",
       "      <th></th>\n",
       "    </tr>\n",
       "  </thead>\n",
       "  <tbody>\n",
       "    <tr>\n",
       "      <th>169</th>\n",
       "      <td>1.0</td>\n",
       "      <td>8621.0</td>\n",
       "      <td>0.0</td>\n",
       "      <td>0.000081</td>\n",
       "      <td>9.750758e-08</td>\n",
       "      <td>6.380952e-09</td>\n",
       "      <td>6.380963e-09</td>\n",
       "      <td>0.000000e+00</td>\n",
       "      <td>5.985958e-08</td>\n",
       "      <td>1</td>\n",
       "      <td>0</td>\n",
       "      <td>1</td>\n",
       "      <td>1</td>\n",
       "      <td>-0.142857</td>\n",
       "    </tr>\n",
       "    <tr>\n",
       "      <th>204</th>\n",
       "      <td>1.0</td>\n",
       "      <td>2912.0</td>\n",
       "      <td>240.0</td>\n",
       "      <td>0.000008</td>\n",
       "      <td>2.934387e-09</td>\n",
       "      <td>1.920279e-10</td>\n",
       "      <td>1.920282e-10</td>\n",
       "      <td>1.393409e-10</td>\n",
       "      <td>3.333800e-09</td>\n",
       "      <td>0</td>\n",
       "      <td>1</td>\n",
       "      <td>1</td>\n",
       "      <td>1</td>\n",
       "      <td>0.000000</td>\n",
       "    </tr>\n",
       "    <tr>\n",
       "      <th>276</th>\n",
       "      <td>1.0</td>\n",
       "      <td>3023.0</td>\n",
       "      <td>324.0</td>\n",
       "      <td>0.000008</td>\n",
       "      <td>3.314272e-11</td>\n",
       "      <td>2.168891e-12</td>\n",
       "      <td>2.168910e-12</td>\n",
       "      <td>0.000000e+00</td>\n",
       "      <td>1.877361e-54</td>\n",
       "      <td>0</td>\n",
       "      <td>1</td>\n",
       "      <td>1</td>\n",
       "      <td>1</td>\n",
       "      <td>-0.136364</td>\n",
       "    </tr>\n",
       "    <tr>\n",
       "      <th>586</th>\n",
       "      <td>2.0</td>\n",
       "      <td>0.0</td>\n",
       "      <td>0.0</td>\n",
       "      <td>0.000015</td>\n",
       "      <td>5.480418e-12</td>\n",
       "      <td>3.586429e-13</td>\n",
       "      <td>3.586450e-13</td>\n",
       "      <td>9.515891e-13</td>\n",
       "      <td>0.000000e+00</td>\n",
       "      <td>0</td>\n",
       "      <td>0</td>\n",
       "      <td>0</td>\n",
       "      <td>0</td>\n",
       "      <td>0.200000</td>\n",
       "    </tr>\n",
       "    <tr>\n",
       "      <th>1338</th>\n",
       "      <td>1.0</td>\n",
       "      <td>2878.0</td>\n",
       "      <td>0.0</td>\n",
       "      <td>0.000028</td>\n",
       "      <td>1.026794e-09</td>\n",
       "      <td>6.719400e-11</td>\n",
       "      <td>6.719414e-11</td>\n",
       "      <td>0.000000e+00</td>\n",
       "      <td>7.685454e-09</td>\n",
       "      <td>0</td>\n",
       "      <td>0</td>\n",
       "      <td>0</td>\n",
       "      <td>0</td>\n",
       "      <td>0.195876</td>\n",
       "    </tr>\n",
       "  </tbody>\n",
       "</table>\n",
       "</div>"
      ],
      "text/plain": [
       "      gender  followers_qty  friends_qty  pagerank_score  \\\n",
       "uid                                                        \n",
       "169      1.0         8621.0          0.0        0.000081   \n",
       "204      1.0         2912.0        240.0        0.000008   \n",
       "276      1.0         3023.0        324.0        0.000008   \n",
       "586      2.0            0.0          0.0        0.000015   \n",
       "1338     1.0         2878.0          0.0        0.000028   \n",
       "\n",
       "      eigencentrality_score       hits_in      hits_out   flw_hits_in  \\\n",
       "uid                                                                     \n",
       "169            9.750758e-08  6.380952e-09  6.380963e-09  0.000000e+00   \n",
       "204            2.934387e-09  1.920279e-10  1.920282e-10  1.393409e-10   \n",
       "276            3.314272e-11  2.168891e-12  2.168910e-12  0.000000e+00   \n",
       "586            5.480418e-12  3.586429e-13  3.586450e-13  9.515891e-13   \n",
       "1338           1.026794e-09  6.719400e-11  6.719414e-11  0.000000e+00   \n",
       "\n",
       "      flw_hits_out  is_nsfw  has_smile  number_of_faces  has_face  text_mood  \n",
       "uid                                                                           \n",
       "169   5.985958e-08        1          0                1         1  -0.142857  \n",
       "204   3.333800e-09        0          1                1         1   0.000000  \n",
       "276   1.877361e-54        0          1                1         1  -0.136364  \n",
       "586   0.000000e+00        0          0                0         0   0.200000  \n",
       "1338  7.685454e-09        0          0                0         0   0.195876  "
      ]
     },
     "execution_count": 106,
     "metadata": {},
     "output_type": "execute_result"
    }
   ],
   "source": [
    "data.head()"
   ]
  },
  {
   "cell_type": "code",
   "execution_count": 111,
   "metadata": {},
   "outputs": [],
   "source": [
    "data = data.dropna(how='all', subset=['gender', 'followers_qty', 'friends_qty', 'pagerank_score', 'eigencentrality_score', \n",
    "                                      'hits_in', 'hits_out', 'flw_hits_in', 'flw_hits_out']).copy(deep=True)"
   ]
  },
  {
   "cell_type": "code",
   "execution_count": 112,
   "metadata": {},
   "outputs": [
    {
     "data": {
      "text/plain": [
       "(44637, 14)"
      ]
     },
     "execution_count": 112,
     "metadata": {},
     "output_type": "execute_result"
    }
   ],
   "source": [
    "data.shape"
   ]
  },
  {
   "cell_type": "code",
   "execution_count": 113,
   "metadata": {},
   "outputs": [],
   "source": [
    "data['url'] = 'https://www.vk.com/id' + data.index.astype(str)"
   ]
  },
  {
   "cell_type": "code",
   "execution_count": 92,
   "metadata": {
    "scrolled": false
   },
   "outputs": [],
   "source": [
    "data[(data.followers_qty<data.friends_qty) & (data.friends_qty>1000) & (data.is_nsfw==1) & (data.has_smile==0)].\\\n",
    "to_csv('./bots.nsfw.csv')"
   ]
  },
  {
   "cell_type": "code",
   "execution_count": 115,
   "metadata": {},
   "outputs": [
    {
     "data": {
      "text/html": [
       "<div>\n",
       "<style scoped>\n",
       "    .dataframe tbody tr th:only-of-type {\n",
       "        vertical-align: middle;\n",
       "    }\n",
       "\n",
       "    .dataframe tbody tr th {\n",
       "        vertical-align: top;\n",
       "    }\n",
       "\n",
       "    .dataframe thead th {\n",
       "        text-align: right;\n",
       "    }\n",
       "</style>\n",
       "<table border=\"1\" class=\"dataframe\">\n",
       "  <thead>\n",
       "    <tr style=\"text-align: right;\">\n",
       "      <th></th>\n",
       "      <th>Unnamed: 0</th>\n",
       "      <th>ID(alias)</th>\n",
       "      <th>ID</th>\n",
       "      <th>Тип лидерства</th>\n",
       "      <th>комментарий</th>\n",
       "    </tr>\n",
       "  </thead>\n",
       "  <tbody>\n",
       "    <tr>\n",
       "      <th>0</th>\n",
       "      <td>0</td>\n",
       "      <td>miller3</td>\n",
       "      <td>6182154</td>\n",
       "      <td>транзакционный</td>\n",
       "      <td>немного трансформационный художник, комменты у...</td>\n",
       "    </tr>\n",
       "    <tr>\n",
       "      <th>1</th>\n",
       "      <td>1</td>\n",
       "      <td>es_borisenko</td>\n",
       "      <td>61756961</td>\n",
       "      <td>служитель</td>\n",
       "      <td>немного трансформационный, фотограф женщина</td>\n",
       "    </tr>\n",
       "    <tr>\n",
       "      <th>2</th>\n",
       "      <td>2</td>\n",
       "      <td>ekaterina.kuzovkova</td>\n",
       "      <td>301218</td>\n",
       "      <td>транзакционный</td>\n",
       "      <td>модель, только свои фото, комменты удалена опция</td>\n",
       "    </tr>\n",
       "    <tr>\n",
       "      <th>3</th>\n",
       "      <td>3</td>\n",
       "      <td>id59772761</td>\n",
       "      <td>59772761</td>\n",
       "      <td>трансформационный</td>\n",
       "      <td>диджей из Белгорода, может трансформационный, ...</td>\n",
       "    </tr>\n",
       "    <tr>\n",
       "      <th>4</th>\n",
       "      <td>4</td>\n",
       "      <td>drevid_art</td>\n",
       "      <td>86539724</td>\n",
       "      <td>транзакционный</td>\n",
       "      <td>парень, фотограф-дизайнер, любит себя</td>\n",
       "    </tr>\n",
       "  </tbody>\n",
       "</table>\n",
       "</div>"
      ],
      "text/plain": [
       "   Unnamed: 0            ID(alias)        ID      Тип лидерства  \\\n",
       "0           0              miller3   6182154     транзакционный   \n",
       "1           1         es_borisenko  61756961          служитель   \n",
       "2           2  ekaterina.kuzovkova    301218     транзакционный   \n",
       "3           3           id59772761  59772761  трансформационный   \n",
       "4           4           drevid_art  86539724     транзакционный   \n",
       "\n",
       "                                         комментарий  \n",
       "0  немного трансформационный художник, комменты у...  \n",
       "1        немного трансформационный, фотограф женщина  \n",
       "2   модель, только свои фото, комменты удалена опция  \n",
       "3  диджей из Белгорода, может трансформационный, ...  \n",
       "4              парень, фотограф-дизайнер, любит себя  "
      ]
     },
     "execution_count": 115,
     "metadata": {},
     "output_type": "execute_result"
    }
   ],
   "source": [
    "leaders = pd.read_csv('../data/leaders.labelled.csv')\n",
    "leaders.head()"
   ]
  },
  {
   "cell_type": "code",
   "execution_count": 116,
   "metadata": {},
   "outputs": [
    {
     "data": {
      "text/plain": [
       "(99, 5)"
      ]
     },
     "execution_count": 116,
     "metadata": {},
     "output_type": "execute_result"
    }
   ],
   "source": [
    "leaders.shape"
   ]
  },
  {
   "cell_type": "code",
   "execution_count": 123,
   "metadata": {},
   "outputs": [
    {
     "name": "stderr",
     "output_type": "stream",
     "text": [
      "/home/kim/.local/lib/python3.6/site-packages/ipykernel_launcher.py:1: FutureWarning: \n",
      "Passing list-likes to .loc or [] with any missing label will raise\n",
      "KeyError in the future, you can use .reindex() as an alternative.\n",
      "\n",
      "See the documentation here:\n",
      "https://pandas.pydata.org/pandas-docs/stable/user_guide/indexing.html#deprecate-loc-reindex-listlike\n",
      "  \"\"\"Entry point for launching an IPython kernel.\n"
     ]
    }
   ],
   "source": [
    "leaders_in_our_data = data.loc[leaders.ID.to_list()].dropna().sort_values('followers_qty', ascending=False).copy(deep=True)"
   ]
  },
  {
   "cell_type": "code",
   "execution_count": 126,
   "metadata": {},
   "outputs": [],
   "source": [
    "leaders_in_our_data['ID'] = leaders_in_our_data.index.astype(str)"
   ]
  },
  {
   "cell_type": "code",
   "execution_count": 128,
   "metadata": {},
   "outputs": [],
   "source": [
    "leaders['ID'] = leaders.ID.astype(str)"
   ]
  },
  {
   "cell_type": "code",
   "execution_count": 130,
   "metadata": {},
   "outputs": [],
   "source": [
    "leaders_in_our_data = leaders_in_our_data.merge(leaders).copy(deep=True)"
   ]
  },
  {
   "cell_type": "code",
   "execution_count": 131,
   "metadata": {},
   "outputs": [],
   "source": [
    "del leaders_in_our_data['Unnamed: 0']"
   ]
  },
  {
   "cell_type": "code",
   "execution_count": 132,
   "metadata": {},
   "outputs": [],
   "source": [
    "leaders_in_our_data.to_csv('./leaders_in_our_data.csv')"
   ]
  },
  {
   "cell_type": "code",
   "execution_count": 144,
   "metadata": {},
   "outputs": [],
   "source": [
    "data = data[~((data.friends_qty>5000) & (data.followers_qty<1000))]"
   ]
  },
  {
   "cell_type": "markdown",
   "metadata": {},
   "source": [
    "______"
   ]
  },
  {
   "cell_type": "code",
   "execution_count": 145,
   "metadata": {},
   "outputs": [],
   "source": [
    "rating_columns = data.columns.to_list()\n",
    "rating_columns.remove('is_nsfw')\n",
    "rating_columns.remove('gender')\n",
    "rating_columns.remove('has_smile')\n",
    "rating_columns.remove('has_face')\n",
    "\n",
    "\n",
    "ratings = {}\n",
    "for c in rating_columns:\n",
    "    ratings[c] = getRank(data, c)\n",
    "    \n",
    "ratings = pd.DataFrame(ratings)"
   ]
  },
  {
   "cell_type": "code",
   "execution_count": 146,
   "metadata": {},
   "outputs": [],
   "source": [
    "ratings['url'] = ratings.index.map(lambda x : f'https://vk.com/id{x}')"
   ]
  },
  {
   "cell_type": "code",
   "execution_count": 147,
   "metadata": {},
   "outputs": [],
   "source": [
    "resulting_df = pd.concat([ratings, data[['is_nsfw', 'gender', 'has_smile', 'has_face']]], axis=1)"
   ]
  },
  {
   "cell_type": "code",
   "execution_count": 148,
   "metadata": {
    "scrolled": true
   },
   "outputs": [
    {
     "data": {
      "text/html": [
       "<div>\n",
       "<style scoped>\n",
       "    .dataframe tbody tr th:only-of-type {\n",
       "        vertical-align: middle;\n",
       "    }\n",
       "\n",
       "    .dataframe tbody tr th {\n",
       "        vertical-align: top;\n",
       "    }\n",
       "\n",
       "    .dataframe thead th {\n",
       "        text-align: right;\n",
       "    }\n",
       "</style>\n",
       "<table border=\"1\" class=\"dataframe\">\n",
       "  <thead>\n",
       "    <tr style=\"text-align: right;\">\n",
       "      <th></th>\n",
       "      <th>followers_qty</th>\n",
       "      <th>friends_qty</th>\n",
       "      <th>pagerank_score</th>\n",
       "      <th>eigencentrality_score</th>\n",
       "      <th>hits_in</th>\n",
       "      <th>hits_out</th>\n",
       "      <th>flw_hits_in</th>\n",
       "      <th>flw_hits_out</th>\n",
       "      <th>number_of_faces</th>\n",
       "      <th>text_mood</th>\n",
       "      <th>url</th>\n",
       "      <th>is_nsfw</th>\n",
       "      <th>gender</th>\n",
       "      <th>has_smile</th>\n",
       "      <th>has_face</th>\n",
       "    </tr>\n",
       "  </thead>\n",
       "  <tbody>\n",
       "    <tr>\n",
       "      <th>169</th>\n",
       "      <td>74</td>\n",
       "      <td>10498</td>\n",
       "      <td>1596</td>\n",
       "      <td>817</td>\n",
       "      <td>817</td>\n",
       "      <td>817</td>\n",
       "      <td>8075</td>\n",
       "      <td>348</td>\n",
       "      <td>3449</td>\n",
       "      <td>36281</td>\n",
       "      <td>https://vk.com/id169</td>\n",
       "      <td>1</td>\n",
       "      <td>1.0</td>\n",
       "      <td>0</td>\n",
       "      <td>1</td>\n",
       "    </tr>\n",
       "    <tr>\n",
       "      <th>204</th>\n",
       "      <td>322</td>\n",
       "      <td>6264</td>\n",
       "      <td>30314</td>\n",
       "      <td>6781</td>\n",
       "      <td>6756</td>\n",
       "      <td>6756</td>\n",
       "      <td>2480</td>\n",
       "      <td>1451</td>\n",
       "      <td>3450</td>\n",
       "      <td>9633</td>\n",
       "      <td>https://vk.com/id204</td>\n",
       "      <td>0</td>\n",
       "      <td>1.0</td>\n",
       "      <td>1</td>\n",
       "      <td>1</td>\n",
       "    </tr>\n",
       "    <tr>\n",
       "      <th>276</th>\n",
       "      <td>312</td>\n",
       "      <td>5066</td>\n",
       "      <td>29428</td>\n",
       "      <td>21813</td>\n",
       "      <td>21813</td>\n",
       "      <td>21813</td>\n",
       "      <td>8076</td>\n",
       "      <td>7033</td>\n",
       "      <td>3451</td>\n",
       "      <td>36244</td>\n",
       "      <td>https://vk.com/id276</td>\n",
       "      <td>0</td>\n",
       "      <td>1.0</td>\n",
       "      <td>1</td>\n",
       "      <td>1</td>\n",
       "    </tr>\n",
       "    <tr>\n",
       "      <th>586</th>\n",
       "      <td>20773</td>\n",
       "      <td>10499</td>\n",
       "      <td>17519</td>\n",
       "      <td>26424</td>\n",
       "      <td>26401</td>\n",
       "      <td>26401</td>\n",
       "      <td>4582</td>\n",
       "      <td>8000</td>\n",
       "      <td>30758</td>\n",
       "      <td>6859</td>\n",
       "      <td>https://vk.com/id586</td>\n",
       "      <td>0</td>\n",
       "      <td>2.0</td>\n",
       "      <td>0</td>\n",
       "      <td>0</td>\n",
       "    </tr>\n",
       "    <tr>\n",
       "      <th>1338</th>\n",
       "      <td>327</td>\n",
       "      <td>10500</td>\n",
       "      <td>8421</td>\n",
       "      <td>9030</td>\n",
       "      <td>9030</td>\n",
       "      <td>9030</td>\n",
       "      <td>8077</td>\n",
       "      <td>686</td>\n",
       "      <td>30759</td>\n",
       "      <td>7159</td>\n",
       "      <td>https://vk.com/id1338</td>\n",
       "      <td>0</td>\n",
       "      <td>1.0</td>\n",
       "      <td>0</td>\n",
       "      <td>0</td>\n",
       "    </tr>\n",
       "    <tr>\n",
       "      <th>...</th>\n",
       "      <td>...</td>\n",
       "      <td>...</td>\n",
       "      <td>...</td>\n",
       "      <td>...</td>\n",
       "      <td>...</td>\n",
       "      <td>...</td>\n",
       "      <td>...</td>\n",
       "      <td>...</td>\n",
       "      <td>...</td>\n",
       "      <td>...</td>\n",
       "      <td>...</td>\n",
       "      <td>...</td>\n",
       "      <td>...</td>\n",
       "      <td>...</td>\n",
       "      <td>...</td>\n",
       "    </tr>\n",
       "    <tr>\n",
       "      <th>544507202</th>\n",
       "      <td>19898</td>\n",
       "      <td>9769</td>\n",
       "      <td>26325</td>\n",
       "      <td>15211</td>\n",
       "      <td>15238</td>\n",
       "      <td>15238</td>\n",
       "      <td>44509</td>\n",
       "      <td>44507</td>\n",
       "      <td>44509</td>\n",
       "      <td>3774</td>\n",
       "      <td>https://vk.com/id544507202</td>\n",
       "      <td>0</td>\n",
       "      <td>2.0</td>\n",
       "      <td>0</td>\n",
       "      <td>0</td>\n",
       "    </tr>\n",
       "    <tr>\n",
       "      <th>545345728</th>\n",
       "      <td>44509</td>\n",
       "      <td>44508</td>\n",
       "      <td>19031</td>\n",
       "      <td>9649</td>\n",
       "      <td>9783</td>\n",
       "      <td>9783</td>\n",
       "      <td>44510</td>\n",
       "      <td>44508</td>\n",
       "      <td>44510</td>\n",
       "      <td>34473</td>\n",
       "      <td>https://vk.com/id545345728</td>\n",
       "      <td>0</td>\n",
       "      <td>2.0</td>\n",
       "      <td>0</td>\n",
       "      <td>0</td>\n",
       "    </tr>\n",
       "    <tr>\n",
       "      <th>546453044</th>\n",
       "      <td>44510</td>\n",
       "      <td>44509</td>\n",
       "      <td>21063</td>\n",
       "      <td>14599</td>\n",
       "      <td>14684</td>\n",
       "      <td>14684</td>\n",
       "      <td>187</td>\n",
       "      <td>44509</td>\n",
       "      <td>44511</td>\n",
       "      <td>34474</td>\n",
       "      <td>https://vk.com/id546453044</td>\n",
       "      <td>0</td>\n",
       "      <td>2.0</td>\n",
       "      <td>0</td>\n",
       "      <td>0</td>\n",
       "    </tr>\n",
       "    <tr>\n",
       "      <th>546770024</th>\n",
       "      <td>20108</td>\n",
       "      <td>44510</td>\n",
       "      <td>44511</td>\n",
       "      <td>44457</td>\n",
       "      <td>44511</td>\n",
       "      <td>44511</td>\n",
       "      <td>44511</td>\n",
       "      <td>44510</td>\n",
       "      <td>30756</td>\n",
       "      <td>40361</td>\n",
       "      <td>https://vk.com/id546770024</td>\n",
       "      <td>0</td>\n",
       "      <td>2.0</td>\n",
       "      <td>1</td>\n",
       "      <td>1</td>\n",
       "    </tr>\n",
       "    <tr>\n",
       "      <th>547407787</th>\n",
       "      <td>44511</td>\n",
       "      <td>44511</td>\n",
       "      <td>16253</td>\n",
       "      <td>26576</td>\n",
       "      <td>26608</td>\n",
       "      <td>26608</td>\n",
       "      <td>7102</td>\n",
       "      <td>44511</td>\n",
       "      <td>30757</td>\n",
       "      <td>34475</td>\n",
       "      <td>https://vk.com/id547407787</td>\n",
       "      <td>0</td>\n",
       "      <td>1.0</td>\n",
       "      <td>1</td>\n",
       "      <td>1</td>\n",
       "    </tr>\n",
       "  </tbody>\n",
       "</table>\n",
       "<p>44511 rows × 15 columns</p>\n",
       "</div>"
      ],
      "text/plain": [
       "           followers_qty  friends_qty  pagerank_score  eigencentrality_score  \\\n",
       "169                   74        10498            1596                    817   \n",
       "204                  322         6264           30314                   6781   \n",
       "276                  312         5066           29428                  21813   \n",
       "586                20773        10499           17519                  26424   \n",
       "1338                 327        10500            8421                   9030   \n",
       "...                  ...          ...             ...                    ...   \n",
       "544507202          19898         9769           26325                  15211   \n",
       "545345728          44509        44508           19031                   9649   \n",
       "546453044          44510        44509           21063                  14599   \n",
       "546770024          20108        44510           44511                  44457   \n",
       "547407787          44511        44511           16253                  26576   \n",
       "\n",
       "           hits_in  hits_out  flw_hits_in  flw_hits_out  number_of_faces  \\\n",
       "169            817       817         8075           348             3449   \n",
       "204           6756      6756         2480          1451             3450   \n",
       "276          21813     21813         8076          7033             3451   \n",
       "586          26401     26401         4582          8000            30758   \n",
       "1338          9030      9030         8077           686            30759   \n",
       "...            ...       ...          ...           ...              ...   \n",
       "544507202    15238     15238        44509         44507            44509   \n",
       "545345728     9783      9783        44510         44508            44510   \n",
       "546453044    14684     14684          187         44509            44511   \n",
       "546770024    44511     44511        44511         44510            30756   \n",
       "547407787    26608     26608         7102         44511            30757   \n",
       "\n",
       "           text_mood                         url  is_nsfw  gender  has_smile  \\\n",
       "169            36281        https://vk.com/id169        1     1.0          0   \n",
       "204             9633        https://vk.com/id204        0     1.0          1   \n",
       "276            36244        https://vk.com/id276        0     1.0          1   \n",
       "586             6859        https://vk.com/id586        0     2.0          0   \n",
       "1338            7159       https://vk.com/id1338        0     1.0          0   \n",
       "...              ...                         ...      ...     ...        ...   \n",
       "544507202       3774  https://vk.com/id544507202        0     2.0          0   \n",
       "545345728      34473  https://vk.com/id545345728        0     2.0          0   \n",
       "546453044      34474  https://vk.com/id546453044        0     2.0          0   \n",
       "546770024      40361  https://vk.com/id546770024        0     2.0          1   \n",
       "547407787      34475  https://vk.com/id547407787        0     1.0          1   \n",
       "\n",
       "           has_face  \n",
       "169               1  \n",
       "204               1  \n",
       "276               1  \n",
       "586               0  \n",
       "1338              0  \n",
       "...             ...  \n",
       "544507202         0  \n",
       "545345728         0  \n",
       "546453044         0  \n",
       "546770024         1  \n",
       "547407787         1  \n",
       "\n",
       "[44511 rows x 15 columns]"
      ]
     },
     "execution_count": 148,
     "metadata": {},
     "output_type": "execute_result"
    }
   ],
   "source": [
    "resulting_df"
   ]
  },
  {
   "cell_type": "code",
   "execution_count": 149,
   "metadata": {},
   "outputs": [],
   "source": [
    "top_10000_friendship_pagerank = set(resulting_df.sort_values('pagerank_score').index.to_list()[:10000])\n",
    "top_10000_eigen = set(resulting_df.sort_values('eigencentrality_score').index.to_list()[:10000])\n",
    "top_10000_hitsin = set(resulting_df.sort_values('hits_in').index.to_list()[:10000])\n",
    "top_10000_hitsout = set(resulting_df.sort_values('hits_out').index.to_list()[:10000])\n",
    "top_10000_flw_hitsin = set(resulting_df.sort_values('flw_hits_in').index.to_list()[:10000])\n",
    "top_10000_flw_hitsout = set(resulting_df.sort_values('flw_hits_out').index.to_list()[:10000])\n",
    "top_10000_followers = set(resulting_df.sort_values('followers_qty').index.to_list()[:10000])\n",
    "top_10000_friends = set(resulting_df.sort_values('friends_qty').index.to_list()[:10000])"
   ]
  },
  {
   "cell_type": "code",
   "execution_count": 150,
   "metadata": {},
   "outputs": [],
   "source": [
    "total_top = set.intersection(top_10000_friendship_pagerank, top_10000_eigen, top_10000_hitsin, top_10000_hitsout, \n",
    "                             top_10000_flw_hitsin, top_10000_flw_hitsout, top_10000_followers, top_10000_friends)"
   ]
  },
  {
   "cell_type": "code",
   "execution_count": 151,
   "metadata": {},
   "outputs": [],
   "source": [
    "resulting_df['sum'] = resulting_df[resulting_df.columns.to_list()[:-7]].sum(axis=1)"
   ]
  },
  {
   "cell_type": "code",
   "execution_count": 80,
   "metadata": {},
   "outputs": [
    {
     "data": {
      "text/html": [
       "<div>\n",
       "<style scoped>\n",
       "    .dataframe tbody tr th:only-of-type {\n",
       "        vertical-align: middle;\n",
       "    }\n",
       "\n",
       "    .dataframe tbody tr th {\n",
       "        vertical-align: top;\n",
       "    }\n",
       "\n",
       "    .dataframe thead th {\n",
       "        text-align: right;\n",
       "    }\n",
       "</style>\n",
       "<table border=\"1\" class=\"dataframe\">\n",
       "  <thead>\n",
       "    <tr style=\"text-align: right;\">\n",
       "      <th></th>\n",
       "      <th>followers_qty</th>\n",
       "      <th>friends_qty</th>\n",
       "      <th>pagerank_score</th>\n",
       "      <th>eigencentrality_score</th>\n",
       "      <th>hits_in</th>\n",
       "      <th>hits_out</th>\n",
       "      <th>flw_hits_in</th>\n",
       "      <th>flw_hits_out</th>\n",
       "      <th>number_of_faces</th>\n",
       "      <th>text_mood</th>\n",
       "      <th>url</th>\n",
       "      <th>is_nsfw</th>\n",
       "      <th>gender</th>\n",
       "      <th>has_smile</th>\n",
       "      <th>has_face</th>\n",
       "      <th>sum</th>\n",
       "    </tr>\n",
       "  </thead>\n",
       "  <tbody>\n",
       "    <tr>\n",
       "      <th>936157</th>\n",
       "      <td>61</td>\n",
       "      <td>125</td>\n",
       "      <td>353</td>\n",
       "      <td>829</td>\n",
       "      <td>829</td>\n",
       "      <td>829</td>\n",
       "      <td>1859</td>\n",
       "      <td>3835</td>\n",
       "      <td>7027</td>\n",
       "      <td>80038</td>\n",
       "      <td>https://vk.com/id936157</td>\n",
       "      <td>0</td>\n",
       "      <td>1.0</td>\n",
       "      <td>1</td>\n",
       "      <td>1</td>\n",
       "      <td>8720</td>\n",
       "    </tr>\n",
       "    <tr>\n",
       "      <th>275542564</th>\n",
       "      <td>2918</td>\n",
       "      <td>242</td>\n",
       "      <td>2155</td>\n",
       "      <td>944</td>\n",
       "      <td>944</td>\n",
       "      <td>944</td>\n",
       "      <td>246</td>\n",
       "      <td>8005</td>\n",
       "      <td>28912</td>\n",
       "      <td>70820</td>\n",
       "      <td>https://vk.com/id275542564</td>\n",
       "      <td>0</td>\n",
       "      <td>1.0</td>\n",
       "      <td>1</td>\n",
       "      <td>1</td>\n",
       "      <td>16398</td>\n",
       "    </tr>\n",
       "    <tr>\n",
       "      <th>14831271</th>\n",
       "      <td>691</td>\n",
       "      <td>225</td>\n",
       "      <td>2858</td>\n",
       "      <td>4332</td>\n",
       "      <td>4332</td>\n",
       "      <td>4332</td>\n",
       "      <td>970</td>\n",
       "      <td>1332</td>\n",
       "      <td>36960</td>\n",
       "      <td>71520</td>\n",
       "      <td>https://vk.com/id14831271</td>\n",
       "      <td>0</td>\n",
       "      <td>2.0</td>\n",
       "      <td>0</td>\n",
       "      <td>0</td>\n",
       "      <td>19072</td>\n",
       "    </tr>\n",
       "    <tr>\n",
       "      <th>15464543</th>\n",
       "      <td>294</td>\n",
       "      <td>157</td>\n",
       "      <td>686</td>\n",
       "      <td>5428</td>\n",
       "      <td>5428</td>\n",
       "      <td>5428</td>\n",
       "      <td>1404</td>\n",
       "      <td>1788</td>\n",
       "      <td>16827</td>\n",
       "      <td>79967</td>\n",
       "      <td>https://vk.com/id15464543</td>\n",
       "      <td>0</td>\n",
       "      <td>1.0</td>\n",
       "      <td>1</td>\n",
       "      <td>1</td>\n",
       "      <td>20613</td>\n",
       "    </tr>\n",
       "    <tr>\n",
       "      <th>57536247</th>\n",
       "      <td>2856</td>\n",
       "      <td>237</td>\n",
       "      <td>1812</td>\n",
       "      <td>4323</td>\n",
       "      <td>4323</td>\n",
       "      <td>4323</td>\n",
       "      <td>1384</td>\n",
       "      <td>3987</td>\n",
       "      <td>21503</td>\n",
       "      <td>69919</td>\n",
       "      <td>https://vk.com/id57536247</td>\n",
       "      <td>0</td>\n",
       "      <td>2.0</td>\n",
       "      <td>1</td>\n",
       "      <td>1</td>\n",
       "      <td>23245</td>\n",
       "    </tr>\n",
       "    <tr>\n",
       "      <th>...</th>\n",
       "      <td>...</td>\n",
       "      <td>...</td>\n",
       "      <td>...</td>\n",
       "      <td>...</td>\n",
       "      <td>...</td>\n",
       "      <td>...</td>\n",
       "      <td>...</td>\n",
       "      <td>...</td>\n",
       "      <td>...</td>\n",
       "      <td>...</td>\n",
       "      <td>...</td>\n",
       "      <td>...</td>\n",
       "      <td>...</td>\n",
       "      <td>...</td>\n",
       "      <td>...</td>\n",
       "      <td>...</td>\n",
       "    </tr>\n",
       "    <tr>\n",
       "      <th>264740838</th>\n",
       "      <td>7765</td>\n",
       "      <td>41545</td>\n",
       "      <td>42839</td>\n",
       "      <td>42785</td>\n",
       "      <td>42832</td>\n",
       "      <td>42832</td>\n",
       "      <td>41941</td>\n",
       "      <td>41086</td>\n",
       "      <td>28754</td>\n",
       "      <td>74821</td>\n",
       "      <td>https://vk.com/id264740838</td>\n",
       "      <td>0</td>\n",
       "      <td>2.0</td>\n",
       "      <td>1</td>\n",
       "      <td>1</td>\n",
       "      <td>303625</td>\n",
       "    </tr>\n",
       "    <tr>\n",
       "      <th>437668940</th>\n",
       "      <td>44157</td>\n",
       "      <td>43969</td>\n",
       "      <td>44276</td>\n",
       "      <td>44222</td>\n",
       "      <td>44275</td>\n",
       "      <td>44275</td>\n",
       "      <td>521</td>\n",
       "      <td>43877</td>\n",
       "      <td>30464</td>\n",
       "      <td>106035</td>\n",
       "      <td>https://vk.com/id437668940</td>\n",
       "      <td>0</td>\n",
       "      <td>1.0</td>\n",
       "      <td>0</td>\n",
       "      <td>1</td>\n",
       "      <td>309572</td>\n",
       "    </tr>\n",
       "    <tr>\n",
       "      <th>377444384</th>\n",
       "      <td>7667</td>\n",
       "      <td>43362</td>\n",
       "      <td>43900</td>\n",
       "      <td>43846</td>\n",
       "      <td>43897</td>\n",
       "      <td>43897</td>\n",
       "      <td>43575</td>\n",
       "      <td>43162</td>\n",
       "      <td>30039</td>\n",
       "      <td>80046</td>\n",
       "      <td>https://vk.com/id377444384</td>\n",
       "      <td>0</td>\n",
       "      <td>1.0</td>\n",
       "      <td>0</td>\n",
       "      <td>1</td>\n",
       "      <td>313306</td>\n",
       "    </tr>\n",
       "    <tr>\n",
       "      <th>450721607</th>\n",
       "      <td>5564</td>\n",
       "      <td>44095</td>\n",
       "      <td>44346</td>\n",
       "      <td>44292</td>\n",
       "      <td>44345</td>\n",
       "      <td>44345</td>\n",
       "      <td>44212</td>\n",
       "      <td>44022</td>\n",
       "      <td>3445</td>\n",
       "      <td>74828</td>\n",
       "      <td>https://vk.com/id450721607</td>\n",
       "      <td>0</td>\n",
       "      <td>1.0</td>\n",
       "      <td>0</td>\n",
       "      <td>1</td>\n",
       "      <td>315221</td>\n",
       "    </tr>\n",
       "    <tr>\n",
       "      <th>331507362</th>\n",
       "      <td>16356</td>\n",
       "      <td>42746</td>\n",
       "      <td>43543</td>\n",
       "      <td>43489</td>\n",
       "      <td>43539</td>\n",
       "      <td>43539</td>\n",
       "      <td>43033</td>\n",
       "      <td>42438</td>\n",
       "      <td>29604</td>\n",
       "      <td>112860</td>\n",
       "      <td>https://vk.com/id331507362</td>\n",
       "      <td>0</td>\n",
       "      <td>2.0</td>\n",
       "      <td>0</td>\n",
       "      <td>1</td>\n",
       "      <td>318683</td>\n",
       "    </tr>\n",
       "  </tbody>\n",
       "</table>\n",
       "<p>87 rows × 16 columns</p>\n",
       "</div>"
      ],
      "text/plain": [
       "           followers_qty  friends_qty  pagerank_score  eigencentrality_score  \\\n",
       "936157                61          125             353                    829   \n",
       "275542564           2918          242            2155                    944   \n",
       "14831271             691          225            2858                   4332   \n",
       "15464543             294          157             686                   5428   \n",
       "57536247            2856          237            1812                   4323   \n",
       "...                  ...          ...             ...                    ...   \n",
       "264740838           7765        41545           42839                  42785   \n",
       "437668940          44157        43969           44276                  44222   \n",
       "377444384           7667        43362           43900                  43846   \n",
       "450721607           5564        44095           44346                  44292   \n",
       "331507362          16356        42746           43543                  43489   \n",
       "\n",
       "           hits_in  hits_out  flw_hits_in  flw_hits_out  number_of_faces  \\\n",
       "936157         829       829         1859          3835             7027   \n",
       "275542564      944       944          246          8005            28912   \n",
       "14831271      4332      4332          970          1332            36960   \n",
       "15464543      5428      5428         1404          1788            16827   \n",
       "57536247      4323      4323         1384          3987            21503   \n",
       "...            ...       ...          ...           ...              ...   \n",
       "264740838    42832     42832        41941         41086            28754   \n",
       "437668940    44275     44275          521         43877            30464   \n",
       "377444384    43897     43897        43575         43162            30039   \n",
       "450721607    44345     44345        44212         44022             3445   \n",
       "331507362    43539     43539        43033         42438            29604   \n",
       "\n",
       "           text_mood                         url  is_nsfw  gender  has_smile  \\\n",
       "936157         80038     https://vk.com/id936157        0     1.0          1   \n",
       "275542564      70820  https://vk.com/id275542564        0     1.0          1   \n",
       "14831271       71520   https://vk.com/id14831271        0     2.0          0   \n",
       "15464543       79967   https://vk.com/id15464543        0     1.0          1   \n",
       "57536247       69919   https://vk.com/id57536247        0     2.0          1   \n",
       "...              ...                         ...      ...     ...        ...   \n",
       "264740838      74821  https://vk.com/id264740838        0     2.0          1   \n",
       "437668940     106035  https://vk.com/id437668940        0     1.0          0   \n",
       "377444384      80046  https://vk.com/id377444384        0     1.0          0   \n",
       "450721607      74828  https://vk.com/id450721607        0     1.0          0   \n",
       "331507362     112860  https://vk.com/id331507362        0     2.0          0   \n",
       "\n",
       "           has_face     sum  \n",
       "936157            1    8720  \n",
       "275542564         1   16398  \n",
       "14831271          0   19072  \n",
       "15464543          1   20613  \n",
       "57536247          1   23245  \n",
       "...             ...     ...  \n",
       "264740838         1  303625  \n",
       "437668940         1  309572  \n",
       "377444384         1  313306  \n",
       "450721607         1  315221  \n",
       "331507362         1  318683  \n",
       "\n",
       "[87 rows x 16 columns]"
      ]
     },
     "execution_count": 80,
     "metadata": {},
     "output_type": "execute_result"
    }
   ],
   "source": [
    "resulting_df.loc[leaders.ID.astype(int).to_list()].dropna().sort_values('sum')"
   ]
  },
  {
   "cell_type": "code",
   "execution_count": 170,
   "metadata": {},
   "outputs": [],
   "source": [
    "top_1000_sum = set(resulting_df.sort_values('sum').index.to_list()[:10000])"
   ]
  },
  {
   "cell_type": "code",
   "execution_count": 171,
   "metadata": {},
   "outputs": [
    {
     "data": {
      "text/plain": [
       "1676192        https://vk.com/id1676192\n",
       "54396750      https://vk.com/id54396750\n",
       "4617              https://vk.com/id4617\n",
       "38264770      https://vk.com/id38264770\n",
       "398219          https://vk.com/id398219\n",
       "                        ...            \n",
       "92038265      https://vk.com/id92038265\n",
       "124681665    https://vk.com/id124681665\n",
       "301043192    https://vk.com/id301043192\n",
       "340924441    https://vk.com/id340924441\n",
       "381591773    https://vk.com/id381591773\n",
       "Name: url, Length: 10000, dtype: object"
      ]
     },
     "execution_count": 171,
     "metadata": {},
     "output_type": "execute_result"
    }
   ],
   "source": [
    "resulting_df.loc[top_1000_sum].sort_values('followers_qty').url"
   ]
  },
  {
   "cell_type": "code",
   "execution_count": 172,
   "metadata": {},
   "outputs": [
    {
     "name": "stderr",
     "output_type": "stream",
     "text": [
      "/home/kim/.local/lib/python3.6/site-packages/ipykernel_launcher.py:1: FutureWarning: \n",
      "Passing list-likes to .loc or [] with any missing label will raise\n",
      "KeyError in the future, you can use .reindex() as an alternative.\n",
      "\n",
      "See the documentation here:\n",
      "https://pandas.pydata.org/pandas-docs/stable/user_guide/indexing.html#deprecate-loc-reindex-listlike\n",
      "  \"\"\"Entry point for launching an IPython kernel.\n"
     ]
    },
    {
     "data": {
      "text/plain": [
       "55"
      ]
     },
     "execution_count": 172,
     "metadata": {},
     "output_type": "execute_result"
    }
   ],
   "source": [
    "sum(resulting_df.loc[top_1000_sum].loc[leaders.ID.astype(int).to_list()].sort_values('followers_qty').isna().all(axis=1))"
   ]
  },
  {
   "cell_type": "code",
   "execution_count": 176,
   "metadata": {},
   "outputs": [
    {
     "name": "stderr",
     "output_type": "stream",
     "text": [
      "/home/kim/.local/lib/python3.6/site-packages/ipykernel_launcher.py:1: FutureWarning: \n",
      "Passing list-likes to .loc or [] with any missing label will raise\n",
      "KeyError in the future, you can use .reindex() as an alternative.\n",
      "\n",
      "See the documentation here:\n",
      "https://pandas.pydata.org/pandas-docs/stable/user_guide/indexing.html#deprecate-loc-reindex-listlike\n",
      "  \"\"\"Entry point for launching an IPython kernel.\n"
     ]
    },
    {
     "data": {
      "text/plain": [
       "38264770      https://vk.com/id38264770\n",
       "241857          https://vk.com/id241857\n",
       "12549495      https://vk.com/id12549495\n",
       "267326387    https://vk.com/id267326387\n",
       "1516042        https://vk.com/id1516042\n",
       "2429322        https://vk.com/id2429322\n",
       "4602035        https://vk.com/id4602035\n",
       "936157          https://vk.com/id936157\n",
       "978265          https://vk.com/id978265\n",
       "12329839      https://vk.com/id12329839\n",
       "35208371      https://vk.com/id35208371\n",
       "20228219      https://vk.com/id20228219\n",
       "5757882        https://vk.com/id5757882\n",
       "43287096      https://vk.com/id43287096\n",
       "153460605    https://vk.com/id153460605\n",
       "37264961      https://vk.com/id37264961\n",
       "21453059      https://vk.com/id21453059\n",
       "305588155    https://vk.com/id305588155\n",
       "3499511        https://vk.com/id3499511\n",
       "15464543      https://vk.com/id15464543\n",
       "34573330      https://vk.com/id34573330\n",
       "61756961      https://vk.com/id61756961\n",
       "17786179      https://vk.com/id17786179\n",
       "14831271      https://vk.com/id14831271\n",
       "1128374        https://vk.com/id1128374\n",
       "13832488      https://vk.com/id13832488\n",
       "37832703      https://vk.com/id37832703\n",
       "68752101      https://vk.com/id68752101\n",
       "6182154        https://vk.com/id6182154\n",
       "1974659        https://vk.com/id1974659\n",
       "2247366        https://vk.com/id2247366\n",
       "2266466        https://vk.com/id2266466\n",
       "2690445        https://vk.com/id2690445\n",
       "1201763        https://vk.com/id1201763\n",
       "20559718      https://vk.com/id20559718\n",
       "16570928      https://vk.com/id16570928\n",
       "5492240        https://vk.com/id5492240\n",
       "559365          https://vk.com/id559365\n",
       "1159121        https://vk.com/id1159121\n",
       "241414429    https://vk.com/id241414429\n",
       "5730566        https://vk.com/id5730566\n",
       "499293654    https://vk.com/id499293654\n",
       "55171386      https://vk.com/id55171386\n",
       "301218          https://vk.com/id301218\n",
       "Name: url, dtype: object"
      ]
     },
     "execution_count": 176,
     "metadata": {},
     "output_type": "execute_result"
    }
   ],
   "source": [
    "resulting_df.loc[top_1000_sum].loc[leaders.ID.astype(int).to_list()].sort_values('followers_qty').dropna().url"
   ]
  },
  {
   "cell_type": "code",
   "execution_count": 68,
   "metadata": {},
   "outputs": [],
   "source": [
    "resulting_df.loc[top_1000_sum].sort_values(by='sum').to_csv('./leadership.metrics-top-sum-all-scores.csv', index_label='vk_id')"
   ]
  }
 ],
 "metadata": {
  "kernelspec": {
   "display_name": "Python 3",
   "language": "python",
   "name": "python3"
  },
  "language_info": {
   "codemirror_mode": {
    "name": "ipython",
    "version": 3
   },
   "file_extension": ".py",
   "mimetype": "text/x-python",
   "name": "python",
   "nbconvert_exporter": "python",
   "pygments_lexer": "ipython3",
   "version": "3.6.9"
  },
  "latex_envs": {
   "LaTeX_envs_menu_present": true,
   "autoclose": false,
   "autocomplete": true,
   "bibliofile": "biblio.bib",
   "cite_by": "apalike",
   "current_citInitial": 1,
   "eqLabelWithNumbers": true,
   "eqNumInitial": 1,
   "hotkeys": {
    "equation": "Ctrl-E",
    "itemize": "Ctrl-I"
   },
   "labels_anchors": false,
   "latex_user_defs": false,
   "report_style_numbering": false,
   "user_envs_cfg": false
  }
 },
 "nbformat": 4,
 "nbformat_minor": 2
}
