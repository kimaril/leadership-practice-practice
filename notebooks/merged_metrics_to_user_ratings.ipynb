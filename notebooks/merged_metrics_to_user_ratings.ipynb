{
 "cells": [
  {
   "cell_type": "code",
   "execution_count": 1,
   "metadata": {},
   "outputs": [],
   "source": [
    "import pandas as pd"
   ]
  },
  {
   "cell_type": "code",
   "execution_count": 2,
   "metadata": {},
   "outputs": [],
   "source": [
    "def getTop(df, column, n=10):\n",
    "    l = df[column].to_dict().items()\n",
    "    return sorted(l, key=lambda x : x[-1], reverse=True)[:n]\n",
    "\n",
    "def getRank(df, column):\n",
    "        return {k:i for i, (k, v) in enumerate(getTop(df, column, n=None), 1)}"
   ]
  },
  {
   "cell_type": "code",
   "execution_count": 3,
   "metadata": {},
   "outputs": [],
   "source": [
    "data = pd.read_csv('../data/all_features_unification.csv')\n",
    "data = data.set_index('uid')\n",
    "\n",
    "data['positive_text'] = data['positive_text'].fillna(value=0.0)\n",
    "data[['is_nsfw', 'has_smile', 'number_of_faces', 'has_face']] = \\\n",
    "data[['is_nsfw', 'has_smile', 'number_of_faces', 'has_face']].fillna(0.0).astype(int)\n",
    "\n",
    "del data['Unnamed: 0']"
   ]
  },
  {
   "cell_type": "code",
   "execution_count": 4,
   "metadata": {},
   "outputs": [],
   "source": [
    "rating_columns = data.columns[:5].to_list()\n",
    "\n",
    "ratings = {}\n",
    "for c in rating_columns:\n",
    "    ratings[c] = getRank(data, c)\n",
    "    \n",
    "ratings = pd.DataFrame(ratings)"
   ]
  },
  {
   "cell_type": "code",
   "execution_count": 5,
   "metadata": {},
   "outputs": [],
   "source": [
    "ratings['url'] = ratings.index.map(lambda x : f'https://vk.com/id{x}')"
   ]
  },
  {
   "cell_type": "code",
   "execution_count": 10,
   "metadata": {},
   "outputs": [],
   "source": [
    "resulting_df = pd.concat([ratings, data[['is_nsfw', 'has_smile', 'number_of_faces', 'has_face']]], axis=1)"
   ]
  },
  {
   "cell_type": "code",
   "execution_count": 15,
   "metadata": {},
   "outputs": [],
   "source": [
    "resulting_df.columns = resulting_df.columns[:-4].to_list() + ['Is NSFW', 'Has Smile', 'Number Of Faces', 'Has Face']"
   ]
  },
  {
   "cell_type": "code",
   "execution_count": 17,
   "metadata": {},
   "outputs": [],
   "source": [
    "resulting_df.to_csv('./leadership.metrics-top.csv', index_label='vk_id')"
   ]
  }
 ],
 "metadata": {
  "kernelspec": {
   "display_name": "Python 3",
   "language": "python",
   "name": "python3"
  },
  "language_info": {
   "codemirror_mode": {
    "name": "ipython",
    "version": 3
   },
   "file_extension": ".py",
   "mimetype": "text/x-python",
   "name": "python",
   "nbconvert_exporter": "python",
   "pygments_lexer": "ipython3",
   "version": "3.6.9"
  },
  "latex_envs": {
   "LaTeX_envs_menu_present": true,
   "autoclose": false,
   "autocomplete": true,
   "bibliofile": "biblio.bib",
   "cite_by": "apalike",
   "current_citInitial": 1,
   "eqLabelWithNumbers": true,
   "eqNumInitial": 1,
   "hotkeys": {
    "equation": "Ctrl-E",
    "itemize": "Ctrl-I"
   },
   "labels_anchors": false,
   "latex_user_defs": false,
   "report_style_numbering": false,
   "user_envs_cfg": false
  }
 },
 "nbformat": 4,
 "nbformat_minor": 2
}
