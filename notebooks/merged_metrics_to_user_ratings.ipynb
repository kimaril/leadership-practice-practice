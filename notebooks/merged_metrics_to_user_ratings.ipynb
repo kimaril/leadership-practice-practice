{
 "cells": [
  {
   "cell_type": "code",
   "execution_count": 1,
   "metadata": {},
   "outputs": [],
   "source": [
    "import pandas as pd"
   ]
  },
  {
   "cell_type": "code",
   "execution_count": 2,
   "metadata": {},
   "outputs": [],
   "source": [
    "def getTop(df, column, n=10):\n",
    "    l = df[column].to_dict().items()\n",
    "    return sorted(l, key=lambda x : x[-1], reverse=True)[:n]\n",
    "\n",
    "def getRank(df, column):\n",
    "        return {k:i for i, (k, v) in enumerate(getTop(df, column, n=None), 1)}"
   ]
  },
  {
   "cell_type": "code",
   "execution_count": 65,
   "metadata": {},
   "outputs": [],
   "source": [
    "data = pd.read_csv('../data/all_features_unification.csv')\n",
    "data = data.set_index('uid')\n",
    "\n",
    "data['positive_text'] = data['positive_text'].fillna(value=0.0)\n",
    "data[['is_nsfw', 'has_smile', 'number_of_faces', 'has_face']] = \\\n",
    "data[['is_nsfw', 'has_smile', 'number_of_faces', 'has_face']].fillna(0.0).astype(int)\n",
    "\n",
    "del data['Unnamed: 0']\n",
    "data.to_csv('../data/all_features_unification.csv', index_label='vk_id')"
   ]
  },
  {
   "cell_type": "code",
   "execution_count": 4,
   "metadata": {},
   "outputs": [],
   "source": [
    "rating_columns = data.columns[:5].to_list()\n",
    "\n",
    "ratings = {}\n",
    "for c in rating_columns:\n",
    "    ratings[c] = getRank(data, c)\n",
    "    \n",
    "ratings = pd.DataFrame(ratings)"
   ]
  },
  {
   "cell_type": "code",
   "execution_count": 5,
   "metadata": {},
   "outputs": [],
   "source": [
    "ratings['url'] = ratings.index.map(lambda x : f'https://vk.com/id{x}')"
   ]
  },
  {
   "cell_type": "code",
   "execution_count": 6,
   "metadata": {},
   "outputs": [],
   "source": [
    "resulting_df = pd.concat([ratings, data[['is_nsfw', 'has_smile', 'number_of_faces', 'has_face']]], axis=1)"
   ]
  },
  {
   "cell_type": "code",
   "execution_count": 7,
   "metadata": {},
   "outputs": [],
   "source": [
    "resulting_df.columns = resulting_df.columns[:-4].to_list() + ['Is NSFW', 'Has Smile', 'Number Of Faces', 'Has Face']"
   ]
  },
  {
   "cell_type": "code",
   "execution_count": 13,
   "metadata": {},
   "outputs": [
    {
     "data": {
      "text/html": [
       "<div>\n",
       "<style scoped>\n",
       "    .dataframe tbody tr th:only-of-type {\n",
       "        vertical-align: middle;\n",
       "    }\n",
       "\n",
       "    .dataframe tbody tr th {\n",
       "        vertical-align: top;\n",
       "    }\n",
       "\n",
       "    .dataframe thead th {\n",
       "        text-align: right;\n",
       "    }\n",
       "</style>\n",
       "<table border=\"1\" class=\"dataframe\">\n",
       "  <thead>\n",
       "    <tr style=\"text-align: right;\">\n",
       "      <th></th>\n",
       "      <th>Friendship Pagerank</th>\n",
       "      <th>Likes Pagerank</th>\n",
       "      <th>Eigencentrality score</th>\n",
       "      <th>Hits in score</th>\n",
       "      <th>Hits out score</th>\n",
       "      <th>url</th>\n",
       "      <th>Is NSFW</th>\n",
       "      <th>Has Smile</th>\n",
       "      <th>Number Of Faces</th>\n",
       "      <th>Has Face</th>\n",
       "    </tr>\n",
       "  </thead>\n",
       "  <tbody>\n",
       "    <tr>\n",
       "      <th>161</th>\n",
       "      <td>12044</td>\n",
       "      <td>4408</td>\n",
       "      <td>7767</td>\n",
       "      <td>6255</td>\n",
       "      <td>6255</td>\n",
       "      <td>https://vk.com/id161</td>\n",
       "      <td>0</td>\n",
       "      <td>0</td>\n",
       "      <td>0</td>\n",
       "      <td>0</td>\n",
       "    </tr>\n",
       "    <tr>\n",
       "      <th>169</th>\n",
       "      <td>727</td>\n",
       "      <td>392</td>\n",
       "      <td>7902</td>\n",
       "      <td>5481</td>\n",
       "      <td>5481</td>\n",
       "      <td>https://vk.com/id169</td>\n",
       "      <td>1</td>\n",
       "      <td>0</td>\n",
       "      <td>1</td>\n",
       "      <td>1</td>\n",
       "    </tr>\n",
       "    <tr>\n",
       "      <th>204</th>\n",
       "      <td>41208</td>\n",
       "      <td>35736</td>\n",
       "      <td>23474</td>\n",
       "      <td>21901</td>\n",
       "      <td>21901</td>\n",
       "      <td>https://vk.com/id204</td>\n",
       "      <td>0</td>\n",
       "      <td>1</td>\n",
       "      <td>1</td>\n",
       "      <td>1</td>\n",
       "    </tr>\n",
       "    <tr>\n",
       "      <th>247</th>\n",
       "      <td>49569</td>\n",
       "      <td>27695</td>\n",
       "      <td>27923</td>\n",
       "      <td>22714</td>\n",
       "      <td>22714</td>\n",
       "      <td>https://vk.com/id247</td>\n",
       "      <td>0</td>\n",
       "      <td>0</td>\n",
       "      <td>0</td>\n",
       "      <td>0</td>\n",
       "    </tr>\n",
       "    <tr>\n",
       "      <th>276</th>\n",
       "      <td>30983</td>\n",
       "      <td>30795</td>\n",
       "      <td>24784</td>\n",
       "      <td>24090</td>\n",
       "      <td>24090</td>\n",
       "      <td>https://vk.com/id276</td>\n",
       "      <td>0</td>\n",
       "      <td>1</td>\n",
       "      <td>1</td>\n",
       "      <td>1</td>\n",
       "    </tr>\n",
       "    <tr>\n",
       "      <th>...</th>\n",
       "      <td>...</td>\n",
       "      <td>...</td>\n",
       "      <td>...</td>\n",
       "      <td>...</td>\n",
       "      <td>...</td>\n",
       "      <td>...</td>\n",
       "      <td>...</td>\n",
       "      <td>...</td>\n",
       "      <td>...</td>\n",
       "      <td>...</td>\n",
       "    </tr>\n",
       "    <tr>\n",
       "      <th>542020665</th>\n",
       "      <td>11368</td>\n",
       "      <td>39867</td>\n",
       "      <td>42875</td>\n",
       "      <td>39217</td>\n",
       "      <td>39217</td>\n",
       "      <td>https://vk.com/id542020665</td>\n",
       "      <td>0</td>\n",
       "      <td>0</td>\n",
       "      <td>0</td>\n",
       "      <td>0</td>\n",
       "    </tr>\n",
       "    <tr>\n",
       "      <th>542026027</th>\n",
       "      <td>49340</td>\n",
       "      <td>33431</td>\n",
       "      <td>47835</td>\n",
       "      <td>47571</td>\n",
       "      <td>47571</td>\n",
       "      <td>https://vk.com/id542026027</td>\n",
       "      <td>0</td>\n",
       "      <td>0</td>\n",
       "      <td>2</td>\n",
       "      <td>1</td>\n",
       "    </tr>\n",
       "    <tr>\n",
       "      <th>542621368</th>\n",
       "      <td>42131</td>\n",
       "      <td>48150</td>\n",
       "      <td>27374</td>\n",
       "      <td>25455</td>\n",
       "      <td>25455</td>\n",
       "      <td>https://vk.com/id542621368</td>\n",
       "      <td>0</td>\n",
       "      <td>0</td>\n",
       "      <td>0</td>\n",
       "      <td>0</td>\n",
       "    </tr>\n",
       "    <tr>\n",
       "      <th>543139718</th>\n",
       "      <td>40328</td>\n",
       "      <td>47499</td>\n",
       "      <td>47556</td>\n",
       "      <td>48406</td>\n",
       "      <td>48406</td>\n",
       "      <td>https://vk.com/id543139718</td>\n",
       "      <td>0</td>\n",
       "      <td>0</td>\n",
       "      <td>0</td>\n",
       "      <td>0</td>\n",
       "    </tr>\n",
       "    <tr>\n",
       "      <th>544559319</th>\n",
       "      <td>46236</td>\n",
       "      <td>45049</td>\n",
       "      <td>35014</td>\n",
       "      <td>32700</td>\n",
       "      <td>32700</td>\n",
       "      <td>https://vk.com/id544559319</td>\n",
       "      <td>0</td>\n",
       "      <td>0</td>\n",
       "      <td>0</td>\n",
       "      <td>0</td>\n",
       "    </tr>\n",
       "  </tbody>\n",
       "</table>\n",
       "<p>50041 rows × 10 columns</p>\n",
       "</div>"
      ],
      "text/plain": [
       "           Friendship Pagerank  Likes Pagerank  Eigencentrality score  \\\n",
       "161                      12044            4408                   7767   \n",
       "169                        727             392                   7902   \n",
       "204                      41208           35736                  23474   \n",
       "247                      49569           27695                  27923   \n",
       "276                      30983           30795                  24784   \n",
       "...                        ...             ...                    ...   \n",
       "542020665                11368           39867                  42875   \n",
       "542026027                49340           33431                  47835   \n",
       "542621368                42131           48150                  27374   \n",
       "543139718                40328           47499                  47556   \n",
       "544559319                46236           45049                  35014   \n",
       "\n",
       "           Hits in score  Hits out score                         url  Is NSFW  \\\n",
       "161                 6255            6255        https://vk.com/id161        0   \n",
       "169                 5481            5481        https://vk.com/id169        1   \n",
       "204                21901           21901        https://vk.com/id204        0   \n",
       "247                22714           22714        https://vk.com/id247        0   \n",
       "276                24090           24090        https://vk.com/id276        0   \n",
       "...                  ...             ...                         ...      ...   \n",
       "542020665          39217           39217  https://vk.com/id542020665        0   \n",
       "542026027          47571           47571  https://vk.com/id542026027        0   \n",
       "542621368          25455           25455  https://vk.com/id542621368        0   \n",
       "543139718          48406           48406  https://vk.com/id543139718        0   \n",
       "544559319          32700           32700  https://vk.com/id544559319        0   \n",
       "\n",
       "           Has Smile  Number Of Faces  Has Face  \n",
       "161                0                0         0  \n",
       "169                0                1         1  \n",
       "204                1                1         1  \n",
       "247                0                0         0  \n",
       "276                1                1         1  \n",
       "...              ...              ...       ...  \n",
       "542020665          0                0         0  \n",
       "542026027          0                2         1  \n",
       "542621368          0                0         0  \n",
       "543139718          0                0         0  \n",
       "544559319          0                0         0  \n",
       "\n",
       "[50041 rows x 10 columns]"
      ]
     },
     "execution_count": 13,
     "metadata": {},
     "output_type": "execute_result"
    }
   ],
   "source": [
    "resulting_df"
   ]
  },
  {
   "cell_type": "code",
   "execution_count": 35,
   "metadata": {},
   "outputs": [],
   "source": [
    "top_1000_friendship_pagerank = set(resulting_df.sort_values('Friendship Pagerank').index.to_list()[:10000])\n",
    "top_1000_likes_pagerank = set(resulting_df.sort_values('Likes Pagerank').index.to_list()[:10000])\n",
    "top_1000_eigen = set(resulting_df.sort_values('Eigencentrality score').index.to_list()[:10000])\n",
    "top_100_hitsin = set(resulting_df.sort_values('Hits in score').index.to_list()[:100])\n",
    "top_100_hitsout = set(resulting_df.sort_values('Hits out score').index.to_list()[:100])\n",
    "top_1000_hitsin = set(resulting_df.sort_values('Hits in score').index.to_list()[:10000])\n",
    "top_1000_hitsout = set(resulting_df.sort_values('Hits out score').index.to_list()[:10000])"
   ]
  },
  {
   "cell_type": "code",
   "execution_count": 36,
   "metadata": {
    "scrolled": true
   },
   "outputs": [
    {
     "data": {
      "text/plain": [
       "1776"
      ]
     },
     "execution_count": 36,
     "metadata": {},
     "output_type": "execute_result"
    }
   ],
   "source": [
    "len(top_1000_friendship_pagerank.intersection(top_1000_likes_pagerank).intersection(top_1000_eigen))"
   ]
  },
  {
   "cell_type": "code",
   "execution_count": 38,
   "metadata": {},
   "outputs": [],
   "source": [
    "resulting_df.loc[top_1000_friendship_pagerank.intersection(top_1000_likes_pagerank).intersection(top_1000_eigen)].\\\n",
    "sort_values('Friendship Pagerank').to_csv('./leadership.metrics-top-from-10K-all-scores.csv', index_label='vk_id')"
   ]
  },
  {
   "cell_type": "code",
   "execution_count": 40,
   "metadata": {},
   "outputs": [],
   "source": [
    "resulting_df['Average Pagerank Rate'] = \\\n",
    "((resulting_df['Friendship Pagerank'].astype(float) + resulting_df['Likes Pagerank'].astype(float))/2).\\\n",
    "apply(lambda x : round(x, 2))\n",
    "resulting_df['Average Eigencentrality+Hits Rate'] = \\\n",
    "((resulting_df['Eigencentrality score'].astype(float) + resulting_df['Hits in score'].astype(float) + \\\n",
    "  resulting_df['Hits out score'].astype(float))/3).apply(lambda x : round(x, 2))"
   ]
  },
  {
   "cell_type": "code",
   "execution_count": 44,
   "metadata": {},
   "outputs": [],
   "source": [
    "top_500_pagerank = set(resulting_df.sort_values('Average Pagerank Rate').index.to_list()[:500])\n",
    "top_500_eigenhits = set(resulting_df.sort_values('Average Eigencentrality+Hits Rate').index.to_list()[:500])\n",
    "\n",
    "top_1000_pagerank = set(resulting_df.sort_values('Average Pagerank Rate').index.to_list()[:1000])\n",
    "top_1000_eigenhits = set(resulting_df.sort_values('Average Eigencentrality+Hits Rate').index.to_list()[:1000])"
   ]
  },
  {
   "cell_type": "code",
   "execution_count": 43,
   "metadata": {},
   "outputs": [
    {
     "data": {
      "text/plain": [
       "33"
      ]
     },
     "execution_count": 43,
     "metadata": {},
     "output_type": "execute_result"
    }
   ],
   "source": [
    "len(top_500_eigenhits.intersection(top_500_pagerank))"
   ]
  },
  {
   "cell_type": "code",
   "execution_count": 49,
   "metadata": {},
   "outputs": [],
   "source": [
    "resulting_df.loc[top_500_eigenhits.intersection(top_500_pagerank)].sort_values('Average Pagerank Rate').\\\n",
    "to_csv('./leadership.metrics-top-avg-500.csv', index_label='vk_id')"
   ]
  },
  {
   "cell_type": "code",
   "execution_count": 45,
   "metadata": {},
   "outputs": [
    {
     "data": {
      "text/plain": [
       "58"
      ]
     },
     "execution_count": 45,
     "metadata": {},
     "output_type": "execute_result"
    }
   ],
   "source": [
    "len(top_1000_eigenhits.intersection(top_1000_pagerank))"
   ]
  },
  {
   "cell_type": "code",
   "execution_count": 50,
   "metadata": {},
   "outputs": [],
   "source": [
    "resulting_df.loc[top_1000_eigenhits.intersection(top_1000_pagerank)].sort_values('Average Pagerank Rate').\\\n",
    "to_csv('./leadership.metrics-top-avg-1000.csv', index_label='vk_id')"
   ]
  },
  {
   "cell_type": "code",
   "execution_count": 60,
   "metadata": {},
   "outputs": [],
   "source": [
    "resulting_df['Average by all features'] = resulting_df[resulting_df.columns[:5]].astype(int).sum(axis=1)/5"
   ]
  },
  {
   "cell_type": "code",
   "execution_count": 63,
   "metadata": {},
   "outputs": [],
   "source": [
    "resulting_df.sort_values('Average by all features').head(500).\\\n",
    "to_csv('./leadership.metrics-top-all-average-500.csv', index_label='vk_id')"
   ]
  },
  {
   "cell_type": "code",
   "execution_count": 29,
   "metadata": {},
   "outputs": [],
   "source": [
    "resulting_df.loc[top_100_hitsin.intersection(top_100_hitsout)].\\\n",
    "sort_values('Hits in score').to_csv('./leadership.metrics-top-hits.csv', index_label='vk_id')"
   ]
  },
  {
   "cell_type": "code",
   "execution_count": 64,
   "metadata": {},
   "outputs": [],
   "source": [
    "resulting_df.to_csv('./leadership.metrics-top.csv', index_label='vk_id')"
   ]
  }
 ],
 "metadata": {
  "kernelspec": {
   "display_name": "Python 3",
   "language": "python",
   "name": "python3"
  },
  "language_info": {
   "codemirror_mode": {
    "name": "ipython",
    "version": 3
   },
   "file_extension": ".py",
   "mimetype": "text/x-python",
   "name": "python",
   "nbconvert_exporter": "python",
   "pygments_lexer": "ipython3",
   "version": "3.6.9"
  },
  "latex_envs": {
   "LaTeX_envs_menu_present": true,
   "autoclose": false,
   "autocomplete": true,
   "bibliofile": "biblio.bib",
   "cite_by": "apalike",
   "current_citInitial": 1,
   "eqLabelWithNumbers": true,
   "eqNumInitial": 1,
   "hotkeys": {
    "equation": "Ctrl-E",
    "itemize": "Ctrl-I"
   },
   "labels_anchors": false,
   "latex_user_defs": false,
   "report_style_numbering": false,
   "user_envs_cfg": false
  }
 },
 "nbformat": 4,
 "nbformat_minor": 2
}
