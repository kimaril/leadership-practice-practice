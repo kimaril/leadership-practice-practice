{
 "cells": [
  {
   "cell_type": "markdown",
   "metadata": {},
   "source": [
    "## PCA "
   ]
  },
  {
   "cell_type": "markdown",
   "metadata": {},
   "source": [
    "Принцип работы метода хорошо описан здесь: https://habr.com/ru/post/304214/\n",
    "\n",
    "Количество \"групп\" в данных при каждом запуске PCA равно параметру n_components. Собственное значение матрицы ковариации, соответствующее каждой компоненте, можно считать показателем важности этой группы в наших данны - чем больше это значение, тем больше разброса в данных мы потеряем, если уберем эту группу. Сохранение variance данных - основное ограничение PCA. \n",
    "\n",
    "Каждому собственному значению соответствует собственный вектор. Каждый его элемент указывает на то, как коррелированы принадлежность объекта к этой группе и значения признака. Порядок признаков неизменен."
   ]
  },
  {
   "cell_type": "markdown",
   "metadata": {},
   "source": [
    "## Просто запустите этот ноутбук с помощью \"Restart and Run All\""
   ]
  },
  {
   "cell_type": "code",
   "execution_count": 1,
   "metadata": {},
   "outputs": [],
   "source": [
    "from sklearn.decomposition import PCA\n",
    "from sklearn.preprocessing import StandardScaler\n",
    "import matplotlib.pyplot as plt\n",
    "import pandas as pd\n",
    "import numpy as np\n",
    "from ipywidgets import interact\n",
    "import seaborn as sns\n",
    "%matplotlib inline"
   ]
  },
  {
   "cell_type": "code",
   "execution_count": 2,
   "metadata": {},
   "outputs": [],
   "source": [
    "def plot_pca(pca, eigenvalues):\n",
    "    tot = sum(eigenvalues)\n",
    "    var_exp = [(i / tot)*100 for i in sorted(eigenvalues, reverse=True)]\n",
    "    cum_var_exp = np.cumsum(var_exp)\n",
    "    with plt.style.context('seaborn-whitegrid'):\n",
    "        plt.figure(figsize=(6, 4))\n",
    "\n",
    "        plt.bar(range(pca.n_components_), var_exp, alpha=0.5, align='center',\n",
    "                label='individual explained variance')\n",
    "        plt.step(range(pca.n_components_), cum_var_exp, where='mid',\n",
    "                 label='cumulative explained variance')\n",
    "        plt.ylabel('Explained variance ratio')\n",
    "        plt.xlabel('Principal components')\n",
    "        plt.legend(loc='best')\n",
    "        plt.tight_layout()\n",
    "        \n",
    "        plt.show()\n",
    "\n",
    "def eigen_to_dict(eigenvalue, eigenvector):    \n",
    "    eigendict = dict(zip(data.columns, eigenvector))\n",
    "    eigendict['Eigenvalue'] = eigenvalue\n",
    "    return eigendict"
   ]
  },
  {
   "cell_type": "markdown",
   "metadata": {},
   "source": [
    "### Число главных компонент можно изменять с помощью \"бегунка\", в ячейке ниже можно задать значение \"all\", \"except_pic\", \"pic\" - то, какие признаки учитывать в PCA."
   ]
  },
  {
   "cell_type": "code",
   "execution_count": null,
   "metadata": {},
   "outputs": [],
   "source": [
    "с = 'all'"
   ]
  },
  {
   "cell_type": "code",
   "execution_count": 3,
   "metadata": {},
   "outputs": [
    {
     "ename": "NameError",
     "evalue": "name 'с' is not defined",
     "output_type": "error",
     "traceback": [
      "\u001b[0;31m---------------------------------------------------------------------------\u001b[0m",
      "\u001b[0;31mNameError\u001b[0m                                 Traceback (most recent call last)",
      "\u001b[0;32m<ipython-input-3-e852f96bee8f>\u001b[0m in \u001b[0;36m<module>\u001b[0;34m\u001b[0m\n\u001b[1;32m      7\u001b[0m }\n\u001b[1;32m      8\u001b[0m \u001b[0;34m\u001b[0m\u001b[0m\n\u001b[0;32m----> 9\u001b[0;31m \u001b[0mcols\u001b[0m \u001b[0;34m=\u001b[0m \u001b[0mcolumns\u001b[0m\u001b[0;34m[\u001b[0m\u001b[0mс\u001b[0m\u001b[0;34m]\u001b[0m\u001b[0;34m\u001b[0m\u001b[0;34m\u001b[0m\u001b[0m\n\u001b[0m\u001b[1;32m     10\u001b[0m \u001b[0;34m\u001b[0m\u001b[0m\n\u001b[1;32m     11\u001b[0m \u001b[0;32mif\u001b[0m \u001b[0mcols\u001b[0m\u001b[0;34m:\u001b[0m\u001b[0;34m\u001b[0m\u001b[0;34m\u001b[0m\u001b[0m\n",
      "\u001b[0;31mNameError\u001b[0m: name 'с' is not defined"
     ]
    }
   ],
   "source": [
    "data = pd.read_csv('../data/all_features_unification.csv', index_col='vk_id')\n",
    "\n",
    "columns = {\n",
    "    'all' : None, \n",
    "    'except_pic' : data.columns[:5].to_list() + ['positive_text'], \n",
    "    'pic' : ['is_nsfw', 'has_smile', 'number_of_faces', 'has_face']\n",
    "}\n",
    "\n",
    "cols = columns[с]\n",
    "\n",
    "if cols:\n",
    "    data = data[cols].copy(deep=True)"
   ]
  },
  {
   "cell_type": "code",
   "execution_count": null,
   "metadata": {},
   "outputs": [],
   "source": [
    "@interact\n",
    "def show_pca(n=(2, data.shape[-1], 1)):\n",
    "    scaler = StandardScaler()\n",
    "    scaled_data = scaler.fit_transform(data)\n",
    "    pca = PCA(n_components=n)\n",
    "    transformed = pca.fit_transform(scaled_data)\n",
    "    n_samples = scaled_data.shape[0]\n",
    "    # We center the data and compute the sample covariance matrix.\n",
    "    scaled_data -= np.mean(scaled_data, axis=0)\n",
    "    cov_matrix = np.dot(scaled_data.T, scaled_data) / n_samples\n",
    "    eigenvalues = pca.explained_variance_\n",
    "    plot_pca(pca, eigenvalues)\n",
    "    df = pd.DataFrame.from_records([eigen_to_dict(eigenvalue, eigenvector) \n",
    "                                    for eigenvalue, eigenvector in zip(eigenvalues, pca.components_)], index=range(1, n+1))\n",
    "    return df"
   ]
  }
 ],
 "metadata": {
  "anaconda-cloud": {},
  "kernelspec": {
   "display_name": "leadership",
   "language": "python",
   "name": "leadership"
  },
  "language_info": {
   "codemirror_mode": {
    "name": "ipython",
    "version": 3
   },
   "file_extension": ".py",
   "mimetype": "text/x-python",
   "name": "python",
   "nbconvert_exporter": "python",
   "pygments_lexer": "ipython3",
   "version": "3.6.9"
  },
  "latex_envs": {
   "LaTeX_envs_menu_present": true,
   "autoclose": false,
   "autocomplete": true,
   "bibliofile": "biblio.bib",
   "cite_by": "apalike",
   "current_citInitial": 1,
   "eqLabelWithNumbers": true,
   "eqNumInitial": 1,
   "hotkeys": {
    "equation": "Ctrl-E",
    "itemize": "Ctrl-I"
   },
   "labels_anchors": false,
   "latex_user_defs": false,
   "report_style_numbering": false,
   "user_envs_cfg": false
  }
 },
 "nbformat": 4,
 "nbformat_minor": 1
}
