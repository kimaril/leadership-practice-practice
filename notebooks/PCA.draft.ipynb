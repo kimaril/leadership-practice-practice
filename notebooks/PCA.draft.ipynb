{
 "cells": [
  {
   "cell_type": "code",
   "execution_count": 1,
   "metadata": {},
   "outputs": [],
   "source": [
    "from sklearn.decomposition import PCA\n",
    "from sklearn.preprocessing import StandardScaler\n",
    "import pandas as pd\n",
    "import numpy as np\n",
    "cols = None"
   ]
  },
  {
   "cell_type": "markdown",
   "metadata": {},
   "source": [
    "## Load the Data"
   ]
  },
  {
   "cell_type": "code",
   "execution_count": 2,
   "metadata": {},
   "outputs": [],
   "source": [
    "data = pd.read_csv('../data/all_features_unification.csv', index_col='vk_id')\n",
    "# cols = data.columns[:5].to_list() + ['positive_text']"
   ]
  },
  {
   "cell_type": "code",
   "execution_count": 3,
   "metadata": {},
   "outputs": [],
   "source": [
    "if cols:\n",
    "    data = data[cols].copy(deep=True)"
   ]
  },
  {
   "cell_type": "code",
   "execution_count": 4,
   "metadata": {},
   "outputs": [
    {
     "data": {
      "text/html": [
       "<div>\n",
       "<style scoped>\n",
       "    .dataframe tbody tr th:only-of-type {\n",
       "        vertical-align: middle;\n",
       "    }\n",
       "\n",
       "    .dataframe tbody tr th {\n",
       "        vertical-align: top;\n",
       "    }\n",
       "\n",
       "    .dataframe thead th {\n",
       "        text-align: right;\n",
       "    }\n",
       "</style>\n",
       "<table border=\"1\" class=\"dataframe\">\n",
       "  <thead>\n",
       "    <tr style=\"text-align: right;\">\n",
       "      <th></th>\n",
       "      <th>Friendship Pagerank</th>\n",
       "      <th>Likes Pagerank</th>\n",
       "      <th>Eigencentrality score</th>\n",
       "      <th>Hits in score</th>\n",
       "      <th>Hits out score</th>\n",
       "      <th>is_nsfw</th>\n",
       "      <th>has_smile</th>\n",
       "      <th>number_of_faces</th>\n",
       "      <th>has_face</th>\n",
       "      <th>positive_text</th>\n",
       "    </tr>\n",
       "    <tr>\n",
       "      <th>vk_id</th>\n",
       "      <th></th>\n",
       "      <th></th>\n",
       "      <th></th>\n",
       "      <th></th>\n",
       "      <th></th>\n",
       "      <th></th>\n",
       "      <th></th>\n",
       "      <th></th>\n",
       "      <th></th>\n",
       "      <th></th>\n",
       "    </tr>\n",
       "  </thead>\n",
       "  <tbody>\n",
       "    <tr>\n",
       "      <th>270663680</th>\n",
       "      <td>0.000044</td>\n",
       "      <td>0.000000</td>\n",
       "      <td>8.071682e-07</td>\n",
       "      <td>2.340554e-09</td>\n",
       "      <td>2.340554e-09</td>\n",
       "      <td>0</td>\n",
       "      <td>1</td>\n",
       "      <td>1</td>\n",
       "      <td>1</td>\n",
       "      <td>0.000000</td>\n",
       "    </tr>\n",
       "    <tr>\n",
       "      <th>252444674</th>\n",
       "      <td>0.000008</td>\n",
       "      <td>0.000015</td>\n",
       "      <td>3.500893e-07</td>\n",
       "      <td>3.123336e-09</td>\n",
       "      <td>3.123336e-09</td>\n",
       "      <td>0</td>\n",
       "      <td>1</td>\n",
       "      <td>1</td>\n",
       "      <td>1</td>\n",
       "      <td>0.269565</td>\n",
       "    </tr>\n",
       "    <tr>\n",
       "      <th>68681732</th>\n",
       "      <td>0.000031</td>\n",
       "      <td>0.000000</td>\n",
       "      <td>3.200321e-09</td>\n",
       "      <td>5.000189e-11</td>\n",
       "      <td>5.000189e-11</td>\n",
       "      <td>0</td>\n",
       "      <td>0</td>\n",
       "      <td>0</td>\n",
       "      <td>0</td>\n",
       "      <td>1.000000</td>\n",
       "    </tr>\n",
       "    <tr>\n",
       "      <th>655365</th>\n",
       "      <td>0.000010</td>\n",
       "      <td>0.000005</td>\n",
       "      <td>5.979868e-08</td>\n",
       "      <td>7.954314e-10</td>\n",
       "      <td>7.954314e-10</td>\n",
       "      <td>0</td>\n",
       "      <td>0</td>\n",
       "      <td>0</td>\n",
       "      <td>0</td>\n",
       "      <td>0.000000</td>\n",
       "    </tr>\n",
       "    <tr>\n",
       "      <th>147324934</th>\n",
       "      <td>0.000012</td>\n",
       "      <td>0.000017</td>\n",
       "      <td>1.257540e-02</td>\n",
       "      <td>4.413032e-04</td>\n",
       "      <td>4.413032e-04</td>\n",
       "      <td>0</td>\n",
       "      <td>0</td>\n",
       "      <td>0</td>\n",
       "      <td>0</td>\n",
       "      <td>0.000000</td>\n",
       "    </tr>\n",
       "  </tbody>\n",
       "</table>\n",
       "</div>"
      ],
      "text/plain": [
       "           Friendship Pagerank  Likes Pagerank  Eigencentrality score  \\\n",
       "vk_id                                                                   \n",
       "270663680             0.000044        0.000000           8.071682e-07   \n",
       "252444674             0.000008        0.000015           3.500893e-07   \n",
       "68681732              0.000031        0.000000           3.200321e-09   \n",
       "655365                0.000010        0.000005           5.979868e-08   \n",
       "147324934             0.000012        0.000017           1.257540e-02   \n",
       "\n",
       "           Hits in score  Hits out score  is_nsfw  has_smile  number_of_faces  \\\n",
       "vk_id                                                                           \n",
       "270663680   2.340554e-09    2.340554e-09        0          1                1   \n",
       "252444674   3.123336e-09    3.123336e-09        0          1                1   \n",
       "68681732    5.000189e-11    5.000189e-11        0          0                0   \n",
       "655365      7.954314e-10    7.954314e-10        0          0                0   \n",
       "147324934   4.413032e-04    4.413032e-04        0          0                0   \n",
       "\n",
       "           has_face  positive_text  \n",
       "vk_id                               \n",
       "270663680         1       0.000000  \n",
       "252444674         1       0.269565  \n",
       "68681732          0       1.000000  \n",
       "655365            0       0.000000  \n",
       "147324934         0       0.000000  "
      ]
     },
     "execution_count": 4,
     "metadata": {},
     "output_type": "execute_result"
    }
   ],
   "source": [
    "data.head()"
   ]
  },
  {
   "cell_type": "code",
   "execution_count": 5,
   "metadata": {},
   "outputs": [
    {
     "data": {
      "text/plain": [
       "(50041, 10)"
      ]
     },
     "execution_count": 5,
     "metadata": {},
     "output_type": "execute_result"
    }
   ],
   "source": [
    "data.shape"
   ]
  },
  {
   "cell_type": "markdown",
   "metadata": {},
   "source": [
    "## Standardizing the Data"
   ]
  },
  {
   "cell_type": "code",
   "execution_count": 6,
   "metadata": {},
   "outputs": [],
   "source": [
    "scaler = StandardScaler()\n",
    "scaled_data = scaler.fit_transform(data)"
   ]
  },
  {
   "cell_type": "markdown",
   "metadata": {},
   "source": [
    "## PCA "
   ]
  },
  {
   "cell_type": "markdown",
   "metadata": {},
   "source": [
    "Make an instance of the Model"
   ]
  },
  {
   "cell_type": "code",
   "execution_count": 7,
   "metadata": {},
   "outputs": [],
   "source": [
    "pca = PCA(.95)"
   ]
  },
  {
   "cell_type": "markdown",
   "metadata": {},
   "source": [
    "Fit PCA and apply the mapping (transform). "
   ]
  },
  {
   "cell_type": "code",
   "execution_count": 8,
   "metadata": {},
   "outputs": [
    {
     "data": {
      "text/plain": [
       "array([[-0.55125818,  1.6617373 , -0.19966393,  0.70962256, -0.09144309,\n",
       "        -1.05432007],\n",
       "       [-0.60468905,  1.67357621, -0.56746295,  0.28225218, -0.5873806 ,\n",
       "        -1.00990389],\n",
       "       [ 0.00388654, -1.40941216,  0.46622172, -1.13711167, -1.35512949,\n",
       "        -0.0789947 ],\n",
       "       ...,\n",
       "       [ 0.0093607 , -1.33783377,  0.45192331, -1.14614587, -1.37051376,\n",
       "        -0.04830828],\n",
       "       [ 0.00477607, -1.56134721, -0.32737667,  0.1912643 ,  0.13132292,\n",
       "        -0.11592383],\n",
       "       [-0.00369752, -1.57216414, -0.41373288,  0.18163764,  0.1183572 ,\n",
       "        -0.11349148]])"
      ]
     },
     "execution_count": 8,
     "metadata": {},
     "output_type": "execute_result"
    }
   ],
   "source": [
    "pca.fit_transform(scaled_data)"
   ]
  },
  {
   "cell_type": "code",
   "execution_count": 9,
   "metadata": {
    "scrolled": true
   },
   "outputs": [
    {
     "data": {
      "text/plain": [
       "6"
      ]
     },
     "execution_count": 9,
     "metadata": {},
     "output_type": "execute_result"
    }
   ],
   "source": [
    "pca.n_components_"
   ]
  },
  {
   "cell_type": "code",
   "execution_count": 10,
   "metadata": {},
   "outputs": [
    {
     "data": {
      "text/plain": [
       "array([3.05271777, 2.21136075, 1.63431864, 0.98685067, 0.97521797,\n",
       "       0.68705802])"
      ]
     },
     "execution_count": 10,
     "metadata": {},
     "output_type": "execute_result"
    }
   ],
   "source": [
    "pca.explained_variance_"
   ]
  },
  {
   "cell_type": "code",
   "execution_count": 11,
   "metadata": {},
   "outputs": [
    {
     "name": "stdout",
     "output_type": "stream",
     "text": [
      "[ 0.06818958  0.07521791  0.56347742  0.56338411  0.56338411 -0.03275727\n",
      " -0.09128054 -0.11074368 -0.12346739 -0.02165182]\n",
      "3.052717768230226\n",
      "[0.08709698 0.19754221 0.09707421 0.09752527 0.09752527 0.12732227\n",
      " 0.44857133 0.56941077 0.61747304 0.0449072 ]\n",
      "2.211360750987521\n",
      "[ 0.69540098  0.66290105 -0.07599368 -0.0765734  -0.0765734  -0.03471878\n",
      " -0.07610764 -0.11697115 -0.11532724  0.15967869]\n",
      "1.6343186447127085\n",
      "[ 0.07752118  0.06228193 -0.01551913 -0.01576674 -0.01576674 -0.73724957\n",
      "  0.11699855  0.05261549  0.04262042 -0.65388295]\n",
      "0.9868506672044974\n",
      "[ 0.10440927  0.07885201 -0.0128672  -0.01304199 -0.01304199  0.65173767\n",
      " -0.11695683 -0.01620064 -0.01467994 -0.73719499]\n",
      "0.9752179691901858\n",
      "[-0.01958661  0.02864134 -0.00292701 -0.00281889 -0.00281889 -0.10878844\n",
      " -0.84236747  0.49864301  0.16778438  0.02360609]\n",
      "0.6870580220835841\n"
     ]
    }
   ],
   "source": [
    "n_samples = scaled_data.shape[0]\n",
    "# We center the data and compute the sample covariance matrix.\n",
    "scaled_data -= np.mean(scaled_data, axis=0)\n",
    "cov_matrix = np.dot(scaled_data.T, scaled_data) / n_samples\n",
    "eigenvalues = pca.explained_variance_\n",
    "for eigenvalue, eigenvector in zip(eigenvalues, pca.components_):    \n",
    "    print(eigenvector)\n",
    "    print(eigenvalue)"
   ]
  }
 ],
 "metadata": {
  "anaconda-cloud": {},
  "kernelspec": {
   "display_name": "Python 3",
   "language": "python",
   "name": "python3"
  },
  "language_info": {
   "codemirror_mode": {
    "name": "ipython",
    "version": 3
   },
   "file_extension": ".py",
   "mimetype": "text/x-python",
   "name": "python",
   "nbconvert_exporter": "python",
   "pygments_lexer": "ipython3",
   "version": "3.6.9"
  },
  "latex_envs": {
   "LaTeX_envs_menu_present": true,
   "autoclose": false,
   "autocomplete": true,
   "bibliofile": "biblio.bib",
   "cite_by": "apalike",
   "current_citInitial": 1,
   "eqLabelWithNumbers": true,
   "eqNumInitial": 1,
   "hotkeys": {
    "equation": "Ctrl-E",
    "itemize": "Ctrl-I"
   },
   "labels_anchors": false,
   "latex_user_defs": false,
   "report_style_numbering": false,
   "user_envs_cfg": false
  }
 },
 "nbformat": 4,
 "nbformat_minor": 1
}
